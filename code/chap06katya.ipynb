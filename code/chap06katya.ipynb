{
 "cells": [
  {
   "cell_type": "markdown",
   "metadata": {},
   "source": [
    "# Game of Life\n",
    "\n",
    "Code examples from [Think Complexity, 2nd edition](http://greenteapress.com/wp/complexity2), Chapter 6\n",
    "\n",
    "Copyright 2016 Allen Downey, [MIT License](http://opensource.org/licenses/MIT)"
   ]
  },
  {
   "cell_type": "markdown",
   "metadata": {},
   "source": [
    "For the animations in this notebook to work, you might have to install\n",
    "ffmpeg.  On Ubuntu and Linux Mint, the following should do it:\n",
    "\n",
    "    sudo add-apt-repository ppa:mc3man/trusty-media\n",
    "    sudo apt-get update\n",
    "    sudo apt-get install ffmpeg\n",
    "    \n",
    "If you have instructions for other operating systems, please let me know and I will add them here."
   ]
  },
  {
   "cell_type": "code",
   "execution_count": 33,
   "metadata": {
    "collapsed": true
   },
   "outputs": [],
   "source": [
    "from __future__ import print_function, division\n",
    "from Cell2D import Cell2D, Cell2DViewer\n",
    "from matplotlib.patches import RegularPolygon\n",
    "\n",
    "\n",
    "%matplotlib inline\n",
    "%precision 3\n",
    "\n",
    "import warnings\n",
    "warnings.filterwarnings('ignore')\n",
    "\n",
    "import numpy as np\n",
    "import matplotlib.pyplot as plt\n",
    "\n",
    "import thinkplot\n",
    "\n",
    "from matplotlib import rc\n",
    "rc('animation', html='html5')"
   ]
  },
  {
   "cell_type": "markdown",
   "metadata": {},
   "source": [
    "## Game of Life entities"
   ]
  },
  {
   "cell_type": "code",
   "execution_count": 3,
   "metadata": {
    "collapsed": true
   },
   "outputs": [],
   "source": [
    "from Life import Life, LifeViewer\n",
    "\n",
    "def make_viewer(n, m, row, col, *strings):\n",
    "    \"\"\"Makes a Life and LifeViewer object.\n",
    "    \n",
    "    n, m: rows and columns of the Life array\n",
    "    row, col: upper left coordinate of the cells to be added\n",
    "    strings: list of strings of '0' and '1'\n",
    "    \"\"\"\n",
    "    life = Life(n, m)\n",
    "    life.add_cells(row, col, *strings)\n",
    "    viewer = LifeViewer(life)\n",
    "    return viewer"
   ]
  },
  {
   "cell_type": "markdown",
   "metadata": {},
   "source": [
    "A beehive is a stable entity, also called a \"still life\""
   ]
  },
  {
   "cell_type": "code",
   "execution_count": 4,
   "metadata": {},
   "outputs": [
    {
     "data": {
      "image/png": "[encoded data removed]",
      "text/plain": [
       "<matplotlib.figure.Figure at 0x7f1f08c26198>"
      ]
     },
     "metadata": {},
     "output_type": "display_data"
    }
   ],
   "source": [
    "# beehive\n",
    "viewer = make_viewer(3, 4, 0, 0, '0110', '1001', '0110')\n",
    "viewer.draw(grid=True)\n",
    "plt.savefig('chap06-1.pdf')"
   ]
  },
  {
   "cell_type": "markdown",
   "metadata": {},
   "source": [
    "Here's what it looks like after one step:"
   ]
  },
  {
   "cell_type": "code",
   "execution_count": 5,
   "metadata": {},
   "outputs": [
    {
     "data": {
      "image/png": "[encoded data removed]",
      "text/plain": [
       "<matplotlib.figure.Figure at 0x7f1f08c12eb8>"
      ]
     },
     "metadata": {},
     "output_type": "display_data"
    }
   ],
   "source": [
    "viewer.step()\n",
    "viewer.draw(grid=True)"
   ]
  },
  {
   "cell_type": "markdown",
   "metadata": {},
   "source": [
    "A toad is an oscillator with period 2.  Here's are its two configurations:"
   ]
  },
  {
   "cell_type": "code",
   "execution_count": 6,
   "metadata": {
    "scrolled": true
   },
   "outputs": [
    {
     "data": {
      "image/png": "[encoded data removed]",
      "text/plain": [
       "<matplotlib.figure.Figure at 0x7f1f066ec588>"
      ]
     },
     "metadata": {},
     "output_type": "display_data"
    }
   ],
   "source": [
    "# toad\n",
    "thinkplot.preplot(cols=2)\n",
    "viewer = make_viewer(4, 4, 1, 0, '0111', '1110')\n",
    "viewer.draw(grid=True)\n",
    "\n",
    "thinkplot.subplot(2)\n",
    "viewer.step()\n",
    "viewer.draw(grid=True)\n",
    "\n",
    "plt.savefig('chap06-2.pdf')"
   ]
  },
  {
   "cell_type": "markdown",
   "metadata": {},
   "source": [
    "Here's what it looks like as an animation."
   ]
  },
  {
   "cell_type": "code",
   "execution_count": 7,
   "metadata": {},
   "outputs": [
    {
     "data": {
      "image/png": "[encoded data removed]",
      "text/plain": [
       "<matplotlib.figure.Figure at 0x7f1f066f1a90>"
      ]
     },
     "metadata": {},
     "output_type": "display_data"
    }
   ],
   "source": [
    "viewer.step()\n",
    "anim = viewer.animate(frames=4, interval=400, grid=True)"
   ]
  },
  {
   "cell_type": "markdown",
   "metadata": {},
   "source": [
    "If the following cell yields a RuntimeError with a message like \"No MovieWriters available\", you probably need to install ffmpeg.  See instructions at the top of this notebook."
   ]
  },
  {
   "cell_type": "code",
   "execution_count": 8,
   "metadata": {},
   "outputs": [
    {
     "data": {
      "text/html": [
       "<video width=\"600.0\" height=\"400.0\" controls autoplay loop>\n",
       "  <source type=\"video/mp4\" src=\"data:video/mp4;base64,AAAAHGZ0eXBNNFYgAAACAGlzb21pc28yYXZjMQAAAAhmcmVlAAAKuW1kYXQAAAKtBgX//6ncRem9\n",
       "5tlIt5Ys2CDZI+7veDI2NCAtIGNvcmUgMTQ4IHIyNjQzIDVjNjU3MDQgLSBILjI2NC9NUEVHLTQg\n",
       "QVZDIGNvZGVjIC0gQ29weWxlZnQgMjAwMy0yMDE1IC0gaHR0cDovL3d3dy52aWRlb2xhbi5vcmcv\n",
       "eDI2NC5odG1sIC0gb3B0aW9uczogY2FiYWM9MSByZWY9MyBkZWJsb2NrPTE6MDowIGFuYWx5c2U9\n",
       "MHgzOjB4MTEzIG1lPWhleCBzdWJtZT03IHBzeT0xIHBzeV9yZD0xLjAwOjAuMDAgbWl4ZWRfcmVm\n",
       "PTEgbWVfcmFuZ2U9MTYgY2hyb21hX21lPTEgdHJlbGxpcz0xIDh4OGRjdD0xIGNxbT0wIGRlYWR6\n",
       "b25lPTIxLDExIGZhc3RfcHNraXA9MSBjaHJvbWFfcXBfb2Zmc2V0PS0yIHRocmVhZHM9NiBsb29r\n",
       "YWhlYWRfdGhyZWFkcz0xIHNsaWNlZF90aHJlYWRzPTAgbnI9MCBkZWNpbWF0ZT0xIGludGVybGFj\n",
       "ZWQ9MCBibHVyYXlfY29tcGF0PTAgY29uc3RyYWluZWRfaW50cmE9MCBiZnJhbWVzPTMgYl9weXJh\n",
       "bWlkPTIgYl9hZGFwdD0xIGJfYmlhcz0wIGRpcmVjdD0xIHdlaWdodGI9MSBvcGVuX2dvcD0wIHdl\n",
       "aWdodHA9MiBrZXlpbnQ9MjUwIGtleWludF9taW49MiBzY2VuZWN1dD00MCBpbnRyYV9yZWZyZXNo\n",
       "PTAgcmNfbG9va2FoZWFkPTQwIHJjPWNyZiBtYnRyZWU9MSBjcmY9MjMuMCBxY29tcD0wLjYwIHFw\n",
       "bWluPTAgcXBtYXg9NjkgcXBzdGVwPTQgaXBfcmF0aW89MS40MCBhcT0xOjEuMDAAgAAAA7JliIQA\n",
       "FP/+98dPwKbo+WbLnUU9ITCK2PpIKL1Y7NAydQAAAwAAAwAABZ3ntqQUG8qIZgAAAwAsUsV97AUO\n",
       "TmAFzrk2qMswvexw33U5rfztOp4BsRxj7cwQH6B1QtTwCp8j2ZJSGcGmlxs5/pDzMB/0Pt3yOVAp\n",
       "VubutOElgVwOP6OeAHKEwI2RRvp9yMRmF3hxMW/Uk5gMwicm71C4SPOR4pQloYS6lVzrQR4YoDvF\n",
       "WWKfcmomMMzh3zn933x412omP/7X/e/tXiNt+6Kb4On734Oj5MagiVnOWlap1HzrWFpKr6bAH+de\n",
       "ph/wHDhhDNN3ycLfBfoE+PkB/GgpOjPjxucg//76ll/NoZjnEzzDpnppEjoU14WF2rjHLCGqqywh\n",
       "sojrvabg2vNh3q7Vjbt8z4Yqk0Vo+QXjxptV+i0h7I9m4WowuOPl2OALyQcaJZwMEfUUM+euHvCK\n",
       "DC+V8o4PQhOA5zPYmgv8RlhRwdbyiDHKykgjFzvdXKGOY0sEebuvbM2XHsSD3616E2YQGnGPuj3G\n",
       "lshFQGyJkArfAIx7BzGex4+xurGnD2oPUXxbRTf8Zj0MH3D0vTs5oZkwsYsQ1Bycz/NLku/+eotN\n",
       "E1WKUTRvOvU6KDs2PBL4+vz/Pu2Mz2EhxgY7KeWDDrggafg3BN6NnilRSxKWZ0v416ZwgXJfveav\n",
       "oblAEi5RPsljIAKRfzxDmS19kUpZacCiDq8FZsPnQ+JTYI+jdyJSYwzEkdTFJE26L3UOuCvBQ5gx\n",
       "hYerhYeNW3zfBBPRLZPuTU1KFJetpFhuI82oiOlveUnXUWsAdk0rTYFjyteX7nOfMoAAPXQDzcwj\n",
       "uLxh2HFl2rlVv6DYw77+id+DoqwSsCfCLv7XIpgySSqH6mWoB4hr+nCxgF5GPHDlreV5CkAX3W98\n",
       "OtnCVJjCk2c1ZiFVDmA76o1Mv3JuQ4JOU5VJIIiIVsGVv5ajr5yYoF2xEdozGN1mTc0wKpT2Ay24\n",
       "aCFcmXnrYj+25H4fq+SsT/p6j8Gmbyvkpt4xxDLvSOHz9ve3gt8Y9ogoQOU8g9RzZm/KmUaT61yV\n",
       "ODDc9uX8UgnkHWgDhnW+W3fhiDk3taFxMawJRVGlXPfURQ/H63fa64ABWGKVx6ktUKC2jVjz7Bfn\n",
       "wIV5jRKJl/+jLrw0y2XaVLQW5ZsgDioXQw/c6OYB7ajH4TQXu4++DqjCy6+aN8hrngvx8gNKig/C\n",
       "M6TBKy6+gPhar6+M4BAImrl2AAayy6HVLlUAACahAAACp0GaIWxBP/61KoAK7w+38PSkAAZWu74G\n",
       "0rJIVAKUgbVn078sDPvdIl8RzhsCh7UqwEBnSmzTvqONkbzqm7EmLJtCotzYdmziNIzEBoZMJboo\n",
       "CB43pNC7/g0x1SComiBRtsBKO50dJ9hXUbEEGHSWn/TH5WVHtBhLZNxWsJ3MVDU/4bcJq59xZR8G\n",
       "RM166L78eSuEQrgS/ly0B/c3PfnaQWdIr6yUA+rJOB8q8T7MpKrboQE8lkerL5ZH2TOn+YGnmbn9\n",
       "ANcfH42/82md7VfZWAgwxI6ic7/FUs+ZiBFz9Ci29OlP0a+ogeBuLLhzzwVSDS73N4B2dJnDImNw\n",
       "yGl6AIrEt4WrpFXSvGeJ38HhmuiarhSMh9cg1L/LH0XCpZbMoV+nHYvrnXzVkwYa+DS/BigDkuPB\n",
       "s+wHq+rug/ZA43Pm2mRy2mUcvQYzf6th4Fu4UuHzalUJOSVaqLbdlPen9AHRs2vfOrHYxP+1Ju3g\n",
       "3PqAYsLnnFuiZVsp29jhvy6u+3w8VmhteTQtbMBxt0taQQJxthSkFh4PrSYiXJRENn0m2UbSotaX\n",
       "1xlSIv1aon0S2EEATOHKLbJvxqSzywLWIGIb0s60FSZCmHlY8pPPk0TULz9GM/3at4mGAE2lcAGV\n",
       "a4jeFeCqMzxYahdKEyFIaj1ATya6ta07lEgw8evFpjGy7tlzOkXTx+LAZNg7FW4zwe6kKtXbiuCa\n",
       "YM6y4u3TtYXY+OsSUrIeMA1E3G+zvWgtq/KMxA1YwQI4Q6CQawMeSD2giSz1vpJVaes9a3nPKSb2\n",
       "vYlDXtSnVGB9TpHOJLu9z+oybg6I+fvXE+4a6HyDE6kOwovAsXymn5WpbwG8W9Ew0imcmgs3oJ7g\n",
       "UBDRYuAD+cWhKJOaiaJRlKHy+uYDVaKsOoCdGPAAAADSQZpCPCGTKYQT//61KoAMBqWeuKF860zy\n",
       "tiYmmzpXH/NNTmUDrdERLtVuNip7heQrfnUIHPA7E1aKVDPAAAADAAz4fqAC4NjEH8+/fwwT40Ro\n",
       "Ngue0ULgi8IAhsLiHxzhnLyOQvYtNZ9tzKCNeDsHsQoWhERbCxa5EkfI2H9x0XLxVlwJdISYWeUr\n",
       "KjZl5G3HuukQbJ81mZYjca7FHjtRMGi2kLQAaDfitRBRGWwpbXbaHXf4Jy59XGjo1S6dvQ30EoQO\n",
       "QTpGAwpFX2Pv1Ywh2iH/AAAAxUGaY0nhDyZTAgl//rUqgArfhv3onhsOqyOEsw/oAUJcE0n+ypgD\n",
       "TpBxO0lVilBtZE4eOdSXJ6NP2weCYAQssVAAAIwB3Jrh1A6TvnEsqSP6523oKpXmW/fTUKgn5Rds\n",
       "wTvnKcs/OuNsuwedpTieBRD8P1BBmHsOfYy5HqchP1HeFv6Uy4Jg9+dE6NGlUHxzJCgUe+8Q10qT\n",
       "PMRtnatovPtEDt8itTQ3123FXuXfbvxcpRqg6wdD35zNT0HBrA4BC1Tyyu6AAAADR21vb3YAAABs\n",
       "bXZoZAAAAAAAAAAAAAAAAAAAA+gAAAZAAAEAAAEAAAAAAAAAAAAAAAABAAAAAAAAAAAAAAAAAAAA\n",
       "AQAAAAAAAAAAAAAAAAAAQAAAAAAAAAAAAAAAAAAAAAAAAAAAAAAAAAAAAAAAAAIAAAJxdHJhawAA\n",
       "AFx0a2hkAAAAAwAAAAAAAAAAAAAAAQAAAAAAAAZAAAAAAAAAAAAAAAAAAAAAAAABAAAAAAAAAAAA\n",
       "AAAAAAAAAQAAAAAAAAAAAAAAAAAAQAAAAAJYAAABkAAAAAAAJGVkdHMAAAAcZWxzdAAAAAAAAAAB\n",
       "AAAGQAAAIAAAAQAAAAAB6W1kaWEAAAAgbWRoZAAAAAAAAAAAAAAAAAAAKAAAAEAAVcQAAAAAAC1o\n",
       "ZGxyAAAAAAAAAAB2aWRlAAAAAAAAAAAAAAAAVmlkZW9IYW5kbGVyAAAAAZRtaW5mAAAAFHZtaGQA\n",
       "AAABAAAAAAAAAAAAAAAkZGluZgAAABxkcmVmAAAAAAAAAAEAAAAMdXJsIAAAAAEAAAFUc3RibAAA\n",
       "ALRzdHNkAAAAAAAAAAEAAACkYXZjMQAAAAAAAAABAAAAAAAAAAAAAAAAAAAAAAJYAZAASAAAAEgA\n",
       "AAAAAAAAAQAAAAAAAAAAAAAAAAAAAAAAAAAAAAAAAAAAAAAAAAAAABj//wAAADJhdmNDAWQAFv/h\n",
       "ABlnZAAWrNlAmDPl4QAAAwACAAADAAoPFi2WAQAGaOvjyyLAAAAAHHV1aWRraEDyXyRPxbo5pRvP\n",
       "AyPzAAAAAAAAABhzdHRzAAAAAAAAAAEAAAAEAAAQAAAAABRzdHNzAAAAAAAAAAEAAAABAAAAGGN0\n",
       "dHMAAAAAAAAAAQAAAAQAACAAAAAAHHN0c2MAAAAAAAAAAQAAAAEAAAAEAAAAAQAAACRzdHN6AAAA\n",
       "AAAAAAAAAAAEAAAGZwAAAqsAAADWAAAAyQAAABRzdGNvAAAAAAAAAAEAAAAsAAAAYnVkdGEAAABa\n",
       "bWV0YQAAAAAAAAAhaGRscgAAAAAAAAAAbWRpcmFwcGwAAAAAAAAAAAAAAAAtaWxzdAAAACWpdG9v\n",
       "AAAAHWRhdGEAAAABAAAAAExhdmY1Ni40MC4xMDE=\n",
       "\">\n",
       "  Your browser does not support the video tag.\n",
       "</video>"
      ],
      "text/plain": [
       "<matplotlib.animation.FuncAnimation at 0x7f1f0659f208>"
      ]
     },
     "execution_count": 8,
     "metadata": {},
     "output_type": "execute_result"
    }
   ],
   "source": [
    "anim"
   ]
  },
  {
   "cell_type": "markdown",
   "metadata": {},
   "source": [
    "A glider is a spaceship that translates one unit down and to the right with period 4. "
   ]
  },
  {
   "cell_type": "code",
   "execution_count": 9,
   "metadata": {},
   "outputs": [
    {
     "data": {
      "image/png": "[encoded data removed]",
      "text/plain": [
       "<matplotlib.figure.Figure at 0x7f1f066bb438>"
      ]
     },
     "metadata": {},
     "output_type": "display_data"
    }
   ],
   "source": [
    "# glider\n",
    "glider = ['010', '001', '111']\n",
    "\n",
    "thinkplot.preplot(cols=5)\n",
    "viewer = make_viewer(4, 4, 0, 0, *glider)\n",
    "viewer.draw(grid=True)\n",
    "\n",
    "for i in range(2, 6):\n",
    "    viewer.step()\n",
    "    thinkplot.subplot(i)\n",
    "    viewer.draw(grid=True)\n",
    "    \n",
    "plt.savefig('chap06-3.pdf')"
   ]
  },
  {
   "cell_type": "markdown",
   "metadata": {},
   "source": [
    "Here's an animation showing glider movement."
   ]
  },
  {
   "cell_type": "code",
   "execution_count": 10,
   "metadata": {},
   "outputs": [
    {
     "data": {
      "image/png": "[encoded data removed]",
      "text/plain": [
       "<matplotlib.figure.Figure at 0x7f1f066c05f8>"
      ]
     },
     "metadata": {},
     "output_type": "display_data"
    }
   ],
   "source": [
    "viewer = make_viewer(10, 10, 0, 0, '010', '001', '111')\n",
    "anim = viewer.animate(frames=32, interval=200, grid=True)"
   ]
  },
  {
   "cell_type": "code",
   "execution_count": 11,
   "metadata": {},
   "outputs": [
    {
     "data": {
      "text/html": [
       "<video width=\"600.0\" height=\"400.0\" controls autoplay loop>\n",
       "  <source type=\"video/mp4\" src=\"data:video/mp4;base64,AAAAHGZ0eXBNNFYgAAACAGlzb21pc28yYXZjMQAAAAhmcmVlAAAlXm1kYXQAAAKtBgX//6ncRem9\n",
       "5tlIt5Ys2CDZI+7veDI2NCAtIGNvcmUgMTQ4IHIyNjQzIDVjNjU3MDQgLSBILjI2NC9NUEVHLTQg\n",
       "QVZDIGNvZGVjIC0gQ29weWxlZnQgMjAwMy0yMDE1IC0gaHR0cDovL3d3dy52aWRlb2xhbi5vcmcv\n",
       "eDI2NC5odG1sIC0gb3B0aW9uczogY2FiYWM9MSByZWY9MyBkZWJsb2NrPTE6MDowIGFuYWx5c2U9\n",
       "MHgzOjB4MTEzIG1lPWhleCBzdWJtZT03IHBzeT0xIHBzeV9yZD0xLjAwOjAuMDAgbWl4ZWRfcmVm\n",
       "PTEgbWVfcmFuZ2U9MTYgY2hyb21hX21lPTEgdHJlbGxpcz0xIDh4OGRjdD0xIGNxbT0wIGRlYWR6\n",
       "b25lPTIxLDExIGZhc3RfcHNraXA9MSBjaHJvbWFfcXBfb2Zmc2V0PS0yIHRocmVhZHM9NiBsb29r\n",
       "YWhlYWRfdGhyZWFkcz0xIHNsaWNlZF90aHJlYWRzPTAgbnI9MCBkZWNpbWF0ZT0xIGludGVybGFj\n",
       "ZWQ9MCBibHVyYXlfY29tcGF0PTAgY29uc3RyYWluZWRfaW50cmE9MCBiZnJhbWVzPTMgYl9weXJh\n",
       "bWlkPTIgYl9hZGFwdD0xIGJfYmlhcz0wIGRpcmVjdD0xIHdlaWdodGI9MSBvcGVuX2dvcD0wIHdl\n",
       "aWdodHA9MiBrZXlpbnQ9MjUwIGtleWludF9taW49NSBzY2VuZWN1dD00MCBpbnRyYV9yZWZyZXNo\n",
       "PTAgcmNfbG9va2FoZWFkPTQwIHJjPWNyZiBtYnRyZWU9MSBjcmY9MjMuMCBxY29tcD0wLjYwIHFw\n",
       "bWluPTAgcXBtYXg9NjkgcXBzdGVwPTQgaXBfcmF0aW89MS40MCBhcT0xOjEuMDAAgAAACiZliIQA\n",
       "E//+97GPgU3IAA2XOop6H+EVsfSQUXqx2aBk6gAAAwAAAwAACzvO01sGv2ba2AAAAwCxSxHyWCfL\n",
       "YgEwTBTzhTPBDDDtetOtacFI5gWUAJ0OOmawfNZVLgJC8gkF1T4dvjSOaa45lN/PtSmORO92E7Oj\n",
       "1WdrzmRQcSmD6mBdPo/MohQcpt00I2x75nMbgM7Ksj84PkNrUy/KXRzzzdVbg5IP7rmHYxhv41IR\n",
       "EWJQCG9GO+ZgkJIPuRYTJsM3v2za1sgbsLXu7ILz0JLtz5jxTpMRC+vTn9C2zpi8JxHTkDIW3AOk\n",
       "MYDUWOfTOOB71WV/DiQID9ywKTRcSeLQjxC9vRE8lOQPnbJ8Q+ufCvrsngAsZjjYlBATauVKGYWn\n",
       "vkD1akT/cx5PO3HNoNuKm6gbJOuRzLkfPseBV1odHYVOSIkF8JlfzzHG0vxnQNJBJlMh3vE9oAG/\n",
       "VBnl8HJAOQfCItosBrq4mmqBJVUwXNbRP3dPEg8u+E2VwrYVJaKnzM/aIEmrc0YQxXDe1GzVfD+n\n",
       "xYqKaCOvk4wfmCG2I7xxwndtZLN4sZ6+TbG2ojTSQFslaNa+dH2vLMxqWJY3nb4fJhuO+Z+rY1mR\n",
       "/ONo8qYAW0ezA8rTiWqNwJaFLK5GBB4E23Gr/w5mCeh7QvVBb5lThOV5n1EmNfZj/UcCZklRpMDF\n",
       "SrEHDpLZtqVV+0mM5NzK4ZSOhtj6zxLdVwz6mAqQHxTxrRuS0qUcIcW5wCc9FGaAeIVHwX5jpe6S\n",
       "/39+IvH4F1I2vgpiXsIqIEfI3CzP3t7OtMOAfq+KMj1hCzLoPIQ8vyzcAMxrhKWEBJSEhqd1GBu5\n",
       "HfJj0PB1ul3ghTkZMKB0bV3r0Pn7kP5r1RzX46SJvborJWvFl/x2Na91avqFZKMRVE+GaoSUnbbU\n",
       "n70waBP6UjhHLXetDFs2yjIFBnn8fr/2FbjQUXde32faful/9qgq4nsoTGMTLYW1uStI+sPLxRuF\n",
       "oWIYvvmrh9aOt/l5oFUpWKC/H7oK8BPUTeaB79qXu1rfmlQLFS07v5iy18UaQo6cE8OtMWlicR5e\n",
       "UgAH/JiOR1+tkJtheh8wq549iyRoGY1gWyvbPVQcilUU8vZD5hUDc1nyFYW/yBoXsjdj3C8K6xUY\n",
       "OQKLX7Q4A4sLoL6Sr+iE30XdkAmbgXa4kSDGT3efQjP7Lf/UqWaXLDLgAB/A8As0xVZuqG3V5kLT\n",
       "pZF/rT9CXnrukkeVdWgcNU7Xj28hPxbSM74M6rAsOidRPhm7CLGx3QvfWBgMHmxKG5mwsaIM9EHJ\n",
       "i8Ehj+0o2q+eXkJZSegtcFx9pN7fDr9MoWjRKDuIcXsiUrQNtSe095ymyf6bIS96NugCuQqDhkn8\n",
       "kdccdGe/BwLsQZO005wEPNbE86R/eX1P8LtXQ8zI76AwRD7q1YNm1utevp0gjFnNzxxfqoSHRla3\n",
       "VXaoszo2VJABkD0LDUmHaM9/U6O9g/jazbfi0keQKOAAXwrD5/4RuyEl5ATe5IcLVDr/c0e+Xq37\n",
       "HDSEBjgyS9/YoEsxrHDP4AYHCHGIEUXV1Eadz8b/qdb1EHHCORB5YGdIPBrBtBHin7cKN59szK6P\n",
       "p3RhbxffoClomr6oXTrL+vOT3XkhF4UMhliX4U/M+79rPf/ERNBjjkBpT50W9c687b5jCjtGYDkA\n",
       "ElmG74L5u7mSvcvwpoK9G/IqCzwXYQFipabcAw/yToyH3WMaWdBiK1NkOVCwmquNQ7DV7uBtPBAE\n",
       "j8V/dDgbi2SothuWF759UAAABEDYpJM2l6bzUH4mlwH2SPNdi5aS1UuFMOuM4YM429bPvSXSq9Ap\n",
       "/YKOVL0/5yUEwcz0RDgwGXkIvmwDac7PYUCObphOG2lL2rtLZ3yLNbfuZRlVpchYBgSOzUtF3w+0\n",
       "3/LhoOsxlnPLfSdeeY0TZS6G957La27kkbJjh2lRKR8bHNUm61dFz5YtWQsw/zf9pyRxXMnhVNwE\n",
       "LvmaaCrRiDIomAIb3sglu4n+VvfqxLz0vnTb2Iisl/W08kI3lFF0hAl2ZjDJubV1hyweyeT4ViCE\n",
       "3IAAAKQEmRD7slB5hsCdkcD6opLbJ+BXk2UH7ZXbrlr5hwSrYJjxTri5IKnQALQpG1h8HpxL2ItH\n",
       "7uRjqb4ChvLLyNYfVuYhormTs2rfzPi29o110EcESbyE9Wo6gUP6OGbo1qBG0MbzwHt81MsOOQCN\n",
       "vMzX5d/mAf6klPm9DOgBLfHKFjHKEIcw0yjZ98BLc+kR2HLgTOYsuMybyh3uGh0Q+V9TiuKCEkiX\n",
       "tH/SAAJdlFMm+pzvEc1e7AWuRm/o423HqAAAMdp9miuHlDGdWxzAsuHJUFg5RkwDgkyjz+Lnye65\n",
       "TrcKdRB+iG1NNMGunFnCDFARAFY7hz9tgWbh9bx8CE1cJdh8R7KKFzEepefSkInEjCUcKc6soAhO\n",
       "ndRtSJkK0vFCvegJHX9jbTE5U/mVgQ12dB8JrTfDeD8seu61yJs4gz11uMsiDOJ6HPt6QOlvjmza\n",
       "kU8zR5Qi62jhhPc08AXGq8RIMc1FGs5QTLWG/hIKZuM4AAAh1QqvSIZxgQhNldJyMwJHlU328l9o\n",
       "UW/OYbq8JIc+YgiSx3Pjb2ZuNLBiBVPV3Jr95ei3M/mBzNS/JcotYgJ8NeADlntkMN6hCIJ0sZGd\n",
       "GmNtTjqfmO5Xlz3oB2WbYekr9+QV18hcIL4kgTFe/pV+HZtk/v9JvRunQr0qO/FoHzLvPfhh9OZT\n",
       "TvKrFXd83SPVXvUjaVRnFNpSpS4IOxoPc+xj6mxYhLjGJYq7WJ4NihaVPebl2EggEM4HgGYtVaQo\n",
       "tLwjOBlhIR8K7CErQMczNhjZ5dxHGn31X+uHqgja+raf6flNDMgBxZdfuypwb90Dv5rPEB0Of5A4\n",
       "Fhq6NKh/jHHdtMCFHotaGCTaFnG1rNgpxeuuP6EAAElrgfK63ZHTHqxElEFikLCpL59CoP85kH7O\n",
       "+9jCBE3jRnStmr4+9yhNHhRfD3Pc/yhF4l3RQE3YGSc1mKIv2LOUkzN/ETPFDZCZ8fKZtC+JmAa7\n",
       "Dkrj3+nnH5vJaMQbLqNvwDe4FTZCbzIbkbI7bxyrgdQniqUPBXXwVNazQVLoHKUf+7JBtwZOMc2S\n",
       "ik2C9N5Ac5PzSD3vVEDzbt1hZXQAE4SbSyw4EQZEU4IpfiJ6dV5zbp9bAwNgRtNSPmf//2K0xyYm\n",
       "/BKaRvCks5fzdgTT0uqFNM+W2qIcxLP3GoY00plYrh0C9oSI7VO84yoIY7B6WVbHXdff/leDp2GB\n",
       "DfS/V+a/dbXrRzfx4sbAf8The6QYlbcB0QAdxAVTg6S593whah/B5VSeydAHiYmkZVAux/Zzjtpq\n",
       "9sEgJVgSrjrsTeX+bezhIj8k+Wd6I/HeXRjE7pWtx9hvISaTKrhaHwweJLW9DmtsOO73Slba/kNv\n",
       "KK6bkn1A1TV25BOyAYFPHIdHrRgDDOMAAAMAA0sAAAHrQZokbEE//rUqgA1NM4ClQNqhd0sZKIYN\n",
       "YMsRqD5yzfRkFr/eCJR7CZUqy5TuSoRzT/RcLJ9GmNmszeqD0S3MHejyrzqzIxEvTuO0KzzbwlQ9\n",
       "IHM714iU1FCPM0ERdbs9BW4d74Is3S57NaoNRbk0cM+t7QDXnrCStiskHoyRecljmmsL/NAIApds\n",
       "OMTw9YWjh8INCtBkTf6DdSizV11MLLndEYl2JX4u3MwkHlbj5TuK945gYmeJymbuZ7xDu9cvAyuu\n",
       "yXhFjN5kdqbNnP9PZcPk1gY7Kh35j47ueOVWx+GZxT0g1c7z7lgPkjmRIEBg0haAbCH1uv6U0wmU\n",
       "joLIEgRTljKccaYGLLi3W6pC/HQxMg2yQ7PEr5+ogklEIHiwWFDErVKUydB2rUVy3KcQdQznx6SX\n",
       "GeEu9vdbTEwTka4vLH6boWINLb6+oNWIadr69uGDF/0ZX/Cbg8jr7FlHoOaI8U/Eqik0tXR4vpVB\n",
       "gITqV405D/yVClXPdkp4GJa+n5B6BSVAPNRy3WzQIGb6nbr/OD8Gk2BXlpP/y9LHpyc+2u7BHUHk\n",
       "edXH7ClIE68bKgrbjD5XlaaubnhHYJ1WvUmaexu5PNb/WxEH2kg8EgR9BvYUKe2ZxAiTCFz6faYr\n",
       "YzV0gAAUh7nA+YAAAABiQZ5CeIIfABBUO1J5cT9o0tY4aAX4fxxZr9n5WPJTpJFvO1h1KtQCD/Ld\n",
       "wAJaKevnLWQ30fKu4Gv9t0Ut5WY/NbtRe1kn+eCqYKYn/6YoeT6Qkf06yeaH2Nm70ByjiKSjFJ0A\n",
       "AAC0AZ5hdEP/ACSrkmM9CtuX9/ewDiR1tan8bzABtKBYQc0N9YbAjT4o1qhMC6lxPouk66RfuUSE\n",
       "KTomNQiHeuSxR5BbVqGT3ftmICYH8n0ekVcuj7JD6XdCPCZ1IiipZO/i/LLs+E+aCPhT5uJbIuyP\n",
       "YouwEwrtO2ZIZr4UGh0G03WQvIvTNijy9vCBkQBe+JSgJiqEHHmv/f6kIQVNWWHubkJ2JhW8kI9e\n",
       "nqshUpnFZnOWvOg4AAAA0wGeY2pD/wAJrBrc5BEvognwnDXUACdbVS68tyot06oAchDg3D8lg2/O\n",
       "l9edgCt8uYQ2RAKBJ9zAOomZkzxjS5+wYQ3WFaXJ4x82Mx7pL1V/JHBuZxHHQGCfArbFnF4w30/E\n",
       "rRXlsQ2N3zIoaXQbJ8g+vIBzc51RqZfTc4KGPAZDgtCDEPzfy/8FtXXIeiTXXOpf0doxijjhZ3SF\n",
       "KUhYGc9JSQsiPCFKlztDrQsh0HhG69eDDgK37QyvT6dILQ55UtK/y5oqFcLmEJV15mDsBlgAtoEA\n",
       "AAHjQZpoSahBaJlMCCf//rUqgAQBwW4BLuA33G+dQH7Vm17iuweCVasGV8be6yU1H5Qnyx1VXAMO\n",
       "91OOVREQM4p/tfr8DjqPyP4sM1nc8nDWWERWyZb9CG39yIA3nK1baqPsfsN/yOQZ/605QJedQI+M\n",
       "D6PiWhyA+0L2arD6EwcbO7xVFB+nLBLEAQtsg8uSYp8Lm4eaJp/phLwHFQvLz/1T/O/93C18p5BG\n",
       "OW4gxL0rJC90GpHih6z88eC9q8ZgqUlL+B2bSefnp+VUJkrB4bXpJ1lvclE/tbS7+lsW27vA3aoh\n",
       "rCFNJ0/x4vOoNH3AZghogALhrtPpFXzKcOeQa8DdTyZ/jA3TDTGR8lfyPRe6zjH/RIoNnWPc3XIU\n",
       "hmNKv3cZykmWEztvDFiPg2KKIroCzle9avKvUc+Hpmlm1NXtkrzhUgxdvF62IGMxenmJpEYXBp3K\n",
       "dZGeMgzZGfRQqCa4jHQQMvORXuRjcAXfj0Cymi3ycZds9cHtkg+c+/Xa7OICZut1dELeda4wn+Tg\n",
       "r8c8xsL5A8kFTjteXmTDRoU0fPq/aTrVMbsgH1YMUhLw+dEgU7pMYud9GtMVM0GzM2fXin/F9jXU\n",
       "TQ853rJuG9ZPLA6TU0FcJ5ppcE3zOVjiBN3FSgPTAAAAhkGehkURLBD/AARUwkyxNbpkre/09F6W\n",
       "L/NtaS7AIBLBL0vq/agAP6ReSpDKDPTKzRPLMUXaeJUDV+XEsoQTdzB6TqApiZm/XOYS0tqguU9p\n",
       "ej5er+uPh9IG1MCs3aO2brZX9wLfrJd4T1t0saQ2zBCydPMMVsOZ5j02RErPc9B8jXND3wS9AAAA\n",
       "1AGepXRD/wAJquSZCBv1r/sdQOQsOEP6xuwohBwAfwaqzBoCp0T8Z/ZwW5rNR/rZmgy5hD+Jn7YO\n",
       "oNas/3PmUDDg1360PjkU0uZ6STklD1TURzJQiANH8TP7UXoJiuY4UlufE/WqC//hHKvlhS6lgvMm\n",
       "BPrg7M0SCrsxwpyxNXzc9723axs4ft4GqZfev0dqdUtqzovtCNzEEJl8xUKRtMRW6kbefIXpmdbZ\n",
       "Mjjkiv7dg1K8dou5g+XIXsY8NKsncpq8m6ItNH9RmCx2KOrt2yp4JKqHAAAAmwGep2pD/wAJrBrc\n",
       "4OyNlAgH8TFVUArjlguo/qSHefoKi78scm/nurxkZ0vXPGVvHX0Qf9HwA45R9t9r8ZRSh7jQJN7r\n",
       "qLJIbGpcOcGYU3pmGVnos06yxRiaE3fNH2Ixf4F55hwr9DRcMf/d8lSrHG5V5RfNb//Hdy7NubHN\n",
       "NVIw5uNAr65+cy3/YTI5FE/qgdDPlcEMTYwLeAKSAAAByUGarEmoQWyZTAgl//61KoAEAbmYgnh5\n",
       "LdvZGQoL3wd4hElBrPXfRO/fqpVI2yXlPTKGTNHqjJ3Yfyt9ZRn6UzYD8SGkzVRLxnMSoCGclRSn\n",
       "75pjJhz9eCSScv//hGg6sJSYODXzdUaLx/qYcwxFa+omtGnO0xjrnzkXgR+mJ3OTGXTbPrIViBgN\n",
       "BzLZz8vIVyJppsaxyFyLIH5d0Wf75y/ehCMFivNFA2vcQ8d5gZSsi6cCcHdAy+K7ygaAM6mBB2lX\n",
       "32ceUi7Xtlp47g8op6l1niiOISln2H+raEJ2vrQs/05oJCwSWvIkLTuDAaL0K1LeYBbYuSc53e1V\n",
       "HQA0uWiVHAU8oqsnE8PDCRhAflF7NS1iYquP9o03C4CpoGSxXBQFA0BdRTfDyZEhuQZVeGEnXRW9\n",
       "fV0M8/bRrjH5pBm/lQ/r5kFQ0XfA34pxjP+ze+LtavY8fNuP17ZZVvNp6XqjVKpIClmfv3pqh0ph\n",
       "2zqazeEXVT9I9QkWL4Afe4K/ntBelJC0CZCypYj28qOZ7j4Kmwso8VbSzWl4kYpgAQNlaRkYHIWw\n",
       "JqtNK47AS3w+ZOefQ+8QKbei8o9RNNf6UVP3bI09cZgACXgAAACjQZ7KRRUsEP8ABFTCTLANyZ82\n",
       "Q7jdWtOxQIAS0QuEY8v3XBGSgoGUeyDx0XOoE+wtBIN/9eZAV/RXaXK7OKhHG06Nv3h4uiahpT8s\n",
       "3IKwCprYpS+12ePZBUT8uQgbRak7PNrT+09KCI5WC/AtcqgKnBE+27pB6CAQ9YATsjUSTUwHjzZ+\n",
       "bARnpJyyeVITzLIMlWMeQjIhLK9MXeKWkzSFXYWB6QAAANQBnul0Q/8ACarkmQHXV7hpGyPLi5FV\n",
       "xB0b4IAEP2Jc/4hHlyA4Tl54kpdjrcsZEy/ZTJSHwIN65TkfroBe07HPDq9LC/pI/pbzJQNtxIuu\n",
       "FufL3b+/gOGJWFakepHbq/ws7SN/gvu+gbo3jt24wFk3eeXdBCcAFbmLzy70MtKf5VrNPtQjKsGk\n",
       "Ai5o+LNvDMhzTD8EML3AdZyAnl8iCSXASrQa427nsdUzoXADWZr4lmI5sAStZcAmdArctpYENP9q\n",
       "LmxknB8eG5okmNg26IKxONZsCAAAAK4BnutqQ/8ACawa3ODYNqchrnaR6g1RDhlpkNK8CPA3hpvQ\n",
       "vRrGkKmU5MI9rztfGCzvNWimV+zqfpeIvWpABDihK1p+1k+1sTTiVPBsnpW/VvZ6eHdbvki4UeX2\n",
       "JW1YP/7qwtO1yrTTCT5qsgLi2UO9MB7h7/W2E2m0yPR4b/wrmy+5HuhayUZmtP3buqhTPc1I9rA3\n",
       "M4fCxPjond4pq0/HBExRPnJI5fttd7DEjegAAAFRQZrtSahBbJlMCCX//rUqgAPQ/pQCOcArUjdv\n",
       "UeH3AngDn1xSsRysD5FHgDnRAYipSsPebfKkosGWJ3oN5G5wkrWpoaGjW4GMymHEMXsWHd82gRAL\n",
       "sIO0aS87TMLrWBAT8LjJGhyzl7uBk+6hQWClMZNgv4VyEyf4YAOHChnEGYgSaZx1aYnaIAdCXJVG\n",
       "0r94t7KITzF2pIQlVoq0u6Ss6a3hiF/p3KeLfEAnRYioDOr/L8BxYble4ZwBdicIP8JY4PWXfEVf\n",
       "btREmWtVQIIytCyS+xkVETXZKBWRXat6kH3aFMjrJt8RSehZyHItnYXrP27RdL/JsfbC7g5LztTw\n",
       "j5SUZb13nUQZLMnzUS/yCXCBJNuGiMHdt7yNS8kJ+7pWo++1Gz+t8VWFbm22IQRTGMbwngxg5LTW\n",
       "flTQA54RSzLUKfx+3K1JYcjWJH9ShxxywQAAANFBmw5J4QpSZTAgn//+tSqABMHb1OoQ0toTx+Gg\n",
       "ny/IhLd/zPgpmLI5Tt/PeVBvJ2zRzLVB96WCg+rI4eLPJPDQ5jjknTbv90BMFCUMuY3zyTJeDfMU\n",
       "08sxXUJdYlRhRAicL76c5FSJzrVeWQ411d2SapJQhhScmq2T9foG+LeNCWzV1P8W/Cd0Tkb/cT2s\n",
       "O3iItHJOGVuM/aENPlOcVGVYjQE1+tkkJh5mlkAx8/qO8TNkMYN4EWyqMChWbhc1ncIiHL3D/y7c\n",
       "fmsPWwlEKKCygQAAARpBmy9J4Q6JlMCCf/61KoABgNSbYC3uxvoJkda3OjzSzkLpsUQBwYvy5nXz\n",
       "vXpYLH/brhSuV/X1vpV5NoTeArKtMR3f/eQxP8L14E9qV/f482/zk6ZsJ3IIpEtwo2FWrNm1zMSA\n",
       "TtQLxc20kGaMIJMCakYO+CQKKRP1crsH+zB9WiW38EGJx70lq94mZ/11G7dDVrNOm17CL/PmRPGF\n",
       "hf+Okkgq9+GKDFjm19hnKhCk/rPbmBnLxLx199d6iFglcOm5qMju1n5it65HLzblIW+/iHm6GOaQ\n",
       "L5Wu5T92b35jp61/maF4QUt71IEydB1LxMk/v5bkCHknP3nW0hbtEG7imWYPgQfTHvOjjWPOIN/5\n",
       "7Rj/FWCr4CWA24EAAAHVQZtTSeEPJlMCCf/+tSqAAAMF/SABQJkKKQujxwkfrBWSHXh9gSBuchu2\n",
       "GpOPnFwtHcxMM+CeKfjrJh2m+1W6EkNu+kt/+L2vk//Oukarl0KWm/fP8lCug14Tc/wpEEn2KO1C\n",
       "8k/UeDTS5I6JFRtmUlR2zLHTUJVWFhU0MvolzMBLhCUofm0B5n/W3Jc7Z5MsByaddj49JmwPtUVa\n",
       "F69xwlsRu7Ke2TPndvZm9iy9FwwVWcAlScWghs2p2g05EZVew0zb2IgVhPlrihJgcC0wY/0Ygg+y\n",
       "b3QAfxy8Kbv9pd3Qo20CXrNZ1avkdKgc8suud1MHJqiX0P1XuWAkwZl03baD9+QcULxQvBF5u4i1\n",
       "SikNwqVF0KkqROqXisMKFEqjk/LYqWjSAQZMkoMY5geUvSR74CaA4gKXbZpv8fZ/rUVLre1+U1WE\n",
       "eGVtwU4SL6i8Y1yW5dvWW3l8L9RkZUYS/OWDebrU/NTm3mjzFHZ5FCMLl/QmCnLh6Xx/cg22K81Q\n",
       "tQ4JzhjyokhuuQD8yOUaffxD1i1Zg/aqbJJRBg9sDhLWGCHCrj6KRrn1eQzDWe0hIV+Q556fyc+G\n",
       "qacmjKhM07vb7AteKXhlDDxS/v7PaKjY/AQtoAAAALlBn3FFETwQ/wAEVMJMsAbbc2sEUwphcvtg\n",
       "AiL3/cE/LegAdpeamdJ06MjmprcenxzIeZLUCZZjUrD0QOXUmCF+eUaj6YPWiFRuYNeE41X5gst8\n",
       "zVb7+MR436eno1aMCc07TSiJcONWSEy3aL8uDkGHMosugGiwRtdjjGE6FCcXwNnHE7Y5/7MqrJO0\n",
       "4D1WS6/F+/8WOjj+xYy1imaYVAVXXTc6ik4pLYD/GY3l+AkYC8JR5T414FNywAAAAGkBn5B0Q/8A\n",
       "CarkmQGsKjDjBz5BgGvumTZkYpR+521q2rbTkEjuvHS94lftfh82BtJPRnJAAfnQbAVrrazzNL1g\n",
       "ZWBc6XMFrNciMsYIQMxwnOnja2fLvYqhZsLYy5KTVxCZFeTVm4fXirkAAACVAZ+SakP/AAmsGtzg\n",
       "1Q/eclL55VBNRakWQXqIlI0CAAtf+CMc7Phfqb7KPH/gnAyrv3jvJuzEcUfKn5Hsf4Hx3mzEVBxs\n",
       "IoE4bmsPovwYp7x82SueuRej9biS+K+MDqJeLFOmL0+QSnaWcGBcc8wb/xx5RaeQ+FxN/RSpX85U\n",
       "SPE34Q8PgzXjf5MdL9E/elJRse+EMqAAAAEuQZuXSahBaJlMCCf//rUqgAADKVCVfF1wmTL/W1vv\n",
       "TpQjIcUEr9OGSeath36eAB0Udhn282M+t/p4gP3usPMpjLlGSPB/E8EBVlqE43yV++6FY9gsz7/g\n",
       "090YvW3ve3q1Xg4ubMOJWUiptzXvXYItoKvV7NeBLASbSdLogOjTdhFWNd0Djqbf4ryet3CkfZ+9\n",
       "q78siXdTWjjCFcU3F28OaFArwrkLprhXzyKVGPMGSdH2kcD2rqmLt7hdfxvu5LjU5ynQfWk5UFin\n",
       "X7ZIT1MhaQFYxqHOoNHtpyXEEYesLt/CHDEfWzin9Hey0PL3uQxUZQNNqucUTxDt3pwrooi+JkNu\n",
       "WUV6ZGIswY87tLrKFqLlqOc8bMac7qXppL3uf7pbULkJqgqTbNKK/iEi2hQAAACsQZ+1RREsEP8A\n",
       "BFTCTLAGhU0LgDjAe2D0JL5zLLuDwgqdqyNOv//EJgBZZzSE/6+TC9DJHlHbQlYFhnPPwcH+W+id\n",
       "AbdHb6co5S7MfnWQ0baR6k8+IbwJPHYGIV+SpXDxAPC7ggy34zI6KQ8K+//zkdt8Y6l6DirTfC6g\n",
       "w6Cl0+4Ewc1nOKk/87hv1mwhw+rlAo9AhMejFRVCz/SW+trY/MxjJeLqtFNc6W3T4QAAAFQBn9R0\n",
       "Q/8ACarkmQGqH7NxgeVzrFFUHqnRtA1d7Hk7eXwG9k4HeKdQGX37ytKkSJeMHbQASrd1743ntyA1\n",
       "A12SsW70WfaY+XpH20KDhm4hTl/UpoEAAABTAZ/WakP/AAmsGtzg1Q/eeE2ZePX48RWRg3Qs5ClY\n",
       "Ld7QK06iDEFbG3UGHF9+wAly5B8oniz+8zY67Xt+XtOwTyo94qvMOUmNAa6Zc2uXvr4ftTkAAAFV\n",
       "QZvbSahBbJlMCCX//rUqgAQBuZiEbKXgbB5+C0nP31JmBBEq/uWvj/7/HuqWl0elJSTuR8remE98\n",
       "b4Z/tg9hr1pjmGaDYM/8ZVRbu/DSnJfhpmJ+sHUxNbvDk444RJn3bymFg7jycdzk9HZQCc8O+giM\n",
       "lhxJxvjh8XQqwsLX4nWsON/GmPIxini4aWW7RUrpSb9rla0EOM9baJy5OgcMZ482IlBiH6gRngqZ\n",
       "Sjpwdu8BYB4qCbW3iCB1afmAAx/VVT40eALY3+J73SlPr3I4oOQ5EzUuv1D8n9ummBpyvPfmftY8\n",
       "NpRXwl7vCvvkdQ+YTdJ14pLZunOIutAUy8tLLF9XBJAK3Nugn1ZapAc2Jz8VzXYFPE0Fg/hzf2us\n",
       "nX2LbjNfanap4l2oIiMHxn+AAWItaIkxg11lUBAdjo+6fTS0SBnVs+deDCIcOjCgrDsOo3WvbK0A\n",
       "AABTQZ/5RRUsEP8ABFTCTLAGhU0Kz8Xsp1BwuZMHBrgjns70UdaCy2hI2a7GsHVcjzfpVFuZZ8/W\n",
       "TlWM5gIp0TE2HggAtZUBEbgpW2KV92j5MXUglYAAAAA8AZ4YdEP/AAmq5JkBqh+zW3ge2a/oEjik\n",
       "NBd6k9ubS9A22kIYyJgKmFeZwH2g3obU2KE/L29jDZPuyUx9AAAASgGeGmpD/wAJrBrc4NUP3nhN\n",
       "mWRp5vRLDZXplBCXeA22W9u6HXvuYkPelF3PaxuwldPnmGaAX2iGXlYFT8nlr3q3XzpM3BUbba9O\n",
       "AAAAZEGaH0moQWyZTAh///6plgAAAwAF3hZINf6gAJhEu9kd7939Cj0wUHznwA+SkG33GuIe78Dn\n",
       "qlL59///4FeJu5YUtmpDLqNnJt94/dmX1hhyQrdDsv6BHl68sSszjuLdFzzn+hkAAAA3QZ49RRUs\n",
       "EP8ABFTCTLAGhU0Kz8XseS5GGPIvRHdyhN+/Lq4h1c6uUx1DG6gDSiZN96kN7t1XmQAAADMBnlx0\n",
       "Q/8ACarkmQGqH7NbeB6REvyc3I5+xkVKGn02I6kyiJWzTvqU47ZZeLKNPVoYBVIAAAAgAZ5eakP/\n",
       "AAmsGtzg1Q/eeE2ZZETCFUOOddQptpumRRsAAASfbW9vdgAAAGxtdmhkAAAAAAAAAAAAAAAAAAAD\n",
       "6AAAGQAAAQAAAQAAAAAAAAAAAAAAAAEAAAAAAAAAAAAAAAAAAAABAAAAAAAAAAAAAAAAAABAAAAA\n",
       "AAAAAAAAAAAAAAAAAAAAAAAAAAAAAAAAAAAAAgAAA8l0cmFrAAAAXHRraGQAAAADAAAAAAAAAAAA\n",
       "AAABAAAAAAAAGQAAAAAAAAAAAAAAAAAAAAAAAAEAAAAAAAAAAAAAAAAAAAABAAAAAAAAAAAAAAAA\n",
       "AABAAAAAAlgAAAGQAAAAAAAkZWR0cwAAABxlbHN0AAAAAAAAAAEAABkAAAAQAAABAAAAAANBbWRp\n",
       "YQAAACBtZGhkAAAAAAAAAAAAAAAAAAAoAAABAABVxAAAAAAALWhkbHIAAAAAAAAAAHZpZGUAAAAA\n",
       "AAAAAAAAAABWaWRlb0hhbmRsZXIAAAAC7G1pbmYAAAAUdm1oZAAAAAEAAAAAAAAAAAAAACRkaW5m\n",
       "AAAAHGRyZWYAAAAAAAAAAQAAAAx1cmwgAAAAAQAAAqxzdGJsAAAAtHN0c2QAAAAAAAAAAQAAAKRh\n",
       "dmMxAAAAAAAAAAEAAAAAAAAAAAAAAAAAAAAAAlgBkABIAAAASAAAAAAAAAABAAAAAAAAAAAAAAAA\n",
       "AAAAAAAAAAAAAAAAAAAAAAAAAAAAGP//AAAAMmF2Y0MBZAAW/+EAGWdkABas2UCYM+XhAAADAAEA\n",
       "AAMACg8WLZYBAAZo6+PLIsAAAAAcdXVpZGtoQPJfJE/FujmlG88DI/MAAAAAAAAAGHN0dHMAAAAA\n",
       "AAAAAQAAACAAAAgAAAAAFHN0c3MAAAAAAAAAAQAAAAEAAAEAY3R0cwAAAAAAAAAeAAAAAQAAEAAA\n",
       "AAABAAAoAAAAAAEAABAAAAAAAQAAAAAAAAABAAAIAAAAAAEAACgAAAAAAQAAEAAAAAABAAAAAAAA\n",
       "AAEAAAgAAAAAAQAAKAAAAAABAAAQAAAAAAEAAAAAAAAAAQAACAAAAAADAAAQAAAAAAEAACgAAAAA\n",
       "AQAAEAAAAAABAAAAAAAAAAEAAAgAAAAAAQAAKAAAAAABAAAQAAAAAAEAAAAAAAAAAQAACAAAAAAB\n",
       "AAAoAAAAAAEAABAAAAAAAQAAAAAAAAABAAAIAAAAAAEAACgAAAAAAQAAEAAAAAABAAAAAAAAAAEA\n",
       "AAgAAAAAHHN0c2MAAAAAAAAAAQAAAAEAAAAgAAAAAQAAAJRzdHN6AAAAAAAAAAAAAAAgAAAM2wAA\n",
       "Ae8AAABmAAAAuAAAANcAAAHnAAAAigAAANgAAACfAAABzQAAAKcAAADYAAAAsgAAAVUAAADVAAAB\n",
       "HgAAAdkAAAC9AAAAbQAAAJkAAAEyAAAAsAAAAFgAAABXAAABWQAAAFcAAABAAAAATgAAAGgAAAA7\n",
       "AAAANwAAACQAAAAUc3RjbwAAAAAAAAABAAAALAAAAGJ1ZHRhAAAAWm1ldGEAAAAAAAAAIWhkbHIA\n",
       "AAAAAAAAAG1kaXJhcHBsAAAAAAAAAAAAAAAALWlsc3QAAAAlqXRvbwAAAB1kYXRhAAAAAQAAAABM\n",
       "YXZmNTYuNDAuMTAx\n",
       "\">\n",
       "  Your browser does not support the video tag.\n",
       "</video>"
      ],
      "text/plain": [
       "<matplotlib.animation.FuncAnimation at 0x7f1f06407be0>"
      ]
     },
     "execution_count": 11,
     "metadata": {},
     "output_type": "execute_result"
    }
   ],
   "source": [
    "anim"
   ]
  },
  {
   "cell_type": "markdown",
   "metadata": {},
   "source": [
    "The r-pentomino starts with only five live cells, but it runs for 1103 steps before stabilizing."
   ]
  },
  {
   "cell_type": "code",
   "execution_count": 12,
   "metadata": {},
   "outputs": [
    {
     "data": {
      "image/png": "[encoded data removed]",
      "text/plain": [
       "<matplotlib.figure.Figure at 0x7f1f0643dd68>"
      ]
     },
     "metadata": {},
     "output_type": "display_data"
    }
   ],
   "source": [
    "# r pentomino\n",
    "rpent = ['011', '110', '010']\n",
    "\n",
    "viewer = make_viewer(3, 3, 0, 0, *rpent)\n",
    "viewer.draw(grid=True)"
   ]
  },
  {
   "cell_type": "markdown",
   "metadata": {},
   "source": [
    "Here are the start and finish configurations."
   ]
  },
  {
   "cell_type": "code",
   "execution_count": 13,
   "metadata": {},
   "outputs": [
    {
     "data": {
      "image/png": "[encoded data removed]",
      "text/plain": [
       "<matplotlib.figure.Figure at 0x7f1f063a64e0>"
      ]
     },
     "metadata": {},
     "output_type": "display_data"
    }
   ],
   "source": [
    "# r pentomino\n",
    "rpent = ['011', '110', '010']\n",
    "\n",
    "thinkplot.preplot(cols=2)\n",
    "viewer = make_viewer(120, 120, 50, 45, *rpent)\n",
    "viewer.draw()\n",
    "\n",
    "for i in range(1103):\n",
    "    viewer.step()\n",
    "\n",
    "thinkplot.subplot(2)\n",
    "viewer.draw()\n",
    "plt.savefig('chap06-4.pdf')"
   ]
  },
  {
   "cell_type": "markdown",
   "metadata": {},
   "source": [
    "And here's the animation that shows the steps."
   ]
  },
  {
   "cell_type": "code",
   "execution_count": 14,
   "metadata": {},
   "outputs": [
    {
     "data": {
      "image/png": "[encoded data removed]",
      "text/plain": [
       "<matplotlib.figure.Figure at 0x7f1f063b0fd0>"
      ]
     },
     "metadata": {},
     "output_type": "display_data"
    }
   ],
   "source": [
    "viewer = make_viewer(120, 120, 50, 45, *rpent)\n",
    "anim = viewer.animate(frames=1200, interval=10)"
   ]
  },
  {
   "cell_type": "code",
   "execution_count": 15,
   "metadata": {},
   "outputs": [
    {
     "ename": "KeyboardInterrupt",
     "evalue": "",
     "output_type": "error",
     "traceback": [
      "\u001b[0;31m---------------------------------------------------------------------------\u001b[0m",
      "\u001b[0;31mKeyboardInterrupt\u001b[0m                         Traceback (most recent call last)",
      "\u001b[0;32m<ipython-input-15-5cb4583849aa>\u001b[0m in \u001b[0;36m<module>\u001b[0;34m()\u001b[0m\n\u001b[0;32m----> 1\u001b[0;31m \u001b[0manim\u001b[0m\u001b[0;34m\u001b[0m\u001b[0m\n\u001b[0m",
      "\u001b[0;32m/usr/local/lib/python3.5/dist-packages/IPython/core/displayhook.py\u001b[0m in \u001b[0;36m__call__\u001b[0;34m(self, result)\u001b[0m\n\u001b[1;32m    255\u001b[0m             \u001b[0mself\u001b[0m\u001b[0;34m.\u001b[0m\u001b[0mstart_displayhook\u001b[0m\u001b[0;34m(\u001b[0m\u001b[0;34m)\u001b[0m\u001b[0;34m\u001b[0m\u001b[0m\n\u001b[1;32m    256\u001b[0m             \u001b[0mself\u001b[0m\u001b[0;34m.\u001b[0m\u001b[0mwrite_output_prompt\u001b[0m\u001b[0;34m(\u001b[0m\u001b[0;34m)\u001b[0m\u001b[0;34m\u001b[0m\u001b[0m\n\u001b[0;32m--> 257\u001b[0;31m             \u001b[0mformat_dict\u001b[0m\u001b[0;34m,\u001b[0m \u001b[0mmd_dict\u001b[0m \u001b[0;34m=\u001b[0m \u001b[0mself\u001b[0m\u001b[0;34m.\u001b[0m\u001b[0mcompute_format_data\u001b[0m\u001b[0;34m(\u001b[0m\u001b[0mresult\u001b[0m\u001b[0;34m)\u001b[0m\u001b[0;34m\u001b[0m\u001b[0m\n\u001b[0m\u001b[1;32m    258\u001b[0m             \u001b[0mself\u001b[0m\u001b[0;34m.\u001b[0m\u001b[0mupdate_user_ns\u001b[0m\u001b[0;34m(\u001b[0m\u001b[0mresult\u001b[0m\u001b[0;34m)\u001b[0m\u001b[0;34m\u001b[0m\u001b[0m\n\u001b[1;32m    259\u001b[0m             \u001b[0mself\u001b[0m\u001b[0;34m.\u001b[0m\u001b[0mfill_exec_result\u001b[0m\u001b[0;34m(\u001b[0m\u001b[0mresult\u001b[0m\u001b[0;34m)\u001b[0m\u001b[0;34m\u001b[0m\u001b[0m\n",
      "\u001b[0;32m/usr/local/lib/python3.5/dist-packages/IPython/core/displayhook.py\u001b[0m in \u001b[0;36mcompute_format_data\u001b[0;34m(self, result)\u001b[0m\n\u001b[1;32m    149\u001b[0m \u001b[0;34m\u001b[0m\u001b[0m\n\u001b[1;32m    150\u001b[0m         \"\"\"\n\u001b[0;32m--> 151\u001b[0;31m         \u001b[0;32mreturn\u001b[0m \u001b[0mself\u001b[0m\u001b[0;34m.\u001b[0m\u001b[0mshell\u001b[0m\u001b[0;34m.\u001b[0m\u001b[0mdisplay_formatter\u001b[0m\u001b[0;34m.\u001b[0m\u001b[0mformat\u001b[0m\u001b[0;34m(\u001b[0m\u001b[0mresult\u001b[0m\u001b[0;34m)\u001b[0m\u001b[0;34m\u001b[0m\u001b[0m\n\u001b[0m\u001b[1;32m    152\u001b[0m \u001b[0;34m\u001b[0m\u001b[0m\n\u001b[1;32m    153\u001b[0m     \u001b[0;31m# This can be set to True by the write_output_prompt method in a subclass\u001b[0m\u001b[0;34m\u001b[0m\u001b[0;34m\u001b[0m\u001b[0m\n",
      "\u001b[0;32m/usr/local/lib/python3.5/dist-packages/IPython/core/formatters.py\u001b[0m in \u001b[0;36mformat\u001b[0;34m(self, obj, include, exclude)\u001b[0m\n\u001b[1;32m    169\u001b[0m             \u001b[0mmd\u001b[0m \u001b[0;34m=\u001b[0m \u001b[0;32mNone\u001b[0m\u001b[0;34m\u001b[0m\u001b[0m\n\u001b[1;32m    170\u001b[0m             \u001b[0;32mtry\u001b[0m\u001b[0;34m:\u001b[0m\u001b[0;34m\u001b[0m\u001b[0m\n\u001b[0;32m--> 171\u001b[0;31m                 \u001b[0mdata\u001b[0m \u001b[0;34m=\u001b[0m \u001b[0mformatter\u001b[0m\u001b[0;34m(\u001b[0m\u001b[0mobj\u001b[0m\u001b[0;34m)\u001b[0m\u001b[0;34m\u001b[0m\u001b[0m\n\u001b[0m\u001b[1;32m    172\u001b[0m             \u001b[0;32mexcept\u001b[0m\u001b[0;34m:\u001b[0m\u001b[0;34m\u001b[0m\u001b[0m\n\u001b[1;32m    173\u001b[0m                 \u001b[0;31m# FIXME: log the exception\u001b[0m\u001b[0;34m\u001b[0m\u001b[0;34m\u001b[0m\u001b[0m\n",
      "\u001b[0;32m<decorator-gen-9>\u001b[0m in \u001b[0;36m__call__\u001b[0;34m(self, obj)\u001b[0m\n",
      "\u001b[0;32m/usr/local/lib/python3.5/dist-packages/IPython/core/formatters.py\u001b[0m in \u001b[0;36mcatch_format_error\u001b[0;34m(method, self, *args, **kwargs)\u001b[0m\n\u001b[1;32m    213\u001b[0m     \u001b[0;34m\"\"\"show traceback on failed format call\"\"\"\u001b[0m\u001b[0;34m\u001b[0m\u001b[0m\n\u001b[1;32m    214\u001b[0m     \u001b[0;32mtry\u001b[0m\u001b[0;34m:\u001b[0m\u001b[0;34m\u001b[0m\u001b[0m\n\u001b[0;32m--> 215\u001b[0;31m         \u001b[0mr\u001b[0m \u001b[0;34m=\u001b[0m \u001b[0mmethod\u001b[0m\u001b[0;34m(\u001b[0m\u001b[0mself\u001b[0m\u001b[0;34m,\u001b[0m \u001b[0;34m*\u001b[0m\u001b[0margs\u001b[0m\u001b[0;34m,\u001b[0m \u001b[0;34m**\u001b[0m\u001b[0mkwargs\u001b[0m\u001b[0;34m)\u001b[0m\u001b[0;34m\u001b[0m\u001b[0m\n\u001b[0m\u001b[1;32m    216\u001b[0m     \u001b[0;32mexcept\u001b[0m \u001b[0mNotImplementedError\u001b[0m\u001b[0;34m:\u001b[0m\u001b[0;34m\u001b[0m\u001b[0m\n\u001b[1;32m    217\u001b[0m         \u001b[0;31m# don't warn on NotImplementedErrors\u001b[0m\u001b[0;34m\u001b[0m\u001b[0;34m\u001b[0m\u001b[0m\n",
      "\u001b[0;32m/usr/local/lib/python3.5/dist-packages/IPython/core/formatters.py\u001b[0m in \u001b[0;36m__call__\u001b[0;34m(self, obj)\u001b[0m\n\u001b[1;32m    334\u001b[0m             \u001b[0mmethod\u001b[0m \u001b[0;34m=\u001b[0m \u001b[0mget_real_method\u001b[0m\u001b[0;34m(\u001b[0m\u001b[0mobj\u001b[0m\u001b[0;34m,\u001b[0m \u001b[0mself\u001b[0m\u001b[0;34m.\u001b[0m\u001b[0mprint_method\u001b[0m\u001b[0;34m)\u001b[0m\u001b[0;34m\u001b[0m\u001b[0m\n\u001b[1;32m    335\u001b[0m             \u001b[0;32mif\u001b[0m \u001b[0mmethod\u001b[0m \u001b[0;32mis\u001b[0m \u001b[0;32mnot\u001b[0m \u001b[0;32mNone\u001b[0m\u001b[0;34m:\u001b[0m\u001b[0;34m\u001b[0m\u001b[0m\n\u001b[0;32m--> 336\u001b[0;31m                 \u001b[0;32mreturn\u001b[0m \u001b[0mmethod\u001b[0m\u001b[0;34m(\u001b[0m\u001b[0;34m)\u001b[0m\u001b[0;34m\u001b[0m\u001b[0m\n\u001b[0m\u001b[1;32m    337\u001b[0m             \u001b[0;32mreturn\u001b[0m \u001b[0;32mNone\u001b[0m\u001b[0;34m\u001b[0m\u001b[0m\n\u001b[1;32m    338\u001b[0m         \u001b[0;32melse\u001b[0m\u001b[0;34m:\u001b[0m\u001b[0;34m\u001b[0m\u001b[0m\n",
      "\u001b[0;32m/usr/lib/python3/dist-packages/matplotlib/animation.py\u001b[0m in \u001b[0;36m_repr_html_\u001b[0;34m(self)\u001b[0m\n\u001b[1;32m    979\u001b[0m         \u001b[0mfmt\u001b[0m \u001b[0;34m=\u001b[0m \u001b[0mrcParams\u001b[0m\u001b[0;34m[\u001b[0m\u001b[0;34m'animation.html'\u001b[0m\u001b[0;34m]\u001b[0m\u001b[0;34m\u001b[0m\u001b[0m\n\u001b[1;32m    980\u001b[0m         \u001b[0;32mif\u001b[0m \u001b[0mfmt\u001b[0m \u001b[0;34m==\u001b[0m \u001b[0;34m'html5'\u001b[0m\u001b[0;34m:\u001b[0m\u001b[0;34m\u001b[0m\u001b[0m\n\u001b[0;32m--> 981\u001b[0;31m             \u001b[0;32mreturn\u001b[0m \u001b[0mself\u001b[0m\u001b[0;34m.\u001b[0m\u001b[0mto_html5_video\u001b[0m\u001b[0;34m(\u001b[0m\u001b[0;34m)\u001b[0m\u001b[0;34m\u001b[0m\u001b[0m\n\u001b[0m\u001b[1;32m    982\u001b[0m \u001b[0;34m\u001b[0m\u001b[0m\n\u001b[1;32m    983\u001b[0m \u001b[0;34m\u001b[0m\u001b[0m\n",
      "\u001b[0;32m/usr/lib/python3/dist-packages/matplotlib/animation.py\u001b[0m in \u001b[0;36mto_html5_video\u001b[0;34m(self)\u001b[0m\n\u001b[1;32m    953\u001b[0m                                 \u001b[0mbitrate\u001b[0m\u001b[0;34m=\u001b[0m\u001b[0mrcParams\u001b[0m\u001b[0;34m[\u001b[0m\u001b[0;34m'animation.bitrate'\u001b[0m\u001b[0;34m]\u001b[0m\u001b[0;34m,\u001b[0m\u001b[0;34m\u001b[0m\u001b[0m\n\u001b[1;32m    954\u001b[0m                                 fps=1000. / self._interval)\n\u001b[0;32m--> 955\u001b[0;31m                 \u001b[0mself\u001b[0m\u001b[0;34m.\u001b[0m\u001b[0msave\u001b[0m\u001b[0;34m(\u001b[0m\u001b[0mf\u001b[0m\u001b[0;34m.\u001b[0m\u001b[0mname\u001b[0m\u001b[0;34m,\u001b[0m \u001b[0mwriter\u001b[0m\u001b[0;34m=\u001b[0m\u001b[0mwriter\u001b[0m\u001b[0;34m)\u001b[0m\u001b[0;34m\u001b[0m\u001b[0m\n\u001b[0m\u001b[1;32m    956\u001b[0m \u001b[0;34m\u001b[0m\u001b[0m\n\u001b[1;32m    957\u001b[0m             \u001b[0;31m# Now open and base64 encode\u001b[0m\u001b[0;34m\u001b[0m\u001b[0;34m\u001b[0m\u001b[0m\n",
      "\u001b[0;32m/usr/lib/python3/dist-packages/matplotlib/animation.py\u001b[0m in \u001b[0;36msave\u001b[0;34m(self, filename, writer, fps, dpi, codec, bitrate, extra_args, metadata, extra_anim, savefig_kwargs)\u001b[0m\n\u001b[1;32m    808\u001b[0m                     \u001b[0;31m# TODO: Need to see if turning off blit is really necessary\u001b[0m\u001b[0;34m\u001b[0m\u001b[0;34m\u001b[0m\u001b[0m\n\u001b[1;32m    809\u001b[0m                     \u001b[0manim\u001b[0m\u001b[0;34m.\u001b[0m\u001b[0m_draw_next_frame\u001b[0m\u001b[0;34m(\u001b[0m\u001b[0md\u001b[0m\u001b[0;34m,\u001b[0m \u001b[0mblit\u001b[0m\u001b[0;34m=\u001b[0m\u001b[0;32mFalse\u001b[0m\u001b[0;34m)\u001b[0m\u001b[0;34m\u001b[0m\u001b[0m\n\u001b[0;32m--> 810\u001b[0;31m                 \u001b[0mwriter\u001b[0m\u001b[0;34m.\u001b[0m\u001b[0mgrab_frame\u001b[0m\u001b[0;34m(\u001b[0m\u001b[0;34m**\u001b[0m\u001b[0msavefig_kwargs\u001b[0m\u001b[0;34m)\u001b[0m\u001b[0;34m\u001b[0m\u001b[0m\n\u001b[0m\u001b[1;32m    811\u001b[0m \u001b[0;34m\u001b[0m\u001b[0m\n\u001b[1;32m    812\u001b[0m         \u001b[0;31m# Reconnect signal for first draw if necessary\u001b[0m\u001b[0;34m\u001b[0m\u001b[0;34m\u001b[0m\u001b[0m\n",
      "\u001b[0;32m/usr/lib/python3/dist-packages/matplotlib/animation.py\u001b[0m in \u001b[0;36mgrab_frame\u001b[0;34m(self, **savefig_kwargs)\u001b[0m\n\u001b[1;32m    228\u001b[0m             \u001b[0;31m# frame format and dpi.\u001b[0m\u001b[0;34m\u001b[0m\u001b[0;34m\u001b[0m\u001b[0m\n\u001b[1;32m    229\u001b[0m             self.fig.savefig(self._frame_sink(), format=self.frame_format,\n\u001b[0;32m--> 230\u001b[0;31m                              dpi=self.dpi, **savefig_kwargs)\n\u001b[0m\u001b[1;32m    231\u001b[0m         \u001b[0;32mexcept\u001b[0m \u001b[0mRuntimeError\u001b[0m\u001b[0;34m:\u001b[0m\u001b[0;34m\u001b[0m\u001b[0m\n\u001b[1;32m    232\u001b[0m             \u001b[0mout\u001b[0m\u001b[0;34m,\u001b[0m \u001b[0merr\u001b[0m \u001b[0;34m=\u001b[0m \u001b[0mself\u001b[0m\u001b[0;34m.\u001b[0m\u001b[0m_proc\u001b[0m\u001b[0;34m.\u001b[0m\u001b[0mcommunicate\u001b[0m\u001b[0;34m(\u001b[0m\u001b[0;34m)\u001b[0m\u001b[0;34m\u001b[0m\u001b[0m\n",
      "\u001b[0;32m/usr/lib/python3/dist-packages/matplotlib/figure.py\u001b[0m in \u001b[0;36msavefig\u001b[0;34m(self, *args, **kwargs)\u001b[0m\n\u001b[1;32m   1563\u001b[0m             \u001b[0mself\u001b[0m\u001b[0;34m.\u001b[0m\u001b[0mset_frameon\u001b[0m\u001b[0;34m(\u001b[0m\u001b[0mframeon\u001b[0m\u001b[0;34m)\u001b[0m\u001b[0;34m\u001b[0m\u001b[0m\n\u001b[1;32m   1564\u001b[0m \u001b[0;34m\u001b[0m\u001b[0m\n\u001b[0;32m-> 1565\u001b[0;31m         \u001b[0mself\u001b[0m\u001b[0;34m.\u001b[0m\u001b[0mcanvas\u001b[0m\u001b[0;34m.\u001b[0m\u001b[0mprint_figure\u001b[0m\u001b[0;34m(\u001b[0m\u001b[0;34m*\u001b[0m\u001b[0margs\u001b[0m\u001b[0;34m,\u001b[0m \u001b[0;34m**\u001b[0m\u001b[0mkwargs\u001b[0m\u001b[0;34m)\u001b[0m\u001b[0;34m\u001b[0m\u001b[0m\n\u001b[0m\u001b[1;32m   1566\u001b[0m \u001b[0;34m\u001b[0m\u001b[0m\n\u001b[1;32m   1567\u001b[0m         \u001b[0;32mif\u001b[0m \u001b[0mframeon\u001b[0m\u001b[0;34m:\u001b[0m\u001b[0;34m\u001b[0m\u001b[0m\n",
      "\u001b[0;32m/usr/lib/python3/dist-packages/matplotlib/backend_bases.py\u001b[0m in \u001b[0;36mprint_figure\u001b[0;34m(self, filename, dpi, facecolor, edgecolor, orientation, format, **kwargs)\u001b[0m\n\u001b[1;32m   2230\u001b[0m                 \u001b[0morientation\u001b[0m\u001b[0;34m=\u001b[0m\u001b[0morientation\u001b[0m\u001b[0;34m,\u001b[0m\u001b[0;34m\u001b[0m\u001b[0m\n\u001b[1;32m   2231\u001b[0m                 \u001b[0mbbox_inches_restore\u001b[0m\u001b[0;34m=\u001b[0m\u001b[0m_bbox_inches_restore\u001b[0m\u001b[0;34m,\u001b[0m\u001b[0;34m\u001b[0m\u001b[0m\n\u001b[0;32m-> 2232\u001b[0;31m                 **kwargs)\n\u001b[0m\u001b[1;32m   2233\u001b[0m         \u001b[0;32mfinally\u001b[0m\u001b[0;34m:\u001b[0m\u001b[0;34m\u001b[0m\u001b[0m\n\u001b[1;32m   2234\u001b[0m             \u001b[0;32mif\u001b[0m \u001b[0mbbox_inches\u001b[0m \u001b[0;32mand\u001b[0m \u001b[0mrestore_bbox\u001b[0m\u001b[0;34m:\u001b[0m\u001b[0;34m\u001b[0m\u001b[0m\n",
      "\u001b[0;32m/usr/lib/python3/dist-packages/matplotlib/backends/backend_agg.py\u001b[0m in \u001b[0;36mprint_raw\u001b[0;34m(self, filename_or_obj, *args, **kwargs)\u001b[0m\n\u001b[1;32m    506\u001b[0m \u001b[0;34m\u001b[0m\u001b[0m\n\u001b[1;32m    507\u001b[0m     \u001b[0;32mdef\u001b[0m \u001b[0mprint_raw\u001b[0m\u001b[0;34m(\u001b[0m\u001b[0mself\u001b[0m\u001b[0;34m,\u001b[0m \u001b[0mfilename_or_obj\u001b[0m\u001b[0;34m,\u001b[0m \u001b[0;34m*\u001b[0m\u001b[0margs\u001b[0m\u001b[0;34m,\u001b[0m \u001b[0;34m**\u001b[0m\u001b[0mkwargs\u001b[0m\u001b[0;34m)\u001b[0m\u001b[0;34m:\u001b[0m\u001b[0;34m\u001b[0m\u001b[0m\n\u001b[0;32m--> 508\u001b[0;31m         \u001b[0mFigureCanvasAgg\u001b[0m\u001b[0;34m.\u001b[0m\u001b[0mdraw\u001b[0m\u001b[0;34m(\u001b[0m\u001b[0mself\u001b[0m\u001b[0;34m)\u001b[0m\u001b[0;34m\u001b[0m\u001b[0m\n\u001b[0m\u001b[1;32m    509\u001b[0m         \u001b[0mrenderer\u001b[0m \u001b[0;34m=\u001b[0m \u001b[0mself\u001b[0m\u001b[0;34m.\u001b[0m\u001b[0mget_renderer\u001b[0m\u001b[0;34m(\u001b[0m\u001b[0;34m)\u001b[0m\u001b[0;34m\u001b[0m\u001b[0m\n\u001b[1;32m    510\u001b[0m         \u001b[0moriginal_dpi\u001b[0m \u001b[0;34m=\u001b[0m \u001b[0mrenderer\u001b[0m\u001b[0;34m.\u001b[0m\u001b[0mdpi\u001b[0m\u001b[0;34m\u001b[0m\u001b[0m\n",
      "\u001b[0;32m/usr/lib/python3/dist-packages/matplotlib/backends/backend_agg.py\u001b[0m in \u001b[0;36mdraw\u001b[0;34m(self)\u001b[0m\n\u001b[1;32m    467\u001b[0m         \u001b[0;32mif\u001b[0m \u001b[0m__debug__\u001b[0m\u001b[0;34m:\u001b[0m \u001b[0mverbose\u001b[0m\u001b[0;34m.\u001b[0m\u001b[0mreport\u001b[0m\u001b[0;34m(\u001b[0m\u001b[0;34m'FigureCanvasAgg.draw'\u001b[0m\u001b[0;34m,\u001b[0m \u001b[0;34m'debug-annoying'\u001b[0m\u001b[0;34m)\u001b[0m\u001b[0;34m\u001b[0m\u001b[0m\n\u001b[1;32m    468\u001b[0m \u001b[0;34m\u001b[0m\u001b[0m\n\u001b[0;32m--> 469\u001b[0;31m         \u001b[0mself\u001b[0m\u001b[0;34m.\u001b[0m\u001b[0mrenderer\u001b[0m \u001b[0;34m=\u001b[0m \u001b[0mself\u001b[0m\u001b[0;34m.\u001b[0m\u001b[0mget_renderer\u001b[0m\u001b[0;34m(\u001b[0m\u001b[0mcleared\u001b[0m\u001b[0;34m=\u001b[0m\u001b[0;32mTrue\u001b[0m\u001b[0;34m)\u001b[0m\u001b[0;34m\u001b[0m\u001b[0m\n\u001b[0m\u001b[1;32m    470\u001b[0m         \u001b[0;31m# acquire a lock on the shared font cache\u001b[0m\u001b[0;34m\u001b[0m\u001b[0;34m\u001b[0m\u001b[0m\n\u001b[1;32m    471\u001b[0m         \u001b[0mRendererAgg\u001b[0m\u001b[0;34m.\u001b[0m\u001b[0mlock\u001b[0m\u001b[0;34m.\u001b[0m\u001b[0macquire\u001b[0m\u001b[0;34m(\u001b[0m\u001b[0;34m)\u001b[0m\u001b[0;34m\u001b[0m\u001b[0m\n",
      "\u001b[0;32m/usr/lib/python3/dist-packages/matplotlib/backends/backend_agg.py\u001b[0m in \u001b[0;36mget_renderer\u001b[0;34m(self, cleared)\u001b[0m\n\u001b[1;32m    484\u001b[0m \u001b[0;34m\u001b[0m\u001b[0m\n\u001b[1;32m    485\u001b[0m         \u001b[0;32mif\u001b[0m \u001b[0mneed_new_renderer\u001b[0m\u001b[0;34m:\u001b[0m\u001b[0;34m\u001b[0m\u001b[0m\n\u001b[0;32m--> 486\u001b[0;31m             \u001b[0mself\u001b[0m\u001b[0;34m.\u001b[0m\u001b[0mrenderer\u001b[0m \u001b[0;34m=\u001b[0m \u001b[0mRendererAgg\u001b[0m\u001b[0;34m(\u001b[0m\u001b[0mw\u001b[0m\u001b[0;34m,\u001b[0m \u001b[0mh\u001b[0m\u001b[0;34m,\u001b[0m \u001b[0mself\u001b[0m\u001b[0;34m.\u001b[0m\u001b[0mfigure\u001b[0m\u001b[0;34m.\u001b[0m\u001b[0mdpi\u001b[0m\u001b[0;34m)\u001b[0m\u001b[0;34m\u001b[0m\u001b[0m\n\u001b[0m\u001b[1;32m    487\u001b[0m             \u001b[0mself\u001b[0m\u001b[0;34m.\u001b[0m\u001b[0m_lastKey\u001b[0m \u001b[0;34m=\u001b[0m \u001b[0mkey\u001b[0m\u001b[0;34m\u001b[0m\u001b[0m\n\u001b[1;32m    488\u001b[0m         \u001b[0;32melif\u001b[0m \u001b[0mcleared\u001b[0m\u001b[0;34m:\u001b[0m\u001b[0;34m\u001b[0m\u001b[0m\n",
      "\u001b[0;32m/usr/lib/python3/dist-packages/matplotlib/backends/backend_agg.py\u001b[0m in \u001b[0;36m__init__\u001b[0;34m(self, width, height, dpi)\u001b[0m\n\u001b[1;32m     91\u001b[0m         \u001b[0mself\u001b[0m\u001b[0;34m.\u001b[0m\u001b[0mheight\u001b[0m \u001b[0;34m=\u001b[0m \u001b[0mheight\u001b[0m\u001b[0;34m\u001b[0m\u001b[0m\n\u001b[1;32m     92\u001b[0m         \u001b[0;32mif\u001b[0m \u001b[0m__debug__\u001b[0m\u001b[0;34m:\u001b[0m \u001b[0mverbose\u001b[0m\u001b[0;34m.\u001b[0m\u001b[0mreport\u001b[0m\u001b[0;34m(\u001b[0m\u001b[0;34m'RendererAgg.__init__ width=%s, height=%s'\u001b[0m\u001b[0;34m%\u001b[0m\u001b[0;34m(\u001b[0m\u001b[0mwidth\u001b[0m\u001b[0;34m,\u001b[0m \u001b[0mheight\u001b[0m\u001b[0;34m)\u001b[0m\u001b[0;34m,\u001b[0m \u001b[0;34m'debug-annoying'\u001b[0m\u001b[0;34m)\u001b[0m\u001b[0;34m\u001b[0m\u001b[0m\n\u001b[0;32m---> 93\u001b[0;31m         \u001b[0mself\u001b[0m\u001b[0;34m.\u001b[0m\u001b[0m_renderer\u001b[0m \u001b[0;34m=\u001b[0m \u001b[0m_RendererAgg\u001b[0m\u001b[0;34m(\u001b[0m\u001b[0mint\u001b[0m\u001b[0;34m(\u001b[0m\u001b[0mwidth\u001b[0m\u001b[0;34m)\u001b[0m\u001b[0;34m,\u001b[0m \u001b[0mint\u001b[0m\u001b[0;34m(\u001b[0m\u001b[0mheight\u001b[0m\u001b[0;34m)\u001b[0m\u001b[0;34m,\u001b[0m \u001b[0mdpi\u001b[0m\u001b[0;34m,\u001b[0m \u001b[0mdebug\u001b[0m\u001b[0;34m=\u001b[0m\u001b[0;32mFalse\u001b[0m\u001b[0;34m)\u001b[0m\u001b[0;34m\u001b[0m\u001b[0m\n\u001b[0m\u001b[1;32m     94\u001b[0m         \u001b[0mself\u001b[0m\u001b[0;34m.\u001b[0m\u001b[0m_filter_renderers\u001b[0m \u001b[0;34m=\u001b[0m \u001b[0;34m[\u001b[0m\u001b[0;34m]\u001b[0m\u001b[0;34m\u001b[0m\u001b[0m\n\u001b[1;32m     95\u001b[0m \u001b[0;34m\u001b[0m\u001b[0m\n",
      "\u001b[0;31mKeyboardInterrupt\u001b[0m: "
     ]
    }
   ],
   "source": [
    "anim"
   ]
  },
  {
   "cell_type": "markdown",
   "metadata": {},
   "source": [
    "### Conway's conjecture"
   ]
  },
  {
   "cell_type": "markdown",
   "metadata": {},
   "source": [
    "Gosper's glider gun was the first entity to be discovered that produces an unbounded number of live cells, which refutes Conway's conjecture."
   ]
  },
  {
   "cell_type": "code",
   "execution_count": null,
   "metadata": {
    "collapsed": true
   },
   "outputs": [],
   "source": [
    "glider_gun = [\n",
    "    '000000000000000000000000100000000000',\n",
    "    '000000000000000000000010100000000000',\n",
    "    '000000000000110000001100000000000011',\n",
    "    '000000000001000100001100000000000011',\n",
    "    '110000000010000010001100000000000000',\n",
    "    '110000000010001011000010100000000000',\n",
    "    '000000000010000010000000100000000000',\n",
    "    '000000000001000100000000000000000000',\n",
    "    '000000000000110000000000000000000000'\n",
    "]"
   ]
  },
  {
   "cell_type": "markdown",
   "metadata": {},
   "source": [
    "Here's the initial configuration:"
   ]
  },
  {
   "cell_type": "code",
   "execution_count": null,
   "metadata": {},
   "outputs": [],
   "source": [
    "viewer = make_viewer(11, 38, 1, 1, *glider_gun)\n",
    "viewer.draw(grid=True)\n",
    "plt.savefig('chap06-5.pdf')"
   ]
  },
  {
   "cell_type": "markdown",
   "metadata": {},
   "source": [
    "And here's what it looks like running:"
   ]
  },
  {
   "cell_type": "code",
   "execution_count": null,
   "metadata": {},
   "outputs": [],
   "source": [
    "viewer = make_viewer(50, 50, 2, 2, *glider_gun)\n",
    "anim = viewer.animate(frames=500, interval=20)"
   ]
  },
  {
   "cell_type": "code",
   "execution_count": null,
   "metadata": {},
   "outputs": [],
   "source": [
    "anim"
   ]
  },
  {
   "cell_type": "markdown",
   "metadata": {},
   "source": [
    "### Implementing Game of Life\n",
    "\n",
    "As an example, I'll start with an array of random cells:"
   ]
  },
  {
   "cell_type": "code",
   "execution_count": null,
   "metadata": {},
   "outputs": [],
   "source": [
    "a = np.random.randint(2, size=(10, 10)).astype(np.uint8)\n",
    "print(a)"
   ]
  },
  {
   "cell_type": "markdown",
   "metadata": {},
   "source": [
    "The following is a straightforward translation of the GoL rules using `for` loops and array slicing."
   ]
  },
  {
   "cell_type": "code",
   "execution_count": null,
   "metadata": {},
   "outputs": [],
   "source": [
    "b = np.zeros_like(a)\n",
    "rows, cols = a.shape\n",
    "for i in range(1, rows-1):\n",
    "    for j in range(1, cols-1):\n",
    "        state = a[i, j]\n",
    "        neighbors = a[i-1:i+2, j-1:j+2]\n",
    "        k = np.sum(neighbors) - state\n",
    "        if state:\n",
    "            if k==2 or k==3:\n",
    "                b[i, j] = 1\n",
    "        else:\n",
    "            if k == 3:\n",
    "                b[i, j] = 1\n",
    "\n",
    "print(b)"
   ]
  },
  {
   "cell_type": "markdown",
   "metadata": {},
   "source": [
    "Here's a smaller, faster version using cross correlation."
   ]
  },
  {
   "cell_type": "code",
   "execution_count": null,
   "metadata": {},
   "outputs": [],
   "source": [
    "from scipy.signal import correlate2d\n",
    "\n",
    "kernel = np.array([[1, 1, 1],\n",
    "                   [1, 0, 1],\n",
    "                   [1, 1, 1]])\n",
    "\n",
    "c = correlate2d(a, kernel, mode='same')\n",
    "b = (c==3) | (c==2) & a\n",
    "b = b.astype(np.uint8)\n",
    "print(b)"
   ]
  },
  {
   "cell_type": "markdown",
   "metadata": {},
   "source": [
    "Using a kernel that gives a weight of 10 to the center cell, we can simplify the logic a little."
   ]
  },
  {
   "cell_type": "code",
   "execution_count": null,
   "metadata": {},
   "outputs": [],
   "source": [
    "kernel = np.array([[1, 1, 1],\n",
    "                   [1,10, 1],\n",
    "                   [1, 1, 1]])\n",
    "\n",
    "c = correlate2d(a, kernel, mode='same')\n",
    "b = (c==3) | (c==12) | (c==13)\n",
    "b = b.astype(np.uint8)\n",
    "print(b)"
   ]
  },
  {
   "cell_type": "markdown",
   "metadata": {},
   "source": [
    "More importantly, the second version of the kernel makes it possible to use a look up table to get the next state, which is faster and even more concise."
   ]
  },
  {
   "cell_type": "code",
   "execution_count": null,
   "metadata": {},
   "outputs": [],
   "source": [
    "table = np.zeros(20, dtype=np.uint8)\n",
    "table[[3, 12, 13]] = 1\n",
    "c = correlate2d(a, kernel, mode='same')\n",
    "b = table[c]\n",
    "print(b)"
   ]
  },
  {
   "cell_type": "markdown",
   "metadata": {},
   "source": [
    "**Exercise:**  Start GoL in a random state and run it until it stabilizes.\n",
    "What stable patterns can you identify?"
   ]
  },
  {
   "cell_type": "code",
   "execution_count": null,
   "metadata": {},
   "outputs": [],
   "source": [
    "n, m = 100, 100\n",
    "life = Life(n, m)\n",
    "life.array = np.random.randint(2, size=(n, m)).astype(np.uint8)\n",
    "viewer = LifeViewer(life)\n",
    "anim = viewer.animate(frames=500, interval=20)"
   ]
  },
  {
   "cell_type": "code",
   "execution_count": null,
   "metadata": {},
   "outputs": [],
   "source": [
    "anim"
   ]
  },
  {
   "cell_type": "markdown",
   "metadata": {},
   "source": [
    "**Exercise:** Many Game of Life patterns are available in portable file formats.  For one source, see http://www.conwaylife.com/wiki/Main_Page.\n",
    "\n",
    "Write a function to parse one of these formats and initialize the array."
   ]
  },
  {
   "cell_type": "markdown",
   "metadata": {},
   "source": [
    "I am currently initizalising the period 2 oscillator."
   ]
  },
  {
   "cell_type": "code",
   "execution_count": null,
   "metadata": {
    "collapsed": true
   },
   "outputs": [],
   "source": [
    "def read_life_pattern(life, filename, row, col):\n",
    "    i = row\n",
    "    with open(filename) as f:\n",
    "        for line in f:\n",
    "            line = line.strip()\n",
    "            line = line.replace('0','1')\n",
    "            line = line.replace('.','0')\n",
    "            life.add_cells(i,col,line)\n",
    "            i += 1"
   ]
  },
  {
   "cell_type": "code",
   "execution_count": null,
   "metadata": {},
   "outputs": [],
   "source": [
    "n = 10\n",
    "m = 10\n",
    "row = 1\n",
    "col = 1\n",
    "\n",
    "life = Life(n,m)\n",
    "read_life_pattern(life, '18P2.471.txt' , row,col)\n",
    "viewer = LifeViewer(life)\n",
    "anim = viewer.animate(frames=40, interval=100)\n"
   ]
  },
  {
   "cell_type": "code",
   "execution_count": null,
   "metadata": {},
   "outputs": [],
   "source": [
    "anim"
   ]
  },
  {
   "cell_type": "markdown",
   "metadata": {},
   "source": [
    "**Exercise:** One of the longest-lived small patterns is ``rabbits'', which starts with\n",
    "9 live cells and takes 17 331 steps to stabilize.  You can get the initial configuration in various formats from http://www.conwaylife.com/wiki/Rabbits.  Load this configuration\n",
    "and run it."
   ]
  },
  {
   "cell_type": "code",
   "execution_count": null,
   "metadata": {},
   "outputs": [],
   "source": [
    "n = 50\n",
    "m = 50\n",
    "row = 1\n",
    "col = 1\n",
    "\n",
    "life = Life(n,m)\n",
    "read_life_pattern(life, 'rabbits.txt', row, col)\n",
    "viewer = LifeViewer(life)\n",
    "anim = viewer.animate(frames=500, interval=100)"
   ]
  },
  {
   "cell_type": "code",
   "execution_count": null,
   "metadata": {},
   "outputs": [],
   "source": [
    "anim"
   ]
  },
  {
   "cell_type": "markdown",
   "metadata": {},
   "source": [
    "**Exercise:** In my implementation, the `Life` class is based on a parent class\n",
    "called `Cell2D`, and `LifeViewer` is based on `Cell2DViewer`.  You can\n",
    "use these base classes to implement other 2-D cellular automatons.\n",
    "\n",
    "For example, one variation of GoL, called ``Highlife'', has the\n",
    "same rules as GoL, plus one additional rule: a dead cell with 6\n",
    "neighbors comes to life.\n",
    "\n",
    "Write a class named `Highlife` that inherits from `Cell2D` and implements\n",
    "this version of the rules.  Also write a class named `HighlifeViewer`\n",
    "that inherits from `Cell2DViewer` and try different ways\n",
    "to visualize the results.  As a simple example, use a different\n",
    "color map.\n",
    "\n",
    "One of the more interesting patterns in Highlife is the replicator.\n",
    "Use `add_cells` to initialize Highlife with a replicator and see what it\n",
    "does."
   ]
  },
  {
   "cell_type": "code",
   "execution_count": null,
   "metadata": {
    "collapsed": true
   },
   "outputs": [],
   "source": [
    "class Highlife(Cell2D):\n",
    "    \n",
    "    kernel = np.array([[1,1,1],[1,10,1],[1,1,1]])\n",
    "    table = np.zeros(20, dtype=np.uint8)\n",
    "    table[[3,6,12,13]] = 1\n",
    "        \n",
    "    \n",
    "    def step(self):\n",
    "        c = correlate2d(self.array, self.kernel, mode='same')\n",
    "        self.array = self.table[c]\n",
    "    "
   ]
  },
  {
   "cell_type": "code",
   "execution_count": null,
   "metadata": {
    "collapsed": true
   },
   "outputs": [],
   "source": [
    "class HighLifeViewer(Cell2DViewer):\n",
    "    cmap = plt.get_cmap('Blues')"
   ]
  },
  {
   "cell_type": "code",
   "execution_count": null,
   "metadata": {
    "scrolled": true
   },
   "outputs": [],
   "source": [
    "n = 50\n",
    "life = Highlife(n)\n",
    "read_life_pattern(life, 'replicator.txt', row, col)\n",
    "viewer = HighLifeViewer(life)\n",
    "anim = viewer.animate(frames=500)"
   ]
  },
  {
   "cell_type": "code",
   "execution_count": null,
   "metadata": {},
   "outputs": [],
   "source": [
    "anim"
   ]
  },
  {
   "cell_type": "markdown",
   "metadata": {},
   "source": [
    "**Exercise:** \n",
    "\n",
    "If you generalize the Turing machine to two dimensions, or\n",
    "add a read-write head to a 2-D CA, the result is a\n",
    "cellular automaton called a Turmite.  It is named after a\n",
    "termite because of the way the read-write head moves, but\n",
    "spelled wrong as an homage to Alan Turing.\n",
    "\n",
    "The most famous Turmite is Langton's Ant, discovered by Chris Langton\n",
    "in 1986.  See http://en.wikipedia.org/wiki/Langton_ant.\n",
    "\n",
    "The ant is a read-write head with\n",
    "four states, which you can think of as facing north, south,\n",
    "east or west.  The cells have two states, black and white.\n",
    "\n",
    "The rules are simple.  During each time step, the ant checks the color\n",
    "of the cell it is on.  If black, the ant turns to the right,\n",
    "changes the cell to white, and moves forward one space.  If the cell\n",
    "is white, the ant turns left, changes the cell to black, and moves\n",
    "forward.\n",
    "\n",
    "Given a simple world, a simple set of rules, and only one moving part,\n",
    "you might expect to see simple behavior---but you should know\n",
    "better by now.  Starting with all white cells, Langton's ant\n",
    "moves in a seemingly random pattern for more than 10 000 steps\n",
    "before it enters a cycle with a period of 104 steps.  After\n",
    "each cycle, the ant is translated diagonally, so it leaves\n",
    "a trail called the \"highway\".\n",
    "\n",
    "Write an implementation of Langton's Ant."
   ]
  },
  {
   "cell_type": "code",
   "execution_count": 125,
   "metadata": {},
   "outputs": [],
   "source": [
    "class Turmite:\n",
    "    move = {0:(-1,0), 1:(0,1), 2:(1,0),3:(0,-1)} # looked at the solution code to implement move\n",
    "    \n",
    "    def __init__ (self,n,m):\n",
    "        self.n = n\n",
    "        self.m = m\n",
    "        self.array = np.zeros((n,m), np.uint8)\n",
    "        self.loc = (n//2,m//2) #starting location/ current location\n",
    "        self.state = 0 # everyone is just 0 at first!\n",
    "    \n",
    "    def step(self):\n",
    "        try:\n",
    "            cell = self.array[self.loc]\n",
    "        except IndexError:\n",
    "            sys.exit()\n",
    "            \n",
    "        self.array[self.loc] ^= 1\n",
    "\n",
    "        if cell:\n",
    "            #self.array[self.loc] = 1\n",
    "            self.state = (self.state + 3) % 4\n",
    "        else:\n",
    "            self.state = (self.state + 1) % 4\n",
    "            #self.array[self.loc] = 0\n",
    "\n",
    "        #self.loc = self.loc[0] + self.move[self.state][0] + self.loc[1] + self.move[self.state][1]\n",
    "        move = self.move[self.state]\n",
    "        self.loc = self.loc[0] + move[0], self.loc[1] + move[1]\n",
    "        \n"
   ]
  },
  {
   "cell_type": "markdown",
   "metadata": {},
   "source": [
    "Did most of the class Turmite on my own, fixing code with solution code. However, I had no idea how to do the TurmiteViewer so I relied heavily on the solution code."
   ]
  },
  {
   "cell_type": "code",
   "execution_count": 133,
   "metadata": {},
   "outputs": [],
   "source": [
    "class TurmiteViewer(Cell2DViewer):\n",
    "    \"\"\"Generates an animated view of the grid.\"\"\"\n",
    "\n",
    "    cmap = plt.get_cmap('Blues')\n",
    "\n",
    "    def __init__(self, viewee):\n",
    "        Cell2DViewer.__init__(self, viewee)\n",
    "        self.viewee = viewee #turmite object\n",
    "        self.arrow = None\n",
    "\n",
    "    def draw(self, grid = False):\n",
    "        \"\"\"Updates the display with the state of the grid.\"\"\"\n",
    "        self.draw_array(self.viewee.array) #takes the array and draws it\n",
    "        self.draw_arrow() #draws arrow\n",
    "        if grid: # need grid cause animate takes grid\n",
    "            self.draw_grid() # built in function\n",
    "\n",
    "    def draw_arrow(self):\n",
    "        \"\"\"Draws the arrow.\"\"\"\n",
    "        center, angle = self.arrow_specs() #finds center of where arrow should be and direction\n",
    "        self.arrow = RegularPolygon(center, 3, color='blue',\n",
    "                                    radius=0.4, orientation=angle) # triangle that has an angle\n",
    "        ax = plt.gca()\n",
    "        ax.add_patch(self.arrow)\n",
    "\n",
    "    def arrow_specs(self):\n",
    "        \"\"\"Computes the center and orientation of the arrow.\"\"\"\n",
    "        a = self.viewee.array \n",
    "        n, m = a.shape\n",
    "        i, j = self.viewee.loc\n",
    "        center = j+0.5, n-i-0.5 #finds where it should position\n",
    "        angle = -np.pi / 2 * self.viewee.state #finds the current state and since the origin of an array is upper right, is negative \n",
    "        return center, angle\n",
    "\n",
    "    def animate_func(self, i):\n",
    "        \"\"\"Draws one frame of the animation.\"\"\"\n",
    "        self.step() #goes through the process of finding the info\n",
    "\n",
    "        # update the array\n",
    "        a = self.viewee.array \n",
    "        self.im.set_array(a)\n",
    "\n",
    "        # update the arrow\n",
    "        center, angle = self.arrow_specs()\n",
    "        self.arrow.xy = center #positions arrow\n",
    "        self.arrow.orientation = angle\n",
    "\n",
    "        return (self.im, self.arrow)\n",
    "\n",
    "\n"
   ]
  },
  {
   "cell_type": "code",
   "execution_count": 135,
   "metadata": {},
   "outputs": [
    {
     "ename": "TypeError",
     "evalue": "draw() takes 1 positional argument but 2 were given",
     "output_type": "error",
     "traceback": [
      "\u001b[0;31m---------------------------------------------------------------------------\u001b[0m",
      "\u001b[0;31mTypeError\u001b[0m                                 Traceback (most recent call last)",
      "\u001b[0;32m<ipython-input-135-89798ba78dda>\u001b[0m in \u001b[0;36m<module>\u001b[0;34m()\u001b[0m\n\u001b[1;32m      3\u001b[0m \u001b[0mturmite\u001b[0m \u001b[0;34m=\u001b[0m \u001b[0mTurmite\u001b[0m\u001b[0;34m(\u001b[0m\u001b[0mn\u001b[0m\u001b[0;34m,\u001b[0m\u001b[0mm\u001b[0m\u001b[0;34m)\u001b[0m\u001b[0;34m\u001b[0m\u001b[0m\n\u001b[1;32m      4\u001b[0m \u001b[0mviewer\u001b[0m \u001b[0;34m=\u001b[0m \u001b[0mTurmiteViewer\u001b[0m\u001b[0;34m(\u001b[0m\u001b[0mturmite\u001b[0m\u001b[0;34m)\u001b[0m\u001b[0;34m\u001b[0m\u001b[0m\n\u001b[0;32m----> 5\u001b[0;31m \u001b[0manim\u001b[0m \u001b[0;34m=\u001b[0m \u001b[0mviewer\u001b[0m\u001b[0;34m.\u001b[0m\u001b[0manimate\u001b[0m\u001b[0;34m(\u001b[0m\u001b[0mframes\u001b[0m\u001b[0;34m=\u001b[0m\u001b[0;36m20\u001b[0m\u001b[0;34m,\u001b[0m \u001b[0minterval\u001b[0m\u001b[0;34m=\u001b[0m\u001b[0;36m500\u001b[0m\u001b[0;34m)\u001b[0m\u001b[0;34m\u001b[0m\u001b[0m\n\u001b[0m",
      "\u001b[0;32m~/Documents/ThinkComplexity2/code/Cell2D.py\u001b[0m in \u001b[0;36manimate\u001b[0;34m(self, frames, interval, grid)\u001b[0m\n\u001b[1;32m    120\u001b[0m         \"\"\"\n\u001b[1;32m    121\u001b[0m         \u001b[0mfig\u001b[0m \u001b[0;34m=\u001b[0m \u001b[0mplt\u001b[0m\u001b[0;34m.\u001b[0m\u001b[0mfigure\u001b[0m\u001b[0;34m(\u001b[0m\u001b[0;34m)\u001b[0m\u001b[0;34m\u001b[0m\u001b[0m\n\u001b[0;32m--> 122\u001b[0;31m         \u001b[0mself\u001b[0m\u001b[0;34m.\u001b[0m\u001b[0mdraw\u001b[0m\u001b[0;34m(\u001b[0m\u001b[0mgrid\u001b[0m\u001b[0;34m)\u001b[0m\u001b[0;34m\u001b[0m\u001b[0m\n\u001b[0m\u001b[1;32m    123\u001b[0m         anim = animation.FuncAnimation(fig, self.animate_func,\n\u001b[1;32m    124\u001b[0m                                        \u001b[0minit_func\u001b[0m\u001b[0;34m=\u001b[0m\u001b[0mself\u001b[0m\u001b[0;34m.\u001b[0m\u001b[0minit_func\u001b[0m\u001b[0;34m,\u001b[0m\u001b[0;34m\u001b[0m\u001b[0m\n",
      "\u001b[0;31mTypeError\u001b[0m: draw() takes 1 positional argument but 2 were given"
     ]
    },
    {
     "data": {
      "text/plain": [
       "<matplotlib.figure.Figure at 0x7f1f045aa668>"
      ]
     },
     "metadata": {},
     "output_type": "display_data"
    }
   ],
   "source": [
    "n = 5\n",
    "m = 5\n",
    "turmite = Turmite(n,m)\n",
    "viewer = TurmiteViewer(turmite)\n",
    "anim = viewer.animate(frames=20, interval=500)"
   ]
  },
  {
   "cell_type": "code",
   "execution_count": 129,
   "metadata": {},
   "outputs": [
    {
     "data": {
      "text/html": [
       "<video width=\"600.0\" height=\"400.0\" controls autoplay loop>\n",
       "  <source type=\"video/mp4\" src=\"data:video/mp4;base64,AAAAHGZ0eXBNNFYgAAACAGlzb21pc28yYXZjMQAAAAhmcmVlAAA4KW1kYXQAAAKtBgX//6ncRem9\n",
       "5tlIt5Ys2CDZI+7veDI2NCAtIGNvcmUgMTQ4IHIyNjQzIDVjNjU3MDQgLSBILjI2NC9NUEVHLTQg\n",
       "QVZDIGNvZGVjIC0gQ29weWxlZnQgMjAwMy0yMDE1IC0gaHR0cDovL3d3dy52aWRlb2xhbi5vcmcv\n",
       "eDI2NC5odG1sIC0gb3B0aW9uczogY2FiYWM9MSByZWY9MyBkZWJsb2NrPTE6MDowIGFuYWx5c2U9\n",
       "MHgzOjB4MTEzIG1lPWhleCBzdWJtZT03IHBzeT0xIHBzeV9yZD0xLjAwOjAuMDAgbWl4ZWRfcmVm\n",
       "PTEgbWVfcmFuZ2U9MTYgY2hyb21hX21lPTEgdHJlbGxpcz0xIDh4OGRjdD0xIGNxbT0wIGRlYWR6\n",
       "b25lPTIxLDExIGZhc3RfcHNraXA9MSBjaHJvbWFfcXBfb2Zmc2V0PS0yIHRocmVhZHM9NiBsb29r\n",
       "YWhlYWRfdGhyZWFkcz0xIHNsaWNlZF90aHJlYWRzPTAgbnI9MCBkZWNpbWF0ZT0xIGludGVybGFj\n",
       "ZWQ9MCBibHVyYXlfY29tcGF0PTAgY29uc3RyYWluZWRfaW50cmE9MCBiZnJhbWVzPTMgYl9weXJh\n",
       "bWlkPTIgYl9hZGFwdD0xIGJfYmlhcz0wIGRpcmVjdD0xIHdlaWdodGI9MSBvcGVuX2dvcD0wIHdl\n",
       "aWdodHA9MiBrZXlpbnQ9MjUwIGtleWludF9taW49MiBzY2VuZWN1dD00MCBpbnRyYV9yZWZyZXNo\n",
       "PTAgcmNfbG9va2FoZWFkPTQwIHJjPWNyZiBtYnRyZWU9MSBjcmY9MjMuMCBxY29tcD0wLjYwIHFw\n",
       "bWluPTAgcXBtYXg9NjkgcXBzdGVwPTQgaXBfcmF0aW89MS40MCBhcT0xOjEuMDAAgAAACIlliIQA\n",
       "Ff/+98nvwKbrW1u1v5PPSPwstz7CKj9uWxO06gAAAwAAAwAAAwKLBe19kdgs3FsAAAMAFiljPvYB\n",
       "jpgAJ0oHswmYeSfrGh3gIVMCuVZOsoHzu4SlF9mLTsSxjoB+EAB0gTyVkPvgd06f7aJzyVm9Qwy3\n",
       "+mWCnU9xCA+OLfNd4cV331CEfOX1dkNpKPgN3TuJXX7SB9FcFMtBqzz84+TU3eve0z9i/3R5sytv\n",
       "GCDH2p4oc7itMOOsAnGPS69YoxOSTS2LSIljX1m+mjL3FAy20bxQmIEyYvtdVArADAEn+DKC04uK\n",
       "Pxu2+5f/OUs8kV+nIITqNCHwOuolDusIWd5TcpTl92qEGpQ60psbt7NWx3+8pE0HIWc/OzERzAJ9\n",
       "8SZrJh/Enl5fU80EPV+nxktX8VcqVnyz9OtDPijtrvP4WJbEOk4AHJlm8DhQAD1oQJpL4NRHRF5e\n",
       "AvYK6Wl5KSbXrzVZiyN6zRrj+W+7d1U7hZvJtWUfZvpljvMyHzCmLkXjqIK0nYTbhE/sxfMatvoj\n",
       "t0wV6BbZTKV0RREantyY6M6J2CDmRK+G0XoVyoqC309EtEttG+KyuJBxmNXwMTKgRwpaezB5Yp3X\n",
       "bKLwZm4czGaj/dU6Rk5UsdvFJe8RXTKbFkokizdjJ7rqHTF3uK7s8aMtfDCZxumtYBt46+OgimWl\n",
       "P1AA5yCjbzcB2ZlC2rwLgod7HCj6nIowg6dSGM2i5DKpr5e7bb9+ZBt79sAK8uUpHTfuKfDqUrnb\n",
       "FVgxrPgs50U7kFzTi1SAJUHskj3/v5pzqBeHU3TiPte6LJhQlV6N2r07H22Jq0ujf/J+ajZCx9n7\n",
       "C5XjTf18oYmWddZDz8CGwZQv3dJLqHxmIFU7LPxXqAHrq0eS5tqhadrnvvdu2CtCd53tCRbbdEec\n",
       "in9zFkXtWEDLciK//MK4NzzPjjOlv3Z3qUxhOd7xUcAwypvduI2nXo8FYWqpzDRVDksX766JLulW\n",
       "KFr5MvilJSC+0wDX1dYT0/j/FCS1dSD1jRECeK9xnq/PzSmKhA1UIlOL5uQaqSWXHNlRUZBAo7Z2\n",
       "CmD1HY5IwfXk+dG5FRbdc6nY4riYSvAionwKSqoEHEWR+wK0LbYDkV2xDKdbyJ+9hDlJxHsOz+TS\n",
       "hKXfTIpkrRT1BvQAocnvjiZAlenpha7I4XoV1LxxxOMpUwdkmjglDppxtkETqOPDJvZjivZWOX2p\n",
       "ATVPTaA/9lN24CUkts8AAAMCvlavNTsOdPpOq2nuEgGqEM0X01RWT29s3/CorXQAwUtybfiwv4MD\n",
       "jaY850igwnfwLaryNkfTuA8g2VvPrub17JbMCXb57SI2013ycUb2sP8CPYRZ7G63v4+RMTm8DD8d\n",
       "G0okCRhzZvNdeyBV5rZ2fk1yudPsTjeym3BMb9SRQk5gIiIeHIDucvtcp9eqe8RGYv/+iReeAUNe\n",
       "VCFwd9Pg/k5g9nLQa9z7DcMKB7kMLmhB2dV2xVYpShQXN+cbIVEIUKufqlkryJr5kADH+gh4ZvtS\n",
       "NHhCHAgXh+gs2atK1CqVjfXbdPfOU3+KA3zb4nkhtzr674Ck69wjYKdzMBhF8SgFUnYyZURrvNJF\n",
       "PS0i8XtIA6UFbxkkdUQank0/5q2YQwy//IzE1RjXOCmxybZQB4PPcClVJV39yzpXws1BWY5Wtc6B\n",
       "oTqrriCoebTC2Iz4SIzNdq1esPRfExyvISnIQQDtNRwQ1EZ40WNhV0B2OKxYsHAZJlNE2/D0YaIr\n",
       "uVyYBHlSx7/xjzTdgfBj+5YckQHLXMXNo4m5C6n4p1E0pkV99PTeVXBUh57ieQfU4GYqUosy78f+\n",
       "tbWowbPLvCKn8t+Q2W0xCXOviuVzQXP3zOxgChWMKKCG8E1nDKgGa76Q7V5TRtVsleNWd5w55EDZ\n",
       "UalrOCIP5aPbV9KYThwwHaKk6XbQFvtH3YNDuJt09BngXAH+larU8CXFbW/ZeFcwou3mU7+bySqH\n",
       "FASE9F3CSL+ePHIQAJUwkmvQgpSafRbGQ1VfSABa2GEnN6JmdZoWT1EL7utDXsThhJTfROtDIHMh\n",
       "oA9QKWtom72k4CnYRJbVeNRuW+ryWPOzC9usKX6ddWRMWbffeiSodDz476+wo6UAABcL/x0OCNvL\n",
       "YO0tSMEtidCRnj3EYK9bQgIWcndJfgIcNPz75WSCRtRoRVUZB9TRUhAN+ZqUmMk/5lWqTLJ0dWNr\n",
       "WXIzab+4eRniPaWgYut42eqlyTfSeVc88qulVIfWMcYZCqmuGEaDWSeOmdZlPw2DNSmfTqoDwoRB\n",
       "s3IuB9tfmJt2f+hu9LGjn1ZvbsvwM8jVZBAMxsVyvQGTZxWhhO1tBg92gN2x6eh3IMrGXPFVihEq\n",
       "5eJbqoKo85Zcs95oqrCiLP8ILoUkRbDq3Uk8dbKzCDbVjwAAmO71Dq/6g3bYGI5wwNOZDG4NGcOb\n",
       "28EeyDom9SleCp82RLGmX+AuNs5tdh1ZeH2Elv8oqMV2mcoGD26Qmc603fsndS/VW2TTCyImR/im\n",
       "UF8OrD0bNXig1aPzlpp3H3WLUOxLBFWT1+lEDZArH2E09AF9cszWQ4vnumPe9ww7Z68GAfgu7YdZ\n",
       "GtT/0cECQNjxIUjCU1W4CpED4tPhcyLY5usPOvO0OWmiCYIWxznr+wRnTvDmyVpDECzVc0LdkAHg\n",
       "yxgV3Llv6GcDBDBEV5t5VCCa1gdPcj7bvVqAKNA2QAO8NB/vHQdtINWpt5pMtVdJjtcdkDjfPVbT\n",
       "Ip5IaexsDNx3g2yQLC2LbYU1711nKrxJT3KsPoHDLRU66yNUY0m+2Q4Xqk4Xl+BNbO+2AqMDWbab\n",
       "8fo2fA1xEPmULJJJbdKB4iJEInBAMkRsVioUrcJLTdpIKEH4fzZKqUxk8VEsUR1J+z2mUhj3n2AA\n",
       "IHm/D+B8fcQPum+wAAGnAAACgkGaIWxBX/7WpVAACM+BgAPiMYHrrI1lY26w6da8UBXCq59eioy8\n",
       "VLmmBUyHqQFv4/P6OOJlwcE+H0VL0Ff1cGqbUbh5vo1QcvNxYtYgOX7anfT7XIYjLR34jv72VxYI\n",
       "hYRIyEl3c7LyKOH2DEMy2o08AGAUMe/pZGs7fooIDUbdTPS8c9SM8uQmzvtVr6GZXx0Bk7cj6cIz\n",
       "W9QZlYvMF8jESosV3ruQirGaCfGW4a2ZgrudSv6VpA5xNaPI2vj/Fb6CP9WyljtQZCY46BNvbEF8\n",
       "nhGCst1Qw1XKR1JLpzGqwx27ukQ43Ldiajv+ZXn/g52HS+KFjq79j5w+wJYWEs1LwK1rgVN8/osH\n",
       "CLK7/WPad7Nfm9++2n1nRsqVNqDFQ7pvoDmOrAOIH7UKQ5jcF4w/FOjfjBaFVxf57zCbaIOTfx+A\n",
       "/Z5Xk31PKW96bfUsziwG+E2wh+gs3Klv7W2oty49KE4CY9teAfqzamnuzJZyC0tQIiYZWDl4ACev\n",
       "6lwstP5zHMq54VKUJuQKWi8RHE4scTBP9ghbT0147NvzDEm0FaLbBldrI44NNqnryyr4YWFrqZGH\n",
       "WlFQObfbg8xEIiZ3LK3X2y8Jxh1km4plcVE0qiem2XCdhuhr6kY6BvykSLSAhaJlMjTT5KE4lcr6\n",
       "gk/uowfgrnppF4Pdfz37yVwLgUqcZzlFF/Ayc6ilAdysfnA5HE7ABALroaZpqRUUqwTYNAKkXuPv\n",
       "BhDqofrlwNpwSX2G/IWoIVOrNO6aCm0wDNfSx+AOlJZqjrj7cpxzggt5w9FaCMeDmHF6nKLhhewG\n",
       "qwbUCBjY4tq3d2Jrkxg2UgslBmZez2gA7mss2lWuqYNg4AAAAqhBmkI8IZMphBX//talUAAAAwDu\n",
       "vm71A16+//z4kKAAX2pnVZR/eG/5S6tpq0pLRL+iVdExxf1vxGEjp8kaXaiCsuaRjtwqC2mFAWDt\n",
       "Yv4J+bAWxLGJmexeK2jTPENE336DbywY3/+F8FNU6Qep2fI78Mc6C8LNDHgMx7a5/ROltFVOis4x\n",
       "Dsickc7mH2woXrSPFuV96kgq7sdqq9yk9Lu2n91MzEuadmJhoLeQre0d/L2KI7IZL6DYKetRswvb\n",
       "gHqyIHWT9lqJHHqcRN5tj7gVbM6Z29Lf6It7kGwscrnpLGnakjVncx8FF3zh4OreceoTs4978icx\n",
       "p+jqnvC2SOUZXvaNKQC7hBZ/uhU+/hCjm8BFCHwhAQw4o7AMPnCmnc8wPnCOI//3KBBJwxtZXGje\n",
       "yLDKdgmL94Sr6D3ZUPx0WOnrJNiOL+LOw0kM8WSU+bqBahXc8ieKIDdSs1lhrwQTDTHGu6egl0As\n",
       "SiruQrP0qamO0CRkO4icEfYA5EzoVTcNOBEBv1Mmero57yN2/kYIIn127/Dwn2j/JH5rBfagYfws\n",
       "j6m0Wxtuz5ffBaPXayzxf82gOyPnSN8rXta27V7NUAipAypngmYus3UpqC9X6ycPRVxxtx0IhZ0s\n",
       "FC+rzIu1otBrd1DGIEjq68qsAHCxdwNAlnUnL8rhk82m1HEAxGfOzKs6scfJzNLJy9EhGF71h7au\n",
       "65upSPJKt5MzLXTU8jfOk7S0HyzhQFF4XeVEuUoTOyNvvrNJeT/7i0ZZugIOEaHy32D1PEzueJ1p\n",
       "Eh+nHi4/IB0iD3xTQms5ODlylDvFSUKCp6QBJeKVY3sPFyaQ5Li9cywoLXaMZsmPR0LnWkFN/HHb\n",
       "IaZoCrjqKotJzdGpEi2XO7lWc5xIjh7U9312LQ5/eyc44QAAAj9BmmNJ4Q8mUwIK//7WpVAAACU7\n",
       "vf+xt/z29AAZysnA4kWjWtSbd1PqUbEsAxQcqVZ4L5PAtBy3HeSd9J/bp6S7ar7iq0oqgIsnlwUu\n",
       "VCLRjY2Ug5Ru4o7lXQxTw7IknjDi6o3Njt6fhZenYNHrM3GAW2E+itD5Xp69BhtzKSZhncFhnP9K\n",
       "UU0zKD686OZCP/AA6QA7xJHDc5Dw9G9g1w6osbUJ0e0f95F43WU0euHvTze9cNa9GU4P9XPxmS67\n",
       "AL/8PakhKp5YaCOcK1hwOsALG5r6DXSBpyKq4/si3DiS9+BjIhgOG3pEV2CUZoCfIakD3jqpR27u\n",
       "1PJx6QEpztzrLRzIvPGrD2CRwWr4MOh9dhmasW+4D4TjQzoXeST53R+WxizXYErIk901aD/l0rB7\n",
       "05R29BaMCCrRLMHghyUOoVsFcfgDUqEg3x9LcajPm5l+WPqbxMryh4GlfdQXkiJ25cTc5njePfa6\n",
       "bPPMRfdrkde2MFm7+X2ptpas9a+Rf8XSSv/6i8E8bJn02OjF1RipUeUvxYfY4xd3XVXs+0rLqJ+7\n",
       "re9o+5JSbQFLIHJdEgZTZB+o2vabTe00jFvS52UIURxlUDgVno7PrNEb7j+O+45M/NN1/Tso74XK\n",
       "uIt5LsF1kEWFHpkfmbxAynHQ9QIvQcBZx11FTurB/LIMQHJOhdZon7sOzmfVgpwwl0FcFKJVsPCw\n",
       "FbWEOkAE/seSts0fODJbUyDgjcFtnWzd+ZrFQuS1nxw90FRFm35lYao6YAAAApJBmoRJ4Q8mUwIK\n",
       "//7WpVAAAClGJwABGW+iQd4YVDd5Arp5V63M16Oro2eZifrmw+GualUlDNDcqX2wejBE74t2Hlhp\n",
       "lQVUO0fW2fBqenQ7m1SZsHC6fQQ3PLzxUO2IRMeXHyQxXqn9L0ednjLhWKcbkCb5fqNzZEum5M6Z\n",
       "teTPbNNMgpQCb44j3YBZLo9oP8y9Sm5H4CRqGAjtF3e2YOcyatHjAS/x897CJv3XmD3flBe93gOW\n",
       "osKe2cL5H0SYFDac6bOtndVvhabvJGFclyGEaG6bxBR1nIEc8/SDNbrVxryb+m/8fV50h1vZzV9W\n",
       "QKTp0crBdoi50sNdFbVYCZn89w5X23NtZz1+aksviu3Y2YlFxPsIIEg+o2dkX+gV1EKSImGcC3dN\n",
       "ns1hgqyAXU8R5197L+X7B0BPHV2CJNPG78Hye6g2ALDwJ1E/ydgTnYTt/OD9dKudTuxCTmB6fsTD\n",
       "yM4ZAScGO9xdwE0KOql7fpqHZ+d75h/Cn7WW1wbdTKF24EUTHPgJ5nJRpFKW6Ur0RuIlZtEHODAk\n",
       "W8G7lKv2WZQP7ciePaNKjGtsvZ6q2w2fx0EV6fBCGaGX4b6HUuQk9Rl01FZGa5Fc56C0ikLbmn0K\n",
       "uX4H185CTusW1gFmxlxAJGaaKKE+0RQUprLkRsbblrwO3/IsiooG49MjRnrCB+NbCQV4Ec1B1WqW\n",
       "/YYjRgAzod3MCIq7V1e0X2BpNTzF8V0RE/WTdm2Q2b8KfKDq12XmbDzEdnasZrUnyAdFTn85ADt6\n",
       "t6kpVVG1gfPaCiDTtGkPwxOd1JgOyD8E3SMc32YN9tPwya+j+qBFfHM+OaWWf39qAwUGw2tfAARK\n",
       "p6FuEgWSzFYBZFhq2QVCXulOqAypAAACcUGapUnhDyZTAgr//talUAAH13gb+/u0tAAP5DawwFMB\n",
       "PqjUqEVGBSCLaRPL8F8rzsx9J+muS/wu15GzvyMweiEeQFj8ESdFkPKKwhuPq29I4sjcSejJPjLF\n",
       "sM/b7nuDqSQyQRfd0NISdYMTckSqGNU8g41ddEwK7dH9t9grhDVSAIt/6PdKWyoP9jdv9Qelq4jJ\n",
       "f/EU1XEqsvrxPaJOEIts1PaCFqRYAPny1rY9ZXRwbgclW8jy5d3r+Ve8vF9GVQ8hL2CmDmX1/PJG\n",
       "dZNBO4Kj77kB0isjygGxpb06FNyfQ9T3kVSxSIeGK1KaMmzEGe54YdQY8uAZJ0jaWU4zaHLRqg8d\n",
       "WVThjng/215aIA2xR13lxXp4PfybfsICRAx5G20rbLLqoBT9kfaQ3m/9XmTtuVTitL3nO6uAwkk0\n",
       "1v6oTxHen43uaJ2UPxk1pTF+9N6tZpPFYKUA/xqZUApUfE5SJ1fzD3OSXt1+TaS01WVSFdnBs/s7\n",
       "yFygmUqWXpX5jpY9wjmtt3FPWYx/5DUBMqhTx/5f/314FNSdobj/Q5gJ1t73FuTu/hlBcd4g2vph\n",
       "2wwe7hXwIgNcs3UgGGPaSmvgQlKg4atAGAfO/2OAQ5Dlj2MjIiC7NXNi6/JkBWgwLjA0rIo68IaA\n",
       "c2XIWIuJHTkDIbIY/DZRcp4GyBMPNObEpPpGqOC1zNtHMONv3Yuru57NjCxXp3Cs6A0mLbWJ1H7W\n",
       "V3clyYvuYAkqaY5j4Cz0McE+1QUONLeH485v/nYFnZo7DEf/3TmQM2yZnOsFWN+2xK+6T1fmtfP9\n",
       "W3nfnlyYKzWAsm/9BKzekSe/TwtxgesAAAJ6QZrGSeEPJlMCCv/+1qVQAAhPIbf/cbmqIAdFM+5B\n",
       "/Xaflkp3+AfDJ/YK9rmKvW52t5g6gNcBj5cHq3kvzHmugdLFnJXAJjTRoCBVIGnVINiHt6OqaNLz\n",
       "8xOdHoQHBmQWVG4xY6RIzw50o4sx1BdxzZmoqob/VqSyyobEFfs5WkjUJ9URx37wzdQTAEkJtehG\n",
       "jw8gx+Te7TWsmnurtH9Ge+mKG7vbgfQ0T2X5SEPMcw7PQdnDMaMEGjeGbn4Cd/nWJDrW3yD2XojN\n",
       "NuMhWcIpCHAqQW8/aHrvqFyFnLSFit4x9OTiXwHIZU0WeXJmx6Llm5LdrvUAElDq2yjoYAgHn0AE\n",
       "NpPjgCFNvOCea57WpiXPnQNrFGN5MIWJvdQyEbGA5Tuz5PSU3rR/DxSRP7b1dPhFOFYbF6V0bQYX\n",
       "UOYY/WlfqVNlN8/SGM51kyb6pJKWxTuvMZE7P88xRqICQvfwQiqLxzkbJ+xILT3BAmXx+IGoKBPu\n",
       "/gnR9CCa7TeEXmwtDBo5soqx7QhqwgNqdBEHPEoWB3G+Q+SDLLzE5wfoWpby5OzSY5tBSxg4i+dW\n",
       "gKiIaRVUq5V56g3W8gXYa42D7krK5a6i2nYA47QoNex0V27JuOTGRm8CCKZx7sGWZqZpki+op1ky\n",
       "GmqMQLdPFUumkuCKrmgDXEvogudAOmaMDl0MZxE2dXiwHgvSjf6DL+QkOMAAFfZNS63w/p6s+Fhf\n",
       "HvuzW8z9Y/+OwABdQJwVX9xBbduqJOOH0xCQ8yHBNBmJqugoKqP7+sv9YcxnXvW0upXdTX/eLcSH\n",
       "WObvR3uBXs0dyq3elALG8jJGIjz2+Q2Phcy4ePCgwAASMQAAAlNBmudJ4Q8mUwIK//7WpVAAB39k\n",
       "y+jzhRp4Aj1HjxUQMnqO9/5fwJmwqSB9qUeQZ/lQtWQk83+uf5QRaWiv/2qfyCcdgmpEkPCoZJtU\n",
       "0uKETp0iCch2sWRm7WHskR9Cl0/qOQ3dD1/X+iwaT+w+L6V1P0JfxT0wv6OwzFLeYdtzn30n95ys\n",
       "EDFzZJhw6bhyFLs6mCyypoYncdwDMSMnIq3C0Lhr202MVAzQmeDo2z535WsaLQbBJ5o4tkKFlfcJ\n",
       "JvAh+DRCZq8LD5XcQg1955wZjbd/xJNRUjmFtF9YhUT/KPnzwmbVwkSjKciVu4koao/J5H/M6kos\n",
       "dKJ/vsNpLZhCWCuT5Pac/paRSh/gxhNhEmqIskZJt6rUR5xKYrCjI8DuEoAoDO/fCvDGIetFK3la\n",
       "Fshe5GNGL8Nycbsbg3gHbhTIejhMbX1o/vAexLQ9dUj3qfCHS5RjTkDMccO1aBiwF6VRiMfLzVam\n",
       "PbKaCuVx5Sm5SfJoklqTVPjUutJJ3p0MRACCtD5HoDPZEw4n+jz9LbXlpdLFpsJW2n4C2Wjdwtw2\n",
       "gFtkUBq2UZ5n1BSXMRg4L1n8IJ1raaCUU1DfP13nt3HB/+C9BlFWc+gCEUlNz4UEDwc/2+p6yASN\n",
       "imNUpb+XFJ2uTXrPGXD1/RIP7adog6uhRQyeMybS+GsdODePFYKNdIcNT40XK1W5SGPiFHwEJ5jG\n",
       "wzYygcCkF0o813BlZ/nCD8N3v5bEgxul3hgH75DPtw6tbjaVAoUZnRT/GtqK8V00yZLbYw+YyjQW\n",
       "FmzJAHXBAAACXEGbCEnhDyZTAgr//talUAAAKUYnAABo6kwzsqZfTlzPKV0awfuNLE7JeONuB+GO\n",
       "fX5ctNP4L1omHTTLuWorRNJW7+jyhYUJXxknNOgU3xTqh2iB2ACG3ptO6gYy7Dg/VAvVB+YV0sf5\n",
       "2G5QRT9m2k1nX5Ldmo0XeU+VqH/8MU1nD8FzOv8Q4ji3unD0OEpDqxglgfe4+mcPumPXs0b0bvLE\n",
       "t4YiQq4QpPCuU7UkGaaMhfndisGnVbOhHI9IeQd8kx9s4mgfBgnUi9gD+XLUHdV07nu4dzs0XFMb\n",
       "AVLQNN9ZDXsAxEs3S30LruShbyj5bzvfMdDt4gfQxj5xNTO0QDcjlpdfSjto4GFP6kVcP5NdLAsK\n",
       "AHpXvBgrwgUddMcDk+dDS75yd8w7GVKJqfr2/Zs/eoruVcowdwHOJoBdXADli97TxUg0t1vDZkyA\n",
       "ysSwgXsKpjM9Q+8kWSEHoXKM5fHhlO6syexUJ0YyDrQ5Lv2BxkqKsG52euK0RO4O7F4Nz/KE67gf\n",
       "AH/VEY6XLNaLdoMuzjR3JRPKG2ue1XgeBfxBBAoZF4Q1LH1AmFqogVqXqk6xxLiT7rMG2uKq6poA\n",
       "WGQ1hWHBCKU+gl2aBeBA3lgWzpRrtRmoOYxjqCEsQ69w30pdL3AIxjpKSSGFGC/TggTFD3B7vf3Q\n",
       "QmG3jPpsE4AOJIt6w37AcbbdJnwTf5CruwsJH6gw0gJJpfVPuXQqMxY94Ykro6GRz+67MA2svilC\n",
       "CfY65UgbzqUIbnNeB7NcgCKNNssODSBaXk8rOj6mXxMCVS9RLBW5k5EIMCAAAAJSQZspSeEPJlMC\n",
       "Cv/+1qVQAAAruqqbJp/PsAA4+4LHIeethcRWKpfTFB6/BEssINrzYtwit5y1KxdvBjkim1mj6Fpa\n",
       "jB7V6Qv1fOMW/i8fvjrbaY/O8d2HGIDNaU/4S//DPhpImz5+dQspK+lMqVVG7yCcKFSBaN1RqwZs\n",
       "JGxhhDLb5QFcRxIO7G/or4IY1KAtGM0O7ml1VUK/yGi6IYBmcETiJbyioZjUS9KCCe/2C995RMG5\n",
       "gnw4AwalKg64UsGtxCKMwocaYgQbxwB+GVhEtqaWC7/QGrbR+pJm4jvF5hxy5icYZ8P4IxVlrIac\n",
       "NWKeHcIXeD37ZIYe94+osWAPTH0XR8Y/U6YLWYuk0ljrMSBFl8tPBnO/QtRoh2aOoNgDzF/l3tnJ\n",
       "Fs4+8FXDYvauDNwktHhNMFXR6es3zagnF6CjXKdcqKTGDhxbThdCHsZ5FMpcXRg5XL1XpVFwWxZD\n",
       "PwBDm4l0GeVEAmb4pXY5QUlr3eewbliAoVE/MEDMQeQ5zL1E0XoLhEyAJIDEfcLKBDo1gXS1SyAM\n",
       "M6P5gxeT7sKrIfb5OSVnO+Ao8xiJaCqJD85B341Hve/kSub73AMuY6hDd1l/blL8UhJbP2dn36K8\n",
       "UIJboqwfglRbk2bE8/b8+4QME9jXwg+wJXyKTrjDagiFjRtBqB0+7bOcCA3uKSxP92VXaA/jOiu8\n",
       "JPt3Ox/PyoJe0czjIF1knx2i71CWSbpVbhwCUrMWjFGkbAdwPF/L76oqJUi2wpoqnTuxcgYVP3Vt\n",
       "LWFtXAgAYSxIkIJkrDOOAAACeEGbSknhDyZTAgr//talUAAAAwJTNKDMyrP9cP/4+ilgBdLoO6Gj\n",
       "KPHsUNJqoSUOW/zqpqmB6mzP/xtWc8i55/Z5ZUOW97o3WXc2t+JPTXvQ+pUj6/Fg8pm58b72YBHs\n",
       "lRET9c3ODtlXova/4MdooYL9Zvr3XEVX41vpKEvNWH8Z3u0n7jpTUdBg72zTmRwQ81rzih47pzPa\n",
       "sV5UIfZLI6IhusvyPy98hKVcWQ/FBEgS2KUK4RlLimcpKfmp4cHYyaq2TF2tYxyhfjLZ2BcO/XGi\n",
       "OkKeZmoiMR5p4JdtiGoCf5HMIkHw0iRf9Az7B7YBuTV/CxNZ0CygFoP/ZzUHmA/lL4CQwZgVSJM3\n",
       "aR+VsY2Ijl6timqoKT6Uigq+vJD59298fcp7L+LvfD2WqncP++w9DUWlEgnF8pdAwJyWZEcPcsGi\n",
       "MAtNuxoxh+KB7N8ZAKPZOS8rAadt1qRz7W+TiH2Sf1mU4W9BMrYgozLHL9CFnDfpHnMTLRKLbP9x\n",
       "2jxAoEPLPBbts3h/igyz9UzQ4zKOBDB37jx9ZHwOTD0rLB2Wj0AtGtAu5ZflCBU3nIJxwiOrg//o\n",
       "icIS2mtDf/1kCEdIYu2wcOv9vo5gB637ZhWQ+lVpH1sn7ZoJ5kLi7o0ZdANJaTgynvuwS2RPIlAS\n",
       "j0rSeJDRmXRTpWwVP/ZjDDEeTniqfIAPB29xWVl1LK1l+HerRzO+15yTk+RMqdnBD8shfoFDnfff\n",
       "5WyWdB2lagH0jxQB/DrwY2vILdXwg4Ta73UnWx3lHwfth8gUkSr7L60qhj0BHHBLaYUVZMZNVqvl\n",
       "oDCBMAcJVKpNmhydmRqr0Icp9LfNAhdxAAACekGba0nhDyZTAgr//talUAAALfr7/8i9vSvQAbLI\n",
       "R5iVlkCTC6pZdUKQ2ZoBMLZ760ioNDCi2c31TRyr1Ml8VrcVNcuR7NMQqWXfqLxOvf0gnX2Lsz7W\n",
       "jtNr2Gg1s7thEK0x2PBllfvdlVC+jfEX6mqD5F6cboplDdCRXE0KYGDjgScmxJXTv/e7zmFMWjfa\n",
       "dPdOfc9EJxt1gQUfUs7gafQTsUcIgo7Nrqo7zkHxs0psiE4sQyYNlP9nyyiMJh3mCwnM0tcQVjxs\n",
       "sOWnIZwJ3CT96/z36zsaJHj7Mo3HFBo4CudPCT14+YNH6p0cHYR6TcPW3ARdBvIwFVuFdpEoygNN\n",
       "ruN95VDO+JjGZF/BDq4mZm8aa5tr2uuufyWjedkLWWEnBWShJSYhvvULuDJ1CqiLWfMbGpSRa9D1\n",
       "UVx+V4KVj+h5B+5jwctKnx2LHiOWXdkoYYr/FOooWaU39KChm5YFhhrbwzrua5E5joP0n2OMhD42\n",
       "HMQJtwcowEtZX+S40MEqJXuYxnEzeTLnVXqFXzYlTGKyqMuPLdLV9ChrJAd3WbFhcoejqlFiUt6E\n",
       "EXNghP1v+VoxtGcUiMB/uvxKhc8KwoZJpJyLrQNY2ododmZy+wk+Q8ah4nPf++z6ptV71v3EbMqS\n",
       "D9iIioxat09V1CZXOAnREhySRAfoAnCUN0Iivo2EOmHA53YCbJx4kUx4bBr33a3d9avgnxfo5BUq\n",
       "BrI/DStCqdLYebgP0bZ/4QZZKoMNGmTrRyxPFcHw2B+ssLmiGGExINFqP8O8ZQpmDS1QoVMiZl8A\n",
       "ja41nYPY9GaixUNZqnIRBp5BU2xeRIgMkQY53lsBgloCfxYAAAJ5QZuMSeEPJlMCCv/+1qVQAAAw\n",
       "W9U3Dz2TAC0t/2IaovrBpqtn0cyM/fbyqc5eNDueJtGvSenVzeplPLRYkqM/4sAOLNoCFHm4sH1q\n",
       "8yr5KqLdEYYPbdQX9ex12yRwlOueMMgVlaarDSHSjOhNVVEC71j1dDtfu3yaJlWmlqDN90h7RV+t\n",
       "8C+KJbQL3wDcvc2XD3uhIIB0yAJ5wmLbE3wHm9Dns6WkINcXVsLdk36ZQJ2j88r6JSEjO0751GLJ\n",
       "1Z+VDIRSIeh4OGNz398++wFInBzALK/BfWc//CVWNE8oruZjwmv0c2QSVAA6cenzGrvYPEGBWmyD\n",
       "OImefjywU6xDJiT/Pmz78xzywuXP80obOOVyYzsTo3yYCnqVAYV/S4pda3CwqWouqZQM+wVnatFA\n",
       "p7nhhJKUeef1Es7fw9dZFGewvb+qNjEAy00CdENuLId3GnFwXPQP86MV6ZMw7HzinJGB4PWpszCG\n",
       "e87FRjCx9/x6i2Qab/1TGqjIWDxpav1zO2j/ZcBDPcn0+i1CN+3BhoROm00GoM8CWH+X95OITV88\n",
       "8v5tPsER/nUSRPzA3YvWT+FGc3VzoMIQs97lGh6RS8rQH6d8LxNa/uQaJcPAnj85paohgZBGAdjo\n",
       "OOGb23g149PSlDcAdwwacYqgS2iJ9GYNG4pN2bH1iu9MS2czZF2IEJJ31YHmKsINdVR0m+i2Fs8q\n",
       "oXCx8WjoyTUfl7lWTilQvAfeHxfCZj//wcED7tjcyWBVobIZRRs0Iu+e6XKlni5TpKq3qXW2Xc+6\n",
       "bjFm0qkCyA+qTVxyKo17bjtENfV4BZZWu8YZoBFhRIwUW0h4cCQijv8vSN52AAACREGbrUnhDyZT\n",
       "Agr//talUAAAK3/S+xVBYABdLoAbFC1zSR85KtUWckvMf/wsplMvoFjql0giLPUd315/ouO0nhJy\n",
       "Ck7nJivyDBKjPTa7Ber3rdI2TcF/mSNCCSnMY6AJPJJ7Sgc7bZtz4WISdiaZV3h5DZZFo2HzI8CV\n",
       "4aEUV9jrd6mXA1tjWCD8Dlq187pevCr9yAjFITYGPSGUwL38kNwagkUYPNGXugytfNuunMfkmrZD\n",
       "jQ9/Bw4bK/pzzDRhk42B7qvpw0Gm/qaQ9dSqS+Mm/6yuJ39XnC7PdmEDexLvHVJ8PynnUxf2wC4w\n",
       "iNNvMF0U114KDup7uBcOId/Nwpq5PswpRLuh1QujqEPruZv+Dtd3d4/Ocy6ZH4RUL+nxq1tYE22P\n",
       "XulOjufQQVR6JAgXEhzkTXx0UhF6zXlgTAA1jZPPMIU1hJfDVyqER575qam6qN2sE3wjOqStUM65\n",
       "8kdXnhtKHoFcdvbg/x3jAAdJbzqcLGQurDzOCePGEfkP/SmG1FbAjimuJHn9aztZNdFRGzFoBSYI\n",
       "hl3ifhpLxhamu4Uki85qajSr/ZKOftEA1zPoPJMRL3fwiBPWi76nVcWIhfU2R/Yi5ps9Zm+gZ+4Y\n",
       "yhiGqiFrx6Z979GLMt7ErBBAjqPUEnYjVhtgIPsEEomiRLWOrU+RbFIEG82uoX8cm3tM8/byCFN8\n",
       "N0xlsq6QpCx0WiowyoTLL14ES3CwcXmNeijIn0slb/W+9ltqYrENzVyzcJEuki7S1j8NixZP7vYc\n",
       "GfEAAAIcQZvOSeEPJlMCCv/+1qVQAAArhh0AAC1iuMWd5q0+maw5NYQjfLClvqZKRF8V///wD/JM\n",
       "qnN5mE9mOmOERPVS2Wux7DG/0yZhCTU4cn/q2LvM44JRRe/XbeY4Pf7Eb/3Yk1SEmghU+1NEV6jU\n",
       "jEhxPRpb91SrY6Re+8QBa4To2XlSO3K8Q2qUUt4JmWX7vMxpWJvS//hA90ooRGIx+OOptMqhVsmY\n",
       "yrq0so4kIX9zzzpQTFOFGnp44EGmlHIY+I9IOIlQcfT3E24rbT9k/ysoo3wIsPkZr3wwqFBAu889\n",
       "/+Sp1+Hhs+fA54BmMPWkusFucMOvDEd5mhXbRJ9/hIaJk27QToXBnchZI5ODFobMqhBWBKyvKX76\n",
       "HR2Fs+NMEilj/7M6Bdf+cJA1Yg83a6zRwkNS/xlifQuZyqNvfM5W1A4NMvDK2WNBUuKMUNGAa+cM\n",
       "7vP1LBqoV99Slfy+TI/aaYMfhNaZr0fdsOO2Xbx6d+6Re2QBV8ZZwt1hRHYcvUcDtSyHVXVa7jZ6\n",
       "3Rdduo1XTww5pMRdtBF5MPbuUIqhH1j3egGpJFBO/52t0CVf7KMJ1P4BuU6cl4xBPNCiJx0CtblJ\n",
       "bTkL+zZWxce8Yxf10pfl0da/qOH7U+s5WD5E1Mh/LTJ5rCwjNIMttsRtcOxUMtyW47VIlwAYMF2L\n",
       "JXvlIeDXZpG+SZEf0aB+Ihzruzm3zN5XdLo3Mc1GKqN7AAACF0Gb70nhDyZTAgr//talUAAAKCYd\n",
       "AAHivK873/sbUpLPq9CiR2CURrWdNu6kLKwMTFO06JPAz+ROBjJc+p8k76T+3T0l21X3A68qvnn2\n",
       "Xj8uqYO9E9Qh6I4KOf7VqD9Ve4NF78ShqoYenYNHrM3F802GIghJVUbTj6PbmUkzDO4LDOf6Uopp\n",
       "mUH150cyEf+Itoqo3EkcN1oaypdDewFr8vzoK+A/jLT4Fs3TIhNep5veuGtejKcH+rn4zJddgF/+\n",
       "HqsanZYahHOFapb+8IsZ4vq5Q85vn+Rldai8v29+BjIhgOG3pEV2CPpvqNiOpwRh6rCm2TlJG2rp\n",
       "nlUj0oXQDkNfua8oEjgtXwYdD67DM0b8f1AcvvWDcLvJJ81C5LDWbOwhSJKYLeU9a3jAzSAnIQY/\n",
       "MXrmF+QspQ5KHUK2CuPwBqVCQb4+luNRnzcy/LOFbcMdCcy/QozbqC8kRO3LibnM7+G4PhPG0aMq\n",
       "8BKH1s+MQ/SxoXDr92DWM+i0XwNPDlhNOsozv6zOMZVIkZU2z49fuZ2Jw1HvSluInnX/vjyJd7CD\n",
       "jfzn6lei/rpNlno/SpiUTBBhCsYJvIygAFTgMIdV3lwDaRMi5v4vkejsFpgZ9SGqUcWkeMIREkzX\n",
       "UOX0eNqbSnN6oafFkZMd22+nX3gFywPB8hv/5Uu24r6L91YACELD4uDzl/KE3i0CeXniYpOKWlrz\n",
       "MqEAAAI+QZoQSeEPJlMCCn/+1oywAABSiy7wAO03lA5KzL6dH4tMEmi/nF9yHOeTnY6bs0sgEOgw\n",
       "xQ2e0RTBBNRHt+to1Vm1n5+TBxTuczMJ5MLmJ2k3foYKgj1m6L1wC4ujHURJ2s5NiFLykuIYBkTj\n",
       "QoLiWjJ2dGFdHW8HlhRfEzjMVE7ZY3NmH/9ptTKZJaCZSdda+Fx9SZlOpIQm9ICeW042WZCsQHvH\n",
       "fmvGdx+jwV1W7dvMmSVmGZTJC4vXOST8+Y3WhdmRrzSpp7D7Axh/7cfBHojlkXpRqPb+P4VHiDoa\n",
       "f2oscat8TXERuBqOrDw99nDOPJvkOvjxouCp2wDIJa8EFNBdsA1fdyKZwtDdyXe1BbIoclb/7EJ+\n",
       "HVqut0EyoMhVCI0j11vvs/bmw4KqHBOLYAKPe3jxVa/3zf/59t0SGhXrwGfZSgWV4qicrOXH4zjt\n",
       "e9WAzPGdRqtTsUTQPtFFLK1UQIPI8CrhZwXGA6Ff3tSRz+D8H5XDnNEVcX72dgXkC1RH0qQtzn9O\n",
       "yUY8UK1wVCszN9GrY7ZMY76XiENaOMzu8+eAnNO+wS04QsQQW6B+x3oUO+cxVYJRPwFlpOsDzQos\n",
       "S/P8lVmLXa9swTtFaUK2b58oPOrvJDeBAZQKR1bDZm0J74ScEJqwAmIfgxKk/p2s5Uza+oIZu9DD\n",
       "5f45MCr8/cR2CxrTIag6ykvmAFM7Hl+0Ns0JbnOfVRa6UvYudMXT+vS053WRcJmTfThq0GYRswAo\n",
       "CHuybIAXB1kBswAAAmxBmjFJ4Q8mUwIKf/7WjLAAAFcLioAC6XLcx7cS8ydHQu3qHzv9P/DOpe5b\n",
       "pVN8POktocYSZAu6CUnnsRjZz3jnynLO1gqFt+PIJ2xV95gwcu+dREzvXRWkBGWJCOeww1k3yVyi\n",
       "z0a1QwmMU1N0qVx6bG+sWuL8nw6yWNWljcS17R+NUV1uPgfwDMo7zOtoDouVsZ8/Vgfi/vUhMnaz\n",
       "SCwSgzH8LBK99njIW587Jy95xXOChx4bY/5i2qIwK6sTsq2/Wv6MRadhr9u921c3z0RIg9ecuZso\n",
       "ph3ox5E+Crmu4gMJzDlZ++G1JT5MEH0FToQ0fSpJojPHmTCXQmyeRIpmqyKDcF/WT5hXMCcN8T3C\n",
       "VTUnyR7Y7Dke6IBhaZq6vv7+W4cx3RvhF4KNdJY2CuWl4XFspD8zPuwQOS2Dxl8qznPkrTOYQrcj\n",
       "9ZduBf+PptXaSLZK9bODdP0a+uv8MkWt5PIzTHxHYVeqH579UlqmQCU8hWLFogLAZ8VLKYtxE9lh\n",
       "Ktw0ckGaR1YbGHZK1ztZX848uTQ6hRM4S9AutlmIOqXOwOuur+zezoqc6jJLr6SSb9FPli8VOiYK\n",
       "wMP4v16EdNuZV2Q+zLC/Y8sp3AMuY6SuZ6g/XKXOaUpJP30okILyuu/2OEt+11P2nRhKQfMlz6th\n",
       "eOi/sCV8imojJOoIhY0ctg8Vsh8fhPv7YHmEscf5ER9mQkWhegsI4XHxeXAZU+9rQ6nxwEga/GOz\n",
       "Nk05Tncuu0/c/HndA/fSIKUJ0n7w3pC46lye5Rsvw6Q2Ha6ZwmnY7mFhvZydNZG+o9H0OVGKj3QP\n",
       "17whnz5lfAAAAiNBmlJJ4Q8mUwIKf/7WjLAAAB0o9nisS/p/YmoL05dP/+Plb4AHZI+EOyFBBMbs\n",
       "sBqPduaYJnE8K/iPn8Yx1IHWd0mMi23GJSBaOHh5DwXRTxM0Gc1N3k6Fd6ngu9jEQm6buQLU+vN/\n",
       "Xl0goqkxgHa6nX+osCS/lLF5+A6h4NQtVd5hXJPmXdpboKs47brqCameWEqA0OCxWTN1UXCRp0zG\n",
       "j1oGyxFyA9Kn+Fn93UFneG1oevXB922MipWGsnXeq2du//9wKtWOdUAo+d4P3dgEH1vgtqdNakGE\n",
       "7sDzT38KquBTAjrR2SA0IYeL/75k7Y5GdB/vsiKWGrBMdENqE2sMNcc2BtS4unjGWmmIQOVSc3xU\n",
       "t3PwszrJr3YzaEHVWAO/d8KdC84/XOmxKBX3wpt3Jm732T8x81doS8/FZid82rTHfEzHCEHRaY9b\n",
       "MfMmGnHA6iZKpcfVhxyNaB2yTq8UaiWTGKip2zcuaVRWzbtpXMTAxMBN8qsVnIgh7R/bZlfts6Z3\n",
       "RCaAaJAkzl2RcBOJ919Ej94dBooTfMS8fJgCjMZdqMtzdycHHQuAIDdOGBahAsGQ/0tV+BCxp4Ty\n",
       "7pLNBvE4MQW/VKkVGlpUUa6vnQAD/1yaIyQgsxiehGGT7Iij6fYQOWpJG1uVoJOd0UzqLU4nb/Qa\n",
       "5r0FHB7h41tmwMPzkewVarbkztXekGEt5Cxlq0cBj1qLrsR5pjX9K/bhdUG1AAACAUGac0nhDyZT\n",
       "Agl//rUqgAAAB39xf31UsyABLuceErzKNUWGVqjKV/+pN96tRGjEWnleTS/B+/VkSYmDMYYbNX/B\n",
       "JM5//6U6af+jv3iQAsa0h2mFHes+RUY2inNLOfeegQGHI3zvvDXxiyl4j6p857J/zDjOMTeVap60\n",
       "mZiNh8PTAerU86mX+ElnLaX1wRPn7sbf6pghVojEl4l3APt5xbOe12PYJaxUSNRZN+iE0xgQvRe/\n",
       "jrW466JiJMWjfk7zvaTV/C4BRO/f/mkgD07BbM9qsiPUDyYjWLxm4wMFb0Q2pnOCgIr61ZawlShG\n",
       "b9F0HMBOsIC51FUz3JObp+zPeMhhCdhx4dhhh427v1wO0mc/zWCCJ9OhaHYAcp01ZwXg63yk0lNA\n",
       "KpPlG9JK8gKIG4JD/321u5/sAh2LZfOySMLDC2Z2TLHDzErAeh88tfIBkF02zoFFKShd21wtAaf6\n",
       "H/iaGhDOamPChoGskbpcGkixQJxd6k3ByGm2i8nR6al6G/kV98x5VE/487vm+k2KnAYDCWZIMOEr\n",
       "JoHeFifqNaDA3IaQlNcXQgYf79tHIjCrilWrswGfzAbR1+ssuGk0FVqvDeZgmaHqgPNgDCT4nT6d\n",
       "9sCv3GV7kmHBq2cyisTBHFaD+aotvXwbwMOz6qyZZhWTBbQ9lqMy7/8hunogecfrCwAAA4dtb292\n",
       "AAAAbG12aGQAAAAAAAAAAAAAAAAAAAPoAAAnEAABAAABAAAAAAAAAAAAAAAAAQAAAAAAAAAAAAAA\n",
       "AAAAAAEAAAAAAAAAAAAAAAAAAEAAAAAAAAAAAAAAAAAAAAAAAAAAAAAAAAAAAAAAAAACAAACsXRy\n",
       "YWsAAABcdGtoZAAAAAMAAAAAAAAAAAAAAAEAAAAAAAAnEAAAAAAAAAAAAAAAAAAAAAAAAQAAAAAA\n",
       "AAAAAAAAAAAAAAEAAAAAAAAAAAAAAAAAAEAAAAACWAAAAZAAAAAAACRlZHRzAAAAHGVsc3QAAAAA\n",
       "AAAAAQAAJxAAAEAAAAEAAAAAAiltZGlhAAAAIG1kaGQAAAAAAAAAAAAAAAAAAEAAAAKAAFXEAAAA\n",
       "AAAtaGRscgAAAAAAAAAAdmlkZQAAAAAAAAAAAAAAAFZpZGVvSGFuZGxlcgAAAAHUbWluZgAAABR2\n",
       "bWhkAAAAAQAAAAAAAAAAAAAAJGRpbmYAAAAcZHJlZgAAAAAAAAABAAAADHVybCAAAAABAAABlHN0\n",
       "YmwAAAC0c3RzZAAAAAAAAAABAAAApGF2YzEAAAAAAAAAAQAAAAAAAAAAAAAAAAAAAAACWAGQAEgA\n",
       "AABIAAAAAAAAAAEAAAAAAAAAAAAAAAAAAAAAAAAAAAAAAAAAAAAAAAAAAAAY//8AAAAyYXZjQwFk\n",
       "ABb/4QAZZ2QAFqzZQJgz5eEAAAMAAQAAAwAEDxYtlgEABmjr48siwAAAABx1dWlka2hA8l8kT8W6\n",
       "OaUbzwMj8wAAAAAAAAAYc3R0cwAAAAAAAAABAAAAFAAAIAAAAAAUc3RzcwAAAAAAAAABAAAAAQAA\n",
       "ABhjdHRzAAAAAAAAAAEAAAAUAABAAAAAABxzdHNjAAAAAAAAAAEAAAABAAAAFAAAAAEAAABkc3Rz\n",
       "egAAAAAAAAAAAAAAFAAACz4AAAKGAAACrAAAAkMAAAKWAAACdQAAAn4AAAJXAAACYAAAAlYAAAJ8\n",
       "AAACfgAAAn0AAAJIAAACIAAAAhsAAAJCAAACcAAAAicAAAIFAAAAFHN0Y28AAAAAAAAAAQAAACwA\n",
       "AABidWR0YQAAAFptZXRhAAAAAAAAACFoZGxyAAAAAAAAAABtZGlyYXBwbAAAAAAAAAAAAAAAAC1p\n",
       "bHN0AAAAJal0b28AAAAdZGF0YQAAAAEAAAAATGF2ZjU2LjQwLjEwMQ==\n",
       "\">\n",
       "  Your browser does not support the video tag.\n",
       "</video>"
      ],
      "text/plain": [
       "<matplotlib.animation.FuncAnimation at 0x7f1f0457ca20>"
      ]
     },
     "execution_count": 129,
     "metadata": {},
     "output_type": "execute_result"
    }
   ],
   "source": [
    "anim"
   ]
  }
 ],
 "metadata": {
  "kernelspec": {
   "display_name": "Python 3",
   "language": "python",
   "name": "python3"
  },
  "language_info": {
   "codemirror_mode": {
    "name": "ipython",
    "version": 3
   },
   "file_extension": ".py",
   "mimetype": "text/x-python",
   "name": "python",
   "nbconvert_exporter": "python",
   "pygments_lexer": "ipython3",
   "version": "3.5.2"
  }
 },
 "nbformat": 4,
 "nbformat_minor": 1
}
