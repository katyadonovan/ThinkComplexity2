{
 "cells": [
  {
   "cell_type": "markdown",
   "metadata": {},
   "source": [
    "# Cellular automata\n",
    "\n",
    "Code examples from [Think Complexity, 2nd edition](http://greenteapress.com/wp/complexity2), Chapter 5\n",
    "\n",
    "Copyright 2016 Allen Downey, [MIT License](http://opensource.org/licenses/MIT)"
   ]
  },
  {
   "cell_type": "code",
   "execution_count": 2,
   "metadata": {
    "collapsed": true
   },
   "outputs": [],
   "source": [
    "from __future__ import print_function, division\n",
    "\n",
    "%matplotlib inline\n",
    "%precision 3\n",
    "\n",
    "import warnings\n",
    "warnings.filterwarnings('ignore')\n",
    "\n",
    "import numpy as np\n",
    "import matplotlib.pyplot as plt\n",
    "\n",
    "import thinkplot"
   ]
  },
  {
   "cell_type": "code",
   "execution_count": 3,
   "metadata": {
    "collapsed": true
   },
   "outputs": [],
   "source": [
    "from thinkstats2 import RandomSeed\n",
    "RandomSeed(17)"
   ]
  },
  {
   "cell_type": "markdown",
   "metadata": {},
   "source": [
    "## Zero-dimensional CA"
   ]
  },
  {
   "cell_type": "markdown",
   "metadata": {},
   "source": [
    "Here's a simple implementation of the 0-D CA I mentioned in the book, with one cell."
   ]
  },
  {
   "cell_type": "code",
   "execution_count": 4,
   "metadata": {},
   "outputs": [
    {
     "name": "stdout",
     "output_type": "stream",
     "text": [
      "[ 0.  0.  0.  0.  0.  0.  0.  0.  0.  0.]\n"
     ]
    }
   ],
   "source": [
    "n = 10\n",
    "x = np.zeros(n)\n",
    "print(x)"
   ]
  },
  {
   "cell_type": "markdown",
   "metadata": {},
   "source": [
    "To get the state of the cell in the next time step, we increment the current state mod 2."
   ]
  },
  {
   "cell_type": "code",
   "execution_count": 5,
   "metadata": {},
   "outputs": [
    {
     "data": {
      "text/plain": [
       "1.000"
      ]
     },
     "execution_count": 5,
     "metadata": {},
     "output_type": "execute_result"
    }
   ],
   "source": [
    "x[1] = (x[0] + 1) % 2\n",
    "x[1]"
   ]
  },
  {
   "cell_type": "markdown",
   "metadata": {},
   "source": [
    "Filling in the rest of the array."
   ]
  },
  {
   "cell_type": "code",
   "execution_count": 6,
   "metadata": {},
   "outputs": [
    {
     "name": "stdout",
     "output_type": "stream",
     "text": [
      "[ 0.  1.  0.  1.  0.  1.  0.  1.  0.  1.]\n"
     ]
    }
   ],
   "source": [
    "for i in range(2, 10):\n",
    "    x[i] = (x[i-1] + 1) % 2\n",
    "    \n",
    "print(x)"
   ]
  },
  {
   "cell_type": "markdown",
   "metadata": {},
   "source": [
    "So the behavior of this CA is simple: it blinks."
   ]
  },
  {
   "cell_type": "markdown",
   "metadata": {},
   "source": [
    "## One-dimensional CA"
   ]
  },
  {
   "cell_type": "markdown",
   "metadata": {},
   "source": [
    "Just as we used a 1-D array to show the state of a single cell over time, we'll use a 2-D array to show the state of a 1-D CA over time, with one column per cell and one row per timestep."
   ]
  },
  {
   "cell_type": "code",
   "execution_count": 7,
   "metadata": {},
   "outputs": [
    {
     "name": "stdout",
     "output_type": "stream",
     "text": [
      "[[0 0 0 0 0 1 0 0 0 0 0]\n",
      " [0 0 0 0 0 0 0 0 0 0 0]\n",
      " [0 0 0 0 0 0 0 0 0 0 0]\n",
      " [0 0 0 0 0 0 0 0 0 0 0]\n",
      " [0 0 0 0 0 0 0 0 0 0 0]\n",
      " [0 0 0 0 0 0 0 0 0 0 0]\n",
      " [0 0 0 0 0 0 0 0 0 0 0]\n",
      " [0 0 0 0 0 0 0 0 0 0 0]\n",
      " [0 0 0 0 0 0 0 0 0 0 0]\n",
      " [0 0 0 0 0 0 0 0 0 0 0]\n",
      " [0 0 0 0 0 0 0 0 0 0 0]\n",
      " [0 0 0 0 0 0 0 0 0 0 0]\n",
      " [0 0 0 0 0 0 0 0 0 0 0]\n",
      " [0 0 0 0 0 0 0 0 0 0 0]\n",
      " [0 0 0 0 0 0 0 0 0 0 0]]\n"
     ]
    }
   ],
   "source": [
    "rows = 15\n",
    "cols = 11\n",
    "array = np.zeros((rows, cols), dtype=np.int8)\n",
    "array[0, 5] = 1\n",
    "print(array)"
   ]
  },
  {
   "cell_type": "markdown",
   "metadata": {},
   "source": [
    "To plot the array I use `plt.imshow`"
   ]
  },
  {
   "cell_type": "code",
   "execution_count": 8,
   "metadata": {
    "collapsed": true
   },
   "outputs": [],
   "source": [
    "def plot_ca(array):\n",
    "    cmap = plt.get_cmap('Blues')\n",
    "    plt.imshow(array, interpolation='none', cmap=cmap)"
   ]
  },
  {
   "cell_type": "markdown",
   "metadata": {},
   "source": [
    "Here's what it looks like after we initialize the first row."
   ]
  },
  {
   "cell_type": "code",
   "execution_count": 9,
   "metadata": {},
   "outputs": [
    {
     "data": {
      "image/png": "[encoded data removed]",
      "text/plain": [
       "<matplotlib.figure.Figure at 0x7f3e6a9f3a20>"
      ]
     },
     "metadata": {},
     "output_type": "display_data"
    }
   ],
   "source": [
    "plot_ca(array)"
   ]
  },
  {
   "cell_type": "markdown",
   "metadata": {},
   "source": [
    "And here's the function that fills in the next row.  The rule for this CA is to take the sum of a cell and its two neighbors mod 2."
   ]
  },
  {
   "cell_type": "code",
   "execution_count": 10,
   "metadata": {
    "collapsed": true
   },
   "outputs": [],
   "source": [
    "def step(array, i):\n",
    "    rows, cols = array.shape\n",
    "    for j in range(1, cols):\n",
    "        array[i, j] = sum(array[i-1, j-1:j+2]) % 2"
   ]
  },
  {
   "cell_type": "markdown",
   "metadata": {},
   "source": [
    "Here's the second row."
   ]
  },
  {
   "cell_type": "code",
   "execution_count": 11,
   "metadata": {},
   "outputs": [
    {
     "data": {
      "image/png": "[encoded data removed]",
      "text/plain": [
       "<matplotlib.figure.Figure at 0x7f3e684a5198>"
      ]
     },
     "metadata": {},
     "output_type": "display_data"
    }
   ],
   "source": [
    "step(array, 1)\n",
    "plot_ca(array)"
   ]
  },
  {
   "cell_type": "markdown",
   "metadata": {},
   "source": [
    "And here's what it looks like with the rest of the cells filled in."
   ]
  },
  {
   "cell_type": "code",
   "execution_count": 12,
   "metadata": {},
   "outputs": [
    {
     "data": {
      "image/png": "[encoded data removed]",
      "text/plain": [
       "<matplotlib.figure.Figure at 0x7f3e68463128>"
      ]
     },
     "metadata": {},
     "output_type": "display_data"
    }
   ],
   "source": [
    "for i in range(1, rows):\n",
    "    step(array, i)\n",
    "\n",
    "plot_ca(array)"
   ]
  },
  {
   "cell_type": "markdown",
   "metadata": {},
   "source": [
    "For a simple set of rules, the behavior is more interesting than you might expect."
   ]
  },
  {
   "cell_type": "markdown",
   "metadata": {},
   "source": [
    "**Exercise:** Modify this code to increase the number of rows and columns and see what this CA does after more time steps."
   ]
  },
  {
   "cell_type": "markdown",
   "metadata": {},
   "source": [
    "## Cross correlation"
   ]
  },
  {
   "cell_type": "markdown",
   "metadata": {},
   "source": [
    "We can step the CA through time more quickly using \"cross correlation\".  To see how it works, the first step is to replace the slice operator with array multiplication.\n",
    "\n",
    "This window selects the first three elements of an array:"
   ]
  },
  {
   "cell_type": "code",
   "execution_count": 13,
   "metadata": {},
   "outputs": [
    {
     "name": "stdout",
     "output_type": "stream",
     "text": [
      "[1 1 1 0 0 0 0 0 0 0 0]\n",
      "[0 1 0 0 0 1 0 0 0 1 0]\n",
      "[0 1 0 0 0 0 0 0 0 0 0]\n"
     ]
    }
   ],
   "source": [
    "window = np.zeros(cols, dtype=np.int8)\n",
    "window[:3] = 1\n",
    "print(window)\n",
    "print(array[4])\n",
    "print(window * array[4])"
   ]
  },
  {
   "cell_type": "markdown",
   "metadata": {},
   "source": [
    "Then we can use `sum` and the modulus operator to compute the state of the first cell during the next timestep."
   ]
  },
  {
   "cell_type": "code",
   "execution_count": 14,
   "metadata": {},
   "outputs": [
    {
     "data": {
      "text/plain": [
       "1"
      ]
     },
     "execution_count": 14,
     "metadata": {},
     "output_type": "execute_result"
    }
   ],
   "source": [
    "sum(window * array[4]) % 2"
   ]
  },
  {
   "cell_type": "markdown",
   "metadata": {},
   "source": [
    "To compute the state of the next cell, we shift the window to the right."
   ]
  },
  {
   "cell_type": "code",
   "execution_count": 15,
   "metadata": {},
   "outputs": [
    {
     "name": "stdout",
     "output_type": "stream",
     "text": [
      "[0 1 1 1 0 0 0 0 0 0 0]\n"
     ]
    }
   ],
   "source": [
    "window = np.roll(window, 1)\n",
    "print(window)"
   ]
  },
  {
   "cell_type": "markdown",
   "metadata": {},
   "source": [
    "And repeat the multiply-sum-modulus operations."
   ]
  },
  {
   "cell_type": "code",
   "execution_count": 16,
   "metadata": {},
   "outputs": [
    {
     "data": {
      "text/plain": [
       "1"
      ]
     },
     "execution_count": 16,
     "metadata": {},
     "output_type": "execute_result"
    }
   ],
   "source": [
    "sum(window * array[4]) % 2"
   ]
  },
  {
   "cell_type": "markdown",
   "metadata": {},
   "source": [
    "Now we can rewrite `step` using these operations."
   ]
  },
  {
   "cell_type": "code",
   "execution_count": 17,
   "metadata": {
    "collapsed": true
   },
   "outputs": [],
   "source": [
    "def step2(array, i):\n",
    "    rows, cols = array.shape\n",
    "    window = np.zeros(cols)\n",
    "    window[:3] = 1\n",
    "    for j in range(1, cols):\n",
    "        array[i, j] = sum(window * array[i-1]) % 2\n",
    "        window = np.roll(window, 1)"
   ]
  },
  {
   "cell_type": "markdown",
   "metadata": {},
   "source": [
    "And we can confirm that we get the same result."
   ]
  },
  {
   "cell_type": "code",
   "execution_count": 18,
   "metadata": {},
   "outputs": [
    {
     "data": {
      "image/png": "[encoded data removed]",
      "text/plain": [
       "<matplotlib.figure.Figure at 0x7f3e684134a8>"
      ]
     },
     "metadata": {},
     "output_type": "display_data"
    }
   ],
   "source": [
    "for i in range(1, rows):\n",
    "    step2(array, i)\n",
    "\n",
    "plot_ca(array)"
   ]
  },
  {
   "cell_type": "markdown",
   "metadata": {},
   "source": [
    "That sequence of operations is called a \"sliding dot product\" or \"cross correlation\", and NumPy provides a function that computes it.  So we can replace the `for` loop with `np.correlate`.  The parameter `mode='same'` means that the result has the same length as `array[i]`. "
   ]
  },
  {
   "cell_type": "code",
   "execution_count": 19,
   "metadata": {
    "collapsed": true
   },
   "outputs": [],
   "source": [
    "def step3(array, i):\n",
    "    window = np.array([1, 1, 1])\n",
    "    array[i] = np.correlate(array[i-1], window, mode='same') % 2"
   ]
  },
  {
   "cell_type": "markdown",
   "metadata": {},
   "source": [
    "And the result is the same."
   ]
  },
  {
   "cell_type": "code",
   "execution_count": 20,
   "metadata": {},
   "outputs": [
    {
     "data": {
      "image/png": "[encoded data removed]",
      "text/plain": [
       "<matplotlib.figure.Figure at 0x7f3e683bdd68>"
      ]
     },
     "metadata": {},
     "output_type": "display_data"
    }
   ],
   "source": [
    "for i in range(1, rows):\n",
    "    step3(array, i)\n",
    "\n",
    "plot_ca(array)"
   ]
  },
  {
   "cell_type": "markdown",
   "metadata": {},
   "source": [
    "So that's good enough for a CA that only depends on the total number of \"on\" cells, but for more general CAs, we need a table that maps from the configuration of the neighborhood to the future state of the center cell.\n",
    "\n",
    "The following function makes the table by interpreting the Rule number in binary."
   ]
  },
  {
   "cell_type": "code",
   "execution_count": 21,
   "metadata": {
    "collapsed": true
   },
   "outputs": [],
   "source": [
    "def make_table(rule):\n",
    "    \"\"\"Make the table for a given CA rule.\n",
    "    \n",
    "    rule: int 0-255\n",
    "    \n",
    "    returns: array of 8 0s and 1s\n",
    "    \"\"\"\n",
    "    rule = np.array([rule], dtype=np.uint8)\n",
    "    table = np.unpackbits(rule)[::-1]\n",
    "    return table"
   ]
  },
  {
   "cell_type": "markdown",
   "metadata": {},
   "source": [
    "Here's what it looks like as an array:"
   ]
  },
  {
   "cell_type": "code",
   "execution_count": 22,
   "metadata": {},
   "outputs": [
    {
     "name": "stdout",
     "output_type": "stream",
     "text": [
      "[0 1 1 0 1 0 0 1]\n"
     ]
    }
   ],
   "source": [
    "table = make_table(150)\n",
    "print(table)"
   ]
  },
  {
   "cell_type": "markdown",
   "metadata": {},
   "source": [
    "If we correlate the row with the window `[4, 2, 1]`, it treats each neighborhood as a binary number between 000 and 111."
   ]
  },
  {
   "cell_type": "code",
   "execution_count": 23,
   "metadata": {},
   "outputs": [
    {
     "name": "stdout",
     "output_type": "stream",
     "text": [
      "[0 0 0 0 0 1 0 0 0 0 0]\n",
      "[0 0 0 0 1 2 4 0 0 0 0]\n",
      "[0 0 0 0 1 1 1 0 0 0 0]\n",
      "[0 0 0 1 3 7 6 4 0 0 0]\n",
      "[0 0 0 1 0 1 0 1 0 0 0]\n",
      "[0 0 1 2 5 2 5 2 4 0 0]\n",
      "[0 0 1 1 0 1 0 1 1 0 0]\n",
      "[0 1 3 6 5 2 5 3 6 4 0]\n"
     ]
    }
   ],
   "source": [
    "window = [4, 2, 1]\n",
    "corr = np.correlate(array[0], window, mode='same')\n",
    "print(array[0])\n",
    "print(corr)\n",
    "\n",
    "corr = np.correlate(array[1], window, mode='same')\n",
    "print(array[1])\n",
    "print(corr)\n",
    "\n",
    "corr = np.correlate(array[2], window, mode='same')\n",
    "print(array[2])\n",
    "print(corr)\n",
    "\n",
    "corr = np.correlate(array[3], window, mode='same')\n",
    "print(array[3])\n",
    "print(corr)"
   ]
  },
  {
   "cell_type": "markdown",
   "metadata": {},
   "source": [
    "Now we can use the result from `np.correlate` as an index into the table; the result is the next row of the array."
   ]
  },
  {
   "cell_type": "code",
   "execution_count": 24,
   "metadata": {},
   "outputs": [
    {
     "name": "stdout",
     "output_type": "stream",
     "text": [
      "[0 1 0 0 0 1 0 0 0 1 0]\n"
     ]
    }
   ],
   "source": [
    "array[1] = table[corr]\n",
    "print(array[1])"
   ]
  },
  {
   "cell_type": "markdown",
   "metadata": {},
   "source": [
    "We can wrap up that code in a function:"
   ]
  },
  {
   "cell_type": "code",
   "execution_count": 25,
   "metadata": {
    "collapsed": true
   },
   "outputs": [],
   "source": [
    "def step4(array, i):\n",
    "    window = np.array([4, 2, 1])\n",
    "    corr = np.correlate(array[i-1], window, mode='same')\n",
    "    array[i] = table[corr]"
   ]
  },
  {
   "cell_type": "markdown",
   "metadata": {},
   "source": [
    "And test it again."
   ]
  },
  {
   "cell_type": "code",
   "execution_count": 26,
   "metadata": {},
   "outputs": [
    {
     "data": {
      "image/png": "[encoded data removed]",
      "text/plain": [
       "<matplotlib.figure.Figure at 0x7f3e68319828>"
      ]
     },
     "metadata": {},
     "output_type": "display_data"
    }
   ],
   "source": [
    "for i in range(1, rows):\n",
    "    step4(array, i)\n",
    "\n",
    "plot_ca(array)"
   ]
  },
  {
   "cell_type": "markdown",
   "metadata": {},
   "source": [
    "How did I know that Rule 150 is the same as the previous CA?  I wrote out the table and converted it to binary."
   ]
  },
  {
   "cell_type": "markdown",
   "metadata": {
    "collapsed": true
   },
   "source": [
    "## The Cell1D object"
   ]
  },
  {
   "cell_type": "markdown",
   "metadata": {},
   "source": [
    "`Cell1D.py` provides a `Cell1D` class that encapsulates the code from the previous section.\n",
    "\n",
    "Here's an example that runs a Rule 50 CA for 10 steps."
   ]
  },
  {
   "cell_type": "code",
   "execution_count": 27,
   "metadata": {
    "collapsed": true
   },
   "outputs": [],
   "source": [
    "from Cell1D import Cell1D, Cell1DViewer"
   ]
  },
  {
   "cell_type": "code",
   "execution_count": 28,
   "metadata": {
    "collapsed": true
   },
   "outputs": [],
   "source": [
    "rule = 50\n",
    "n = 10\n",
    "ca = Cell1D(rule, n)\n",
    "ca.start_single()\n",
    "ca.loop(n-1)"
   ]
  },
  {
   "cell_type": "markdown",
   "metadata": {},
   "source": [
    "We can display the results:"
   ]
  },
  {
   "cell_type": "code",
   "execution_count": 29,
   "metadata": {},
   "outputs": [
    {
     "data": {
      "image/png": "[encoded data removed]",
      "text/plain": [
       "<matplotlib.figure.Figure at 0x7f3e6824b128>"
      ]
     },
     "metadata": {},
     "output_type": "display_data"
    }
   ],
   "source": [
    "viewer = Cell1DViewer(ca)\n",
    "viewer.draw()\n",
    "\n",
    "plt.savefig('chap05-1.pdf')"
   ]
  },
  {
   "cell_type": "markdown",
   "metadata": {},
   "source": [
    "Here's the Rule 50 table."
   ]
  },
  {
   "cell_type": "code",
   "execution_count": 30,
   "metadata": {},
   "outputs": [
    {
     "name": "stdout",
     "output_type": "stream",
     "text": [
      "[0 1 0 0 1 1 0 0]\n"
     ]
    }
   ],
   "source": [
    "print(ca.table)"
   ]
  },
  {
   "cell_type": "markdown",
   "metadata": {},
   "source": [
    "Another example:"
   ]
  },
  {
   "cell_type": "code",
   "execution_count": 31,
   "metadata": {
    "collapsed": true
   },
   "outputs": [],
   "source": [
    "rule = 150\n",
    "n = 5\n",
    "ca = Cell1D(rule, n)\n",
    "ca.start_single()\n",
    "ca.loop(n-1)"
   ]
  },
  {
   "cell_type": "code",
   "execution_count": 32,
   "metadata": {},
   "outputs": [
    {
     "data": {
      "image/png": "[encoded data removed]",
      "text/plain": [
       "<matplotlib.figure.Figure at 0x7f3e6825b048>"
      ]
     },
     "metadata": {},
     "output_type": "display_data"
    }
   ],
   "source": [
    "viewer = Cell1DViewer(ca)\n",
    "viewer.draw()\n",
    "\n",
    "plt.savefig('chap05-2.pdf')"
   ]
  },
  {
   "cell_type": "markdown",
   "metadata": {},
   "source": [
    "And one more example showing recursive structure."
   ]
  },
  {
   "cell_type": "code",
   "execution_count": 33,
   "metadata": {
    "collapsed": true
   },
   "outputs": [],
   "source": [
    "rule = 18\n",
    "n = 64\n",
    "ca = Cell1D(rule, n)\n",
    "ca.start_single()\n",
    "ca.loop(n-1)"
   ]
  },
  {
   "cell_type": "code",
   "execution_count": 34,
   "metadata": {},
   "outputs": [
    {
     "data": {
      "image/png": "[encoded data removed]",
      "text/plain": [
       "<matplotlib.figure.Figure at 0x7f3e682787b8>"
      ]
     },
     "metadata": {},
     "output_type": "display_data"
    }
   ],
   "source": [
    "viewer = Cell1DViewer(ca)\n",
    "viewer.draw()\n",
    "\n",
    "plt.savefig('chap05-3.pdf')"
   ]
  },
  {
   "cell_type": "markdown",
   "metadata": {},
   "source": [
    "Rule 30 generates a sequence of bits that is indistinguishable from random:"
   ]
  },
  {
   "cell_type": "code",
   "execution_count": 35,
   "metadata": {
    "collapsed": true
   },
   "outputs": [],
   "source": [
    "rule = 30\n",
    "n = 100\n",
    "ca = Cell1D(rule, n)\n",
    "ca.start_single()\n",
    "ca.loop(n-1)"
   ]
  },
  {
   "cell_type": "code",
   "execution_count": 36,
   "metadata": {},
   "outputs": [
    {
     "data": {
      "image/png": "[encoded data removed]",
      "text/plain": [
       "<matplotlib.figure.Figure at 0x7f3e681ff1d0>"
      ]
     },
     "metadata": {},
     "output_type": "display_data"
    }
   ],
   "source": [
    "viewer = Cell1DViewer(ca)\n",
    "viewer.draw()\n",
    "\n",
    "plt.savefig('chap05-4.pdf')"
   ]
  },
  {
   "cell_type": "markdown",
   "metadata": {},
   "source": [
    "And Rule 110 is Turing complete!"
   ]
  },
  {
   "cell_type": "code",
   "execution_count": 37,
   "metadata": {
    "collapsed": true
   },
   "outputs": [],
   "source": [
    "rule = 110\n",
    "n = 100\n",
    "ca = Cell1D(rule, n)\n",
    "ca.start_single()\n",
    "ca.loop(n-1)"
   ]
  },
  {
   "cell_type": "code",
   "execution_count": 38,
   "metadata": {},
   "outputs": [
    {
     "data": {
      "image/png": "[encoded data removed]",
      "text/plain": [
       "<matplotlib.figure.Figure at 0x7f3e67f3eb38>"
      ]
     },
     "metadata": {},
     "output_type": "display_data"
    }
   ],
   "source": [
    "viewer = Cell1DViewer(ca)\n",
    "viewer.draw()\n",
    "\n",
    "plt.savefig('chap05-5.pdf')"
   ]
  },
  {
   "cell_type": "markdown",
   "metadata": {},
   "source": [
    "Heres a longer run that has some spaceships."
   ]
  },
  {
   "cell_type": "code",
   "execution_count": 39,
   "metadata": {
    "collapsed": true
   },
   "outputs": [],
   "source": [
    "rule = 110\n",
    "n = 600\n",
    "ca = Cell1D(rule, n)\n",
    "ca.start_random()\n",
    "ca.loop(n-1)"
   ]
  },
  {
   "cell_type": "code",
   "execution_count": 40,
   "metadata": {},
   "outputs": [
    {
     "data": {
      "image/png": "[encoded data removed]",
      "text/plain": [
       "<matplotlib.figure.Figure at 0x7f3e67f0af98>"
      ]
     },
     "metadata": {},
     "output_type": "display_data"
    }
   ],
   "source": [
    "viewer = Cell1DViewer(ca)\n",
    "viewer.draw()\n",
    "\n",
    "plt.savefig('chap05-6.pdf')"
   ]
  },
  {
   "cell_type": "markdown",
   "metadata": {},
   "source": [
    "## Exercises"
   ]
  },
  {
   "cell_type": "markdown",
   "metadata": {},
   "source": [
    "**Exercise:** This exercise asks you to experiment with Rule 110 and see how\n",
    "many spaceships you can find.\n",
    "\n",
    "1. Read the [Wikipedia page about Rule 110](https://en.wikipedia.org/wiki/Rule_110), which describes its background pattern and spaceships.\n",
    "\n",
    "2. Create a Rule 110 CA with an initial condition that yields the\n",
    "  stable background pattern.  Note that the CA class provides\n",
    "`start_string`, which allow you to initialize the state of\n",
    "the array using a string of `1`s and `0`s.\n",
    "\n",
    "3. Modify the initial condition by adding different patterns in the\n",
    "  center of the row and see which ones yield spaceships.  You might\n",
    "  want to enumerate all possible patterns of $n$ bits, for some\n",
    "  reasonable value of $n$.  For each spaceship, can you find the\n",
    "  period and rate of translation?  What is the biggest spaceship you\n",
    "  can find?\n",
    "\n",
    "4. What happens when spaceships collide?"
   ]
  },
  {
   "cell_type": "code",
   "execution_count": 41,
   "metadata": {},
   "outputs": [
    {
     "name": "stdout",
     "output_type": "stream",
     "text": [
      "56\n"
     ]
    },
    {
     "data": {
      "image/png": "[encoded data removed]",
      "text/plain": [
       "<matplotlib.figure.Figure at 0x7f3e67ed7438>"
      ]
     },
     "metadata": {},
     "output_type": "display_data"
    }
   ],
   "source": [
    "from Cell1D import Wrap1D\n",
    "\n",
    "def create_ca(initial):\n",
    "    rule = 110\n",
    "    print(len(initial))\n",
    "    ca = Cell1D(110, len(initial), len(initial))\n",
    "\n",
    "    ca.start_string(initial)\n",
    "    ca.loop(len(initial)-1)    \n",
    "    return ca\n",
    "\n",
    "initial = '00010011011111'\n",
    "ca = create_ca(initial*4)\n",
    "viewer = Cell1DViewer(ca)\n",
    "viewer.draw()\n"
   ]
  },
  {
   "cell_type": "code",
   "execution_count": 42,
   "metadata": {},
   "outputs": [
    {
     "name": "stdout",
     "output_type": "stream",
     "text": [
      "93\n"
     ]
    },
    {
     "data": {
      "image/png": "[encoded data removed]",
      "text/plain": [
       "<matplotlib.figure.Figure at 0x7f3e67ecb320>"
      ]
     },
     "metadata": {},
     "output_type": "display_data"
    }
   ],
   "source": [
    "initial = '00010011011111'\n",
    "initial1 = '111'\n",
    "ca = create_ca(initial*3 + initial1*3 + initial*3)\n",
    "viewer = Cell1DViewer(ca)\n",
    "viewer.draw()\n"
   ]
  },
  {
   "cell_type": "markdown",
   "metadata": {},
   "source": [
    "The period is 5 pixels, and the rate of translation is 0."
   ]
  },
  {
   "cell_type": "code",
   "execution_count": 43,
   "metadata": {},
   "outputs": [
    {
     "name": "stdout",
     "output_type": "stream",
     "text": [
      "38\n"
     ]
    },
    {
     "data": {
      "image/png": "[encoded data removed]",
      "text/plain": [
       "<matplotlib.figure.Figure at 0x7f3e682f2048>"
      ]
     },
     "metadata": {},
     "output_type": "display_data"
    }
   ],
   "source": [
    "initial = '00010011011111'\n",
    "initial1 = '0001110111'\n",
    "ca = create_ca(initial + initial1 + initial)\n",
    "viewer = Cell1DViewer(ca)\n",
    "viewer.draw()\n"
   ]
  },
  {
   "cell_type": "code",
   "execution_count": 44,
   "metadata": {},
   "outputs": [
    {
     "name": "stdout",
     "output_type": "stream",
     "text": [
      "36\n"
     ]
    },
    {
     "data": {
      "image/png": "[encoded data removed]",
      "text/plain": [
       "<matplotlib.figure.Figure at 0x7f3e683b82b0>"
      ]
     },
     "metadata": {},
     "output_type": "display_data"
    }
   ],
   "source": [
    "initial = '00010011011111'\n",
    "initial1 = '00010011'\n",
    "ca = create_ca(initial + initial1 + initial)\n",
    "viewer = Cell1DViewer(ca)\n",
    "viewer.draw()\n"
   ]
  },
  {
   "cell_type": "code",
   "execution_count": 45,
   "metadata": {},
   "outputs": [
    {
     "name": "stdout",
     "output_type": "stream",
     "text": [
      "105\n"
     ]
    },
    {
     "data": {
      "image/png": "[encoded data removed]",
      "text/plain": [
       "<matplotlib.figure.Figure at 0x7f3e68417d30>"
      ]
     },
     "metadata": {},
     "output_type": "display_data"
    }
   ],
   "source": [
    "initial = '00010011011111'\n",
    "initial1 = '1001111'\n",
    "ca = create_ca(initial*3 + initial1*3 + initial*3)\n",
    "viewer = Cell1DViewer(ca)\n",
    "viewer.draw()\n"
   ]
  },
  {
   "cell_type": "markdown",
   "metadata": {},
   "source": [
    "\n",
    "\"\"\"def making_options(init):\n",
    "    options = []\n",
    "    for num, val in enumerate(init):\n",
    "        if init not in options:\n",
    "            options.append(init)\n",
    "            if int(val) == 0:\n",
    "                init_indexed = init[num]\n",
    "                init_indexed.replace('0', '1')\n",
    "                init[num]= init_indexed\n",
    "                options.append(init_indexed)\n",
    "            if int(val) == 1:\n",
    "                init_indexed = init[num]\n",
    "                init_indexed.replace('0', '1')\n",
    "                options.append(init_indexed)\n",
    "        else:\n",
    "            if int(val) == 0:\n",
    "                init_indexed = init[num]\n",
    "                init_indexed.replace('0', '1')\n",
    "                options.append(init_indexed)\n",
    "            if int(val) == 1:\n",
    "                init_indexed = init[num]\n",
    "                init_indexed.replace('0', '1')\n",
    "                options.append(init_indexed)\n",
    "    print(options)\n",
    "\n",
    "making_options(test)\n",
    "                \n",
    "new_test =+ 1\n",
    "print(new_test)\n",
    "new_test_1 = \"{0:b}\".format(new_test)\n",
    "print(new_test)\n",
    "ca = create_ca(new_test_1)\n",
    "Cell1DViewer(ca).draw\"\"\"\n",
    "    \n",
    "    \n",
    "    "
   ]
  },
  {
   "cell_type": "markdown",
   "metadata": {},
   "source": [
    "**Exercise:** The goal of this exercise is to implement a Turing machine.\n",
    "\n",
    "1. Read about Turing machines at http://en.wikipedia.org/wiki/Turing_machine.\n",
    "\n",
    "2. Write a class called `Turing` that implements a Turing machine.  For the action table, use the rules for a 3-state busy beaver.\n",
    "\n",
    "3. Write a class named `TuringDrawer` that generates an image that represents the state of the tape and the position and state of the head.  For one example of what that might look like, see http://mathworld.wolfram.com/TuringMachine.html.\n"
   ]
  },
  {
   "cell_type": "markdown",
   "metadata": {
    "collapsed": true
   },
   "source": [
    "This is my attempted broken version. I had to take inspiration from the solutions to do the rest of this problem. I promise I worked it through, only looking at it when I really needed it!\n",
    "\n",
    "class Turing():\n",
    "    def __init__(self,tape):\n",
    "        self.state = 'A'\n",
    "        self.tape=[[i, j] for i, j in enumerate(tape)]\n",
    "        self.val = len(self.tape)//2\n",
    "        \n",
    "    def find_current_state(self):\n",
    "        current_val = int(self.tape[self.val][1])\n",
    "        while True:\n",
    "            print(self.state)\n",
    "            print(current_val)\n",
    "            print(self.val)\n",
    "            if current_val == 0:\n",
    "                if self.state == 'A':\n",
    "                    self.tape[self.val][1] = str(1)\n",
    "                    self.val = self.val + 1\n",
    "                    self.state = 'B'\n",
    "                elif self.state == 'B':\n",
    "                    self.tape[self.val][1] = str(1)\n",
    "                    self.val = self.val -1\n",
    "                    self.state = 'A'\n",
    "                elif self.state == 'C':\n",
    "                    self.tape[self.val][1] = str(1)\n",
    "                    self.val = self.val -1\n",
    "                    self.state = 'B'\n",
    "            elif current_val == 1:\n",
    "                if self.state == 'A':\n",
    "                    self.tape[self.val][1] = str(1)\n",
    "                    self.val = self.val -1\n",
    "                    self.state = 'C'\n",
    "                elif self.state == 'B':\n",
    "                    self.tape[self.val][1] = str(1)\n",
    "                    self.val = self.val + 1\n",
    "                    self.state = 'B'\n",
    "                    print(self.tape)\n",
    "                elif self.state == 'C':\n",
    "                    print(self.tape)\n",
    "                    break\n",
    "            current_val = int(self.tape[self.val][1])\n",
    "        return self.tape\n",
    "    \n",
    "    def get_array(self):\n",
    "        return self.find_current_state()\n",
    "\n",
    "         \n",
    "        \n",
    "    "
   ]
  },
  {
   "cell_type": "code",
   "execution_count": 46,
   "metadata": {
    "collapsed": true
   },
   "outputs": [],
   "source": [
    "table = {}\n",
    "table[0, 'A'] = 1, 'R', 'B' \n",
    "table[0, 'B'] = 1, 'L', 'A' \n",
    "table[0, 'C'] = 1, 'L', 'B'\n",
    "table[1, 'A'] = 1, 'L', 'C' \n",
    "table[1, 'B'] = 1, 'R', 'B' \n",
    "table[1, 'C'] = 1, 'R', 'HALT'"
   ]
  },
  {
   "cell_type": "code",
   "execution_count": 47,
   "metadata": {
    "collapsed": true
   },
   "outputs": [],
   "source": [
    "class Turing():\n",
    "    def __init__(self, table, n,m):\n",
    "        self.table = table\n",
    "        self.n = n\n",
    "        self.m = m\n",
    "        self.tape = np.zeros((self.n, self.m), dtype = np.int8)\n",
    "        self.head = np.zeros(n, dtype = np.int8)\n",
    "        self.head[0] = m//2 #starting state in middle\n",
    "        self.state = 'A'\n",
    "        self.next = 1\n",
    "    \n",
    "    def step(self):\n",
    "        if self.state == 'HALT':\n",
    "            raise StopIteration\n",
    "        loc = self.tape #keeping it in this function\n",
    "        i = self.next\n",
    "        loc[i] = loc[i - 1] # current location changing based on self.next\n",
    "        head = self.head[i - 1] # changes location based on self.next\n",
    "        val = loc[i-1, head] # at this location find what the table is\n",
    "        print(val, self.state)\n",
    "        new_val, direction, self.state = self.table[val, self.state] # find the corresponding value and direction it should have\n",
    "        print(new_val, direction, self.state)\n",
    "        loc[i,head] = new_val # new value assigned to the specifc location\n",
    "        if direction == 'R':\n",
    "            head += 1\n",
    "        else:\n",
    "            head -= 1 # changing the next location\n",
    "        self.next += 1 # keeps track of location of where tape should be\n",
    "        self.head[i] = head # where you should start next time\n",
    "    \n",
    "    def loop(self, steps = 1):\n",
    "        for i in range(steps):\n",
    "            try:\n",
    "                self.step()\n",
    "            except StopIteration:\n",
    "                break\n",
    "    \n",
    "    def get_array(self, start=0, end=None):\n",
    "        if start == 0 and end == None:\n",
    "            return self.tape\n",
    "        else:\n",
    "            return self.tape[:, start:end]"
   ]
  },
  {
   "cell_type": "code",
   "execution_count": 48,
   "metadata": {},
   "outputs": [
    {
     "name": "stdout",
     "output_type": "stream",
     "text": [
      "0 A\n",
      "1 R B\n",
      "0 B\n",
      "1 L A\n",
      "1 A\n",
      "1 L C\n",
      "0 C\n",
      "1 L B\n",
      "0 B\n",
      "1 L A\n",
      "0 A\n",
      "1 R B\n",
      "1 B\n",
      "1 R B\n",
      "1 B\n",
      "1 R B\n",
      "1 B\n",
      "1 R B\n"
     ]
    }
   ],
   "source": [
    "n = 10\n",
    "m = 10\n",
    "turing = Turing(table,n,m)\n",
    "turing.loop(n-1)"
   ]
  },
  {
   "cell_type": "code",
   "execution_count": 49,
   "metadata": {
    "collapsed": true
   },
   "outputs": [],
   "source": [
    "# Solution\n",
    "\n",
    "# The following class draws the TM.\n",
    "\n",
    "class TuringDrawer:\n",
    "    \"\"\"Draw a Turing object using matplotlib.\"\"\"\n",
    "        \n",
    "    def draw(self, ca, start=0, end=None):\n",
    "        \"\"\"Draws the CA using pyplot.pcolor.\n",
    "        \n",
    "        start: index of the first column to be shown \n",
    "        end: index of the last column to be shown\n",
    "        \"\"\"\n",
    "        a = ca.get_array()\n",
    "        print(a)\n",
    "        cmap = plt.get_cmap('Blues')\n",
    "        plt.imshow(a, interpolation='nearest', cmap=cmap)\n",
    "\n",
    "        # empty lists draw no ticks\n",
    "        plt.xticks([])\n",
    "        plt.yticks([])\n",
    "        \n",
    "        xs = ca.head\n",
    "        ys = np.arange(len(xs))\n",
    "        plt.plot(xs, ys, 'r.')"
   ]
  },
  {
   "cell_type": "code",
   "execution_count": 50,
   "metadata": {},
   "outputs": [
    {
     "name": "stdout",
     "output_type": "stream",
     "text": [
      "[[0 0 0 0 0 0 0 0 0 0]\n",
      " [0 0 0 0 0 1 0 0 0 0]\n",
      " [0 0 0 0 0 1 1 0 0 0]\n",
      " [0 0 0 0 0 1 1 0 0 0]\n",
      " [0 0 0 0 1 1 1 0 0 0]\n",
      " [0 0 0 1 1 1 1 0 0 0]\n",
      " [0 0 1 1 1 1 1 0 0 0]\n",
      " [0 0 1 1 1 1 1 0 0 0]\n",
      " [0 0 1 1 1 1 1 0 0 0]\n",
      " [0 0 1 1 1 1 1 0 0 0]]\n"
     ]
    },
    {
     "data": {
      "image/png": "[encoded data removed]",
      "text/plain": [
       "<matplotlib.figure.Figure at 0x7f3e67e835f8>"
      ]
     },
     "metadata": {},
     "output_type": "display_data"
    }
   ],
   "source": [
    "\n",
    "td = TuringDrawer()\n",
    "td.draw(turing)"
   ]
  },
  {
   "cell_type": "markdown",
   "metadata": {},
   "source": [
    "**Exercise:** This exercise asks you to implement and test several PRNGs.\n",
    "For testing, you will need to install \n",
    "`DieHarder`, which you can download from \n",
    "https://www.phy.duke.edu/~rgb/General/dieharder.php, or it\n",
    "might be available as a package for your operating system.\n",
    "\n",
    "1. Write a program that implements one of the linear congruential\n",
    "generators described at http://en.wikipedia.org/wiki/Linear_congruential_generator}.\n",
    "Test it using `DieHarder`.\n",
    "\n",
    "2. Read the documentation of Python's `random` module.\n",
    "What PRNG does it use?  Test it.\n",
    "\n",
    "3. Implement a Rule 30 CA with a few hundred cells,\n",
    "run it for as many time steps as you can in a reasonable amount\n",
    "of time, and output the center column as a sequence of bits.\n",
    "Test it.\n"
   ]
  },
  {
   "cell_type": "code",
   "execution_count": 51,
   "metadata": {},
   "outputs": [
    {
     "data": {
      "text/plain": [
       "<generator object lcg at 0x7f3e6a52bbf8>"
      ]
     },
     "execution_count": 51,
     "metadata": {},
     "output_type": "execute_result"
    }
   ],
   "source": [
    "import time\n",
    "def lcg(modulus, a, c, seed):\n",
    "    while True:\n",
    "        seed =  (a * seed + c) % modulus\n",
    "        yield seed\n",
    "\n",
    "seed = [x for x in range(0,30)]\n",
    "lcg(9,2,0,seed)"
   ]
  },
  {
   "cell_type": "markdown",
   "metadata": {
    "collapsed": true
   },
   "source": [
    "Python's random module uses Mersenne Twister that produces 53-bit precision floats. It is completely deterministic."
   ]
  },
  {
   "cell_type": "code",
   "execution_count": 63,
   "metadata": {},
   "outputs": [
    {
     "name": "stdout",
     "output_type": "stream",
     "text": [
      "[1 0 0 ..., 0 0 0]\n",
      "[1 1 0 ..., 0 0 0]\n",
      "[1 1 0 ..., 0 0 0]\n",
      "[1 1 0 ..., 0 0 0]\n",
      "[1 1 0 ..., 0 0 0]\n",
      "[1 1 0 ..., 0 0 0]\n",
      "[1 1 0 ..., 0 0 0]\n",
      "[1 1 0 ..., 0 0 0]\n",
      "[1 1 0 ..., 0 0 0]\n",
      "[1 1 0 ..., 0 0 0]\n",
      "[1 1 0 ..., 0 0 0]\n",
      "[1 1 0 ..., 0 0 0]\n",
      "[1 1 0 ..., 0 0 0]\n",
      "[1 1 0 ..., 0 0 0]\n",
      "[1 1 0 ..., 0 0 0]\n",
      "[1 1 0 ..., 0 0 0]\n",
      "[1 1 0 ..., 0 0 0]\n",
      "[1 1 0 ..., 0 0 0]\n",
      "[1 1 0 ..., 0 0 0]\n",
      "[1 1 0 ..., 0 0 0]\n",
      "[1 1 0 ..., 0 0 0]\n",
      "[1 1 0 ..., 0 0 0]\n",
      "[1 1 0 ..., 0 0 0]\n",
      "[1 1 0 ..., 0 0 0]\n",
      "[1 1 0 ..., 0 0 0]\n",
      "[1 1 0 ..., 0 0 0]\n",
      "[1 1 0 ..., 0 0 0]\n",
      "[1 1 0 ..., 0 0 0]\n",
      "[1 1 0 ..., 0 0 0]\n",
      "[1 1 0 ..., 0 0 0]\n",
      "[1 1 0 ..., 0 0 0]\n",
      "[1 1 0 ..., 0 0 0]\n",
      "[1 1 0 ..., 0 0 0]\n",
      "[1 1 0 ..., 0 0 0]\n",
      "[1 1 0 ..., 0 0 0]\n",
      "[1 1 0 ..., 0 0 0]\n",
      "[1 1 0 ..., 0 0 0]\n",
      "[1 1 0 ..., 0 0 0]\n",
      "[1 1 0 ..., 0 0 0]\n",
      "[1 1 0 ..., 0 0 0]\n",
      "[1 1 0 ..., 0 0 0]\n",
      "[1 1 0 ..., 0 0 0]\n",
      "[1 1 0 ..., 0 0 0]\n",
      "[1 1 0 ..., 0 0 0]\n",
      "[1 1 0 ..., 0 0 0]\n",
      "[1 1 0 ..., 0 0 0]\n",
      "[1 1 0 ..., 0 0 0]\n",
      "[1 1 0 ..., 0 0 0]\n",
      "[1 1 0 ..., 0 0 0]\n",
      "[1 1 0 ..., 0 0 0]\n",
      "[1 1 0 ..., 0 0 0]\n",
      "[1 1 0 ..., 0 0 0]\n",
      "[1 1 0 ..., 0 0 0]\n",
      "[1 1 0 ..., 0 0 0]\n",
      "[1 1 0 ..., 0 0 0]\n",
      "[1 1 0 ..., 0 0 0]\n",
      "[1 1 0 ..., 0 0 0]\n",
      "[1 1 0 ..., 0 0 0]\n",
      "[1 1 0 ..., 0 0 0]\n",
      "[1 1 0 ..., 0 0 0]\n",
      "[1 1 0 ..., 0 0 0]\n",
      "[1 1 0 ..., 0 0 0]\n",
      "[1 1 0 ..., 0 0 0]\n",
      "[1 1 0 ..., 0 0 0]\n",
      "[1 1 0 ..., 0 0 0]\n",
      "[1 1 0 ..., 0 0 0]\n",
      "[1 1 0 ..., 0 0 0]\n",
      "[1 1 0 ..., 0 0 0]\n",
      "[1 1 0 ..., 0 0 0]\n",
      "[1 1 0 ..., 0 0 0]\n",
      "[1 1 0 ..., 0 0 0]\n",
      "[1 1 0 ..., 0 0 0]\n",
      "[1 1 0 ..., 0 0 0]\n",
      "[1 1 0 ..., 0 0 0]\n",
      "[1 1 0 ..., 0 0 0]\n",
      "[1 1 0 ..., 0 0 0]\n",
      "[1 1 0 ..., 0 0 0]\n",
      "[1 1 0 ..., 0 0 0]\n",
      "[1 1 0 ..., 0 0 0]\n",
      "[1 1 0 ..., 0 0 0]\n",
      "[1 1 0 ..., 0 0 0]\n",
      "[1 1 0 ..., 0 0 0]\n",
      "[1 1 0 ..., 0 0 0]\n",
      "[1 1 0 ..., 0 0 0]\n",
      "[1 1 0 ..., 0 0 0]\n",
      "[1 1 0 ..., 0 0 0]\n",
      "[1 1 0 ..., 0 0 0]\n",
      "[1 1 0 ..., 0 0 0]\n",
      "[1 1 0 ..., 0 0 0]\n",
      "[1 1 0 ..., 0 0 0]\n",
      "[1 1 0 ..., 0 0 0]\n",
      "[1 1 0 ..., 0 0 0]\n",
      "[1 1 0 ..., 0 0 0]\n",
      "[1 1 0 ..., 0 0 0]\n",
      "[1 1 0 ..., 0 0 0]\n",
      "[1 1 0 ..., 0 0 0]\n",
      "[1 1 0 ..., 0 0 0]\n",
      "[1 1 0 ..., 0 0 0]\n",
      "[1 1 0 ..., 0 0 0]\n",
      "[1 1 0 ..., 0 0 0]\n",
      "[1 1 0 ..., 0 0 0]\n",
      "[1 1 0 ..., 0 0 0]\n",
      "[1 1 0 ..., 0 0 0]\n",
      "[1 1 0 ..., 0 0 0]\n",
      "[1 1 0 ..., 0 0 0]\n",
      "[1 1 0 ..., 0 0 0]\n",
      "[1 1 0 ..., 0 0 0]\n",
      "[1 1 0 ..., 0 0 0]\n",
      "[1 1 0 ..., 0 0 0]\n",
      "[1 1 0 ..., 0 0 0]\n",
      "[1 1 0 ..., 0 0 0]\n",
      "[1 1 0 ..., 0 0 0]\n",
      "[1 1 0 ..., 0 0 0]\n",
      "[1 1 0 ..., 0 0 0]\n",
      "[1 1 0 ..., 0 0 0]\n",
      "[1 1 0 ..., 0 0 0]\n",
      "[1 1 0 ..., 0 0 0]\n",
      "[1 1 0 ..., 0 0 0]\n",
      "[1 1 0 ..., 0 0 0]\n",
      "[1 1 0 ..., 0 0 0]\n",
      "[1 1 0 ..., 0 0 0]\n",
      "[1 1 0 ..., 0 0 0]\n",
      "[1 1 0 ..., 0 0 0]\n",
      "[1 1 0 ..., 0 0 0]\n",
      "[1 1 0 ..., 0 0 0]\n",
      "[1 1 0 ..., 0 0 0]\n",
      "[1 1 0 ..., 0 0 0]\n",
      "[1 1 0 ..., 0 0 0]\n",
      "[1 1 0 ..., 0 0 0]\n",
      "[1 1 0 ..., 0 0 0]\n",
      "[1 1 0 ..., 0 0 0]\n",
      "[1 1 0 ..., 0 0 0]\n",
      "[1 1 0 ..., 0 0 0]\n",
      "[1 1 0 ..., 0 0 0]\n",
      "[1 1 0 ..., 0 0 0]\n",
      "[1 1 0 ..., 0 0 0]\n",
      "[1 1 0 ..., 0 0 0]\n",
      "[1 1 0 ..., 0 0 0]\n",
      "[1 1 0 ..., 0 0 0]\n",
      "[1 1 0 ..., 0 0 0]\n",
      "[1 1 0 ..., 0 0 0]\n",
      "[1 1 0 ..., 0 0 0]\n",
      "[1 1 0 ..., 0 0 0]\n",
      "[1 1 0 ..., 0 0 0]\n",
      "[1 1 0 ..., 0 0 0]\n",
      "[1 1 0 ..., 0 0 0]\n",
      "[1 1 0 ..., 0 0 0]\n",
      "[1 1 0 ..., 0 0 0]\n",
      "[1 1 0 ..., 0 0 0]\n",
      "[1 1 0 ..., 0 0 0]\n",
      "[1 1 0 ..., 0 0 0]\n",
      "[1 1 0 ..., 0 0 0]\n",
      "[1 1 0 ..., 0 0 0]\n",
      "[1 1 0 ..., 0 0 0]\n",
      "[1 1 0 ..., 0 0 0]\n",
      "[1 1 0 ..., 0 0 0]\n",
      "[1 1 0 ..., 0 0 0]\n",
      "[1 1 0 ..., 0 0 0]\n",
      "[1 1 0 ..., 0 0 0]\n",
      "[1 1 0 ..., 0 0 0]\n",
      "[1 1 0 ..., 0 0 0]\n",
      "[1 1 0 ..., 0 0 0]\n",
      "[1 1 0 ..., 0 0 0]\n",
      "[1 1 0 ..., 0 0 0]\n",
      "[1 1 0 ..., 0 0 0]\n",
      "[1 1 0 ..., 0 0 0]\n",
      "[1 1 0 ..., 0 0 0]\n",
      "[1 1 0 ..., 0 0 0]\n",
      "[1 1 0 ..., 0 0 0]\n",
      "[1 1 0 ..., 0 0 0]\n",
      "[1 1 0 ..., 0 0 0]\n",
      "[1 1 0 ..., 0 0 0]\n",
      "[1 1 0 ..., 0 0 0]\n",
      "[1 1 0 ..., 0 0 0]\n",
      "[1 1 0 ..., 0 0 0]\n",
      "[1 1 0 ..., 0 0 0]\n",
      "[1 1 0 ..., 0 0 0]\n",
      "[1 1 0 ..., 0 0 0]\n",
      "[1 1 0 ..., 0 0 0]\n",
      "[1 1 0 ..., 0 0 0]\n",
      "[1 1 0 ..., 0 0 0]\n",
      "[1 1 0 ..., 0 0 0]\n",
      "[1 1 0 ..., 0 0 0]\n",
      "[1 1 0 ..., 0 0 0]\n",
      "[1 1 0 ..., 0 0 0]\n",
      "[1 1 0 ..., 0 0 0]\n",
      "[1 1 0 ..., 0 0 0]\n",
      "[1 1 0 ..., 0 0 0]\n",
      "[1 1 0 ..., 0 0 0]\n",
      "[1 1 0 ..., 0 0 0]\n",
      "[1 1 0 ..., 0 0 0]\n",
      "[1 1 0 ..., 0 0 0]\n",
      "[1 1 0 ..., 0 0 0]\n",
      "[1 1 0 ..., 0 0 0]\n",
      "[1 1 0 ..., 0 0 0]\n",
      "[1 1 0 ..., 0 0 0]\n",
      "[1 1 0 ..., 0 0 0]\n",
      "[1 1 0 ..., 0 0 0]\n",
      "[1 1 0 ..., 0 0 0]\n",
      "[1 1 0 ..., 0 0 0]\n"
     ]
    },
    {
     "ename": "IndexError",
     "evalue": "index 20000 is out of bounds for axis 0 with size 20000",
     "output_type": "error",
     "traceback": [
      "\u001b[0;31m---------------------------------------------------------------------------\u001b[0m",
      "\u001b[0;31mIndexError\u001b[0m                                Traceback (most recent call last)",
      "\u001b[0;32m<ipython-input-63-c4bdd7856f46>\u001b[0m in \u001b[0;36m<module>\u001b[0;34m()\u001b[0m\n\u001b[1;32m      5\u001b[0m \u001b[0mca\u001b[0m\u001b[0;34m.\u001b[0m\u001b[0mstart_single\u001b[0m\u001b[0;34m(\u001b[0m\u001b[0;34m)\u001b[0m\u001b[0;34m\u001b[0m\u001b[0m\n\u001b[1;32m      6\u001b[0m \u001b[0;32mfor\u001b[0m \u001b[0mi\u001b[0m \u001b[0;32min\u001b[0m \u001b[0mrange\u001b[0m\u001b[0;34m(\u001b[0m\u001b[0mn\u001b[0m\u001b[0;34m-\u001b[0m\u001b[0;36m1\u001b[0m\u001b[0;34m)\u001b[0m\u001b[0;34m:\u001b[0m\u001b[0;34m\u001b[0m\u001b[0m\n\u001b[0;32m----> 7\u001b[0;31m     \u001b[0mca\u001b[0m\u001b[0;34m.\u001b[0m\u001b[0mloop\u001b[0m\u001b[0;34m(\u001b[0m\u001b[0mi\u001b[0m\u001b[0;34m)\u001b[0m\u001b[0;34m\u001b[0m\u001b[0m\n\u001b[0m\u001b[1;32m      8\u001b[0m     \u001b[0mprint\u001b[0m\u001b[0;34m(\u001b[0m\u001b[0mca\u001b[0m\u001b[0;34m.\u001b[0m\u001b[0marray\u001b[0m\u001b[0;34m[\u001b[0m\u001b[0;34m:\u001b[0m\u001b[0;34m,\u001b[0m\u001b[0mm\u001b[0m\u001b[0;34m//\u001b[0m\u001b[0;36m2\u001b[0m\u001b[0;34m]\u001b[0m\u001b[0;34m)\u001b[0m\u001b[0;34m\u001b[0m\u001b[0m\n",
      "\u001b[0;32m~/Documents/ThinkComplexity2/code/Cell1D.py\u001b[0m in \u001b[0;36mloop\u001b[0;34m(self, steps)\u001b[0m\n\u001b[1;32m     62\u001b[0m         \u001b[0;34m\"\"\"Executes the given number of time steps.\"\"\"\u001b[0m\u001b[0;34m\u001b[0m\u001b[0m\n\u001b[1;32m     63\u001b[0m         \u001b[0;32mfor\u001b[0m \u001b[0mi\u001b[0m \u001b[0;32min\u001b[0m \u001b[0mrange\u001b[0m\u001b[0;34m(\u001b[0m\u001b[0msteps\u001b[0m\u001b[0;34m)\u001b[0m\u001b[0;34m:\u001b[0m\u001b[0;34m\u001b[0m\u001b[0m\n\u001b[0;32m---> 64\u001b[0;31m             \u001b[0mself\u001b[0m\u001b[0;34m.\u001b[0m\u001b[0mstep\u001b[0m\u001b[0;34m(\u001b[0m\u001b[0;34m)\u001b[0m\u001b[0;34m\u001b[0m\u001b[0m\n\u001b[0m\u001b[1;32m     65\u001b[0m \u001b[0;34m\u001b[0m\u001b[0m\n\u001b[1;32m     66\u001b[0m     \u001b[0;32mdef\u001b[0m \u001b[0mstep\u001b[0m\u001b[0;34m(\u001b[0m\u001b[0mself\u001b[0m\u001b[0;34m)\u001b[0m\u001b[0;34m:\u001b[0m\u001b[0;34m\u001b[0m\u001b[0m\n",
      "\u001b[0;32m~/Documents/ThinkComplexity2/code/Cell1D.py\u001b[0m in \u001b[0;36mstep\u001b[0;34m(self)\u001b[0m\n\u001b[1;32m     70\u001b[0m         \u001b[0mwindow\u001b[0m \u001b[0;34m=\u001b[0m \u001b[0;34m[\u001b[0m\u001b[0;36m4\u001b[0m\u001b[0;34m,\u001b[0m \u001b[0;36m2\u001b[0m\u001b[0;34m,\u001b[0m \u001b[0;36m1\u001b[0m\u001b[0;34m]\u001b[0m\u001b[0;34m\u001b[0m\u001b[0m\n\u001b[1;32m     71\u001b[0m         \u001b[0mcorr\u001b[0m \u001b[0;34m=\u001b[0m \u001b[0mnp\u001b[0m\u001b[0;34m.\u001b[0m\u001b[0mcorrelate\u001b[0m\u001b[0;34m(\u001b[0m\u001b[0ma\u001b[0m\u001b[0;34m[\u001b[0m\u001b[0mi\u001b[0m\u001b[0;34m-\u001b[0m\u001b[0;36m1\u001b[0m\u001b[0;34m]\u001b[0m\u001b[0;34m,\u001b[0m \u001b[0mwindow\u001b[0m\u001b[0;34m,\u001b[0m \u001b[0mmode\u001b[0m\u001b[0;34m=\u001b[0m\u001b[0;34m'same'\u001b[0m\u001b[0;34m)\u001b[0m\u001b[0;34m\u001b[0m\u001b[0m\n\u001b[0;32m---> 72\u001b[0;31m         \u001b[0ma\u001b[0m\u001b[0;34m[\u001b[0m\u001b[0mi\u001b[0m\u001b[0;34m]\u001b[0m \u001b[0;34m=\u001b[0m \u001b[0mself\u001b[0m\u001b[0;34m.\u001b[0m\u001b[0mtable\u001b[0m\u001b[0;34m[\u001b[0m\u001b[0mcorr\u001b[0m\u001b[0;34m]\u001b[0m\u001b[0;34m\u001b[0m\u001b[0m\n\u001b[0m\u001b[1;32m     73\u001b[0m         \u001b[0mself\u001b[0m\u001b[0;34m.\u001b[0m\u001b[0mnext\u001b[0m \u001b[0;34m+=\u001b[0m \u001b[0;36m1\u001b[0m\u001b[0;34m\u001b[0m\u001b[0m\n\u001b[1;32m     74\u001b[0m \u001b[0;34m\u001b[0m\u001b[0m\n",
      "\u001b[0;31mIndexError\u001b[0m: index 20000 is out of bounds for axis 0 with size 20000"
     ]
    }
   ],
   "source": [
    "rule = 30\n",
    "m = 10001\n",
    "n = 20000\n",
    "ca = Cell1D(rule, n, m)\n",
    "ca.start_single()\n",
    "for i in range(n-1):\n",
    "    ca.loop(i)\n",
    "    print(ca.array[:,m//2])"
   ]
  },
  {
   "cell_type": "code",
   "execution_count": null,
   "metadata": {
    "collapsed": true
   },
   "outputs": [],
   "source": []
  }
 ],
 "metadata": {
  "kernelspec": {
   "display_name": "Python 3",
   "language": "python",
   "name": "python3"
  },
  "language_info": {
   "codemirror_mode": {
    "name": "ipython",
    "version": 3
   },
   "file_extension": ".py",
   "mimetype": "text/x-python",
   "name": "python",
   "nbconvert_exporter": "python",
   "pygments_lexer": "ipython3",
   "version": "3.5.2"
  }
 },
 "nbformat": 4,
 "nbformat_minor": 1
}
